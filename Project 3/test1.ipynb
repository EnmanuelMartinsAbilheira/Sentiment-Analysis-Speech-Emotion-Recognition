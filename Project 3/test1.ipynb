{
 "cells": [
  {
   "cell_type": "code",
   "execution_count": 6,
   "metadata": {},
   "outputs": [
    {
     "data": {
      "application/vnd.microsoft.datawrangler.viewer.v0+json": {
       "columns": [
        {
         "name": "index",
         "rawType": "int64",
         "type": "integer"
        },
        {
         "name": "Sentence",
         "rawType": "object",
         "type": "string"
        },
        {
         "name": "Type",
         "rawType": "object",
         "type": "string"
        },
        {
         "name": "Factual/Subjective",
         "rawType": "object",
         "type": "string"
        },
        {
         "name": "Sentiment",
         "rawType": "object",
         "type": "string"
        }
       ],
       "conversionMethod": "pd.DataFrame",
       "ref": "82a4e339-fdaa-4edd-ad81-7aa7dddea9fa",
       "rows": [
        [
         "0",
         "Sharks don’t live in freshwater.",
         "Negation",
         "Factual",
         "Neutral"
        ],
        [
         "1",
         "She doesn’t listen to advice.",
         "Negation",
         "Subjective",
         "Anger"
        ],
        [
         "2",
         "Music can lift my mood.",
         "Affirmation",
         "Subjective",
         "Happiness"
        ],
        [
         "3",
         "The capital of France is Paris.",
         "Affirmation",
         "Factual",
         "Neutral"
        ],
        [
         "4",
         "Speaking in front of a crowd is terrifying.",
         "Affirmation",
         "Subjective",
         "Sadness"
        ]
       ],
       "shape": {
        "columns": 4,
        "rows": 5
       }
      },
      "text/html": [
       "<div>\n",
       "<style scoped>\n",
       "    .dataframe tbody tr th:only-of-type {\n",
       "        vertical-align: middle;\n",
       "    }\n",
       "\n",
       "    .dataframe tbody tr th {\n",
       "        vertical-align: top;\n",
       "    }\n",
       "\n",
       "    .dataframe thead th {\n",
       "        text-align: right;\n",
       "    }\n",
       "</style>\n",
       "<table border=\"1\" class=\"dataframe\">\n",
       "  <thead>\n",
       "    <tr style=\"text-align: right;\">\n",
       "      <th></th>\n",
       "      <th>Sentence</th>\n",
       "      <th>Type</th>\n",
       "      <th>Factual/Subjective</th>\n",
       "      <th>Sentiment</th>\n",
       "    </tr>\n",
       "  </thead>\n",
       "  <tbody>\n",
       "    <tr>\n",
       "      <th>0</th>\n",
       "      <td>Sharks don’t live in freshwater.</td>\n",
       "      <td>Negation</td>\n",
       "      <td>Factual</td>\n",
       "      <td>Neutral</td>\n",
       "    </tr>\n",
       "    <tr>\n",
       "      <th>1</th>\n",
       "      <td>She doesn’t listen to advice.</td>\n",
       "      <td>Negation</td>\n",
       "      <td>Subjective</td>\n",
       "      <td>Anger</td>\n",
       "    </tr>\n",
       "    <tr>\n",
       "      <th>2</th>\n",
       "      <td>Music can lift my mood.</td>\n",
       "      <td>Affirmation</td>\n",
       "      <td>Subjective</td>\n",
       "      <td>Happiness</td>\n",
       "    </tr>\n",
       "    <tr>\n",
       "      <th>3</th>\n",
       "      <td>The capital of France is Paris.</td>\n",
       "      <td>Affirmation</td>\n",
       "      <td>Factual</td>\n",
       "      <td>Neutral</td>\n",
       "    </tr>\n",
       "    <tr>\n",
       "      <th>4</th>\n",
       "      <td>Speaking in front of a crowd is terrifying.</td>\n",
       "      <td>Affirmation</td>\n",
       "      <td>Subjective</td>\n",
       "      <td>Sadness</td>\n",
       "    </tr>\n",
       "  </tbody>\n",
       "</table>\n",
       "</div>"
      ],
      "text/plain": [
       "                                      Sentence         Type  \\\n",
       "0             Sharks don’t live in freshwater.     Negation   \n",
       "1                She doesn’t listen to advice.     Negation   \n",
       "2                      Music can lift my mood.  Affirmation   \n",
       "3              The capital of France is Paris.  Affirmation   \n",
       "4  Speaking in front of a crowd is terrifying.  Affirmation   \n",
       "\n",
       "  Factual/Subjective  Sentiment  \n",
       "0            Factual    Neutral  \n",
       "1         Subjective      Anger  \n",
       "2         Subjective  Happiness  \n",
       "3            Factual    Neutral  \n",
       "4         Subjective    Sadness  "
      ]
     },
     "execution_count": 6,
     "metadata": {},
     "output_type": "execute_result"
    }
   ],
   "source": [
    "import pandas as pd\n",
    "from sklearn.preprocessing import LabelEncoder\n",
    "\n",
    "# Read the CSV file\n",
    "df = pd.read_csv('dataset.csv')\n",
    "\n",
    "# Shuffle the data\n",
    "df = df.sample(frac=1).reset_index(drop=True)\n",
    "df.head()"
   ]
  },
  {
   "cell_type": "code",
   "execution_count": 7,
   "metadata": {},
   "outputs": [
    {
     "data": {
      "text/plain": [
       "Affirmation    1213\n",
       "Negation        680\n",
       "Name: Type, dtype: int64"
      ]
     },
     "execution_count": 7,
     "metadata": {},
     "output_type": "execute_result"
    }
   ],
   "source": [
    "# Verify Class balance \"Type\" column\n",
    "df['Type'].value_counts()  "
   ]
  },
  {
   "cell_type": "code",
   "execution_count": 8,
   "metadata": {},
   "outputs": [
    {
     "data": {
      "text/plain": [
       "Subjective    1086\n",
       "Factual        807\n",
       "Name: Factual/Subjective, dtype: int64"
      ]
     },
     "execution_count": 8,
     "metadata": {},
     "output_type": "execute_result"
    }
   ],
   "source": [
    "# Verify Class balance \"Factual/Subjective\" column\n",
    "df['Factual/Subjective'].value_counts()  "
   ]
  },
  {
   "cell_type": "code",
   "execution_count": 9,
   "metadata": {},
   "outputs": [
    {
     "data": {
      "text/plain": [
       "Neutral      830\n",
       "Anger        320\n",
       "Sadness      296\n",
       "Happiness    286\n",
       "Euphoria     161\n",
       "Name: Sentiment, dtype: int64"
      ]
     },
     "execution_count": 9,
     "metadata": {},
     "output_type": "execute_result"
    }
   ],
   "source": [
    "# Verify Class balance \"Sentiment\" column\n",
    "df['Sentiment'].value_counts()  "
   ]
  },
  {
   "cell_type": "code",
   "execution_count": 10,
   "metadata": {},
   "outputs": [
    {
     "data": {
      "text/plain": [
       "Sentence              0\n",
       "Type                  0\n",
       "Factual/Subjective    0\n",
       "Sentiment             0\n",
       "dtype: int64"
      ]
     },
     "execution_count": 10,
     "metadata": {},
     "output_type": "execute_result"
    }
   ],
   "source": [
    "# Check for missing values\n",
    "df.isnull().sum()"
   ]
  },
  {
   "cell_type": "code",
   "execution_count": 11,
   "metadata": {},
   "outputs": [
    {
     "name": "stdout",
     "output_type": "stream",
     "text": [
      "Affirmation    1213\n",
      "Negation        680\n",
      "Name: Type, dtype: int64\n",
      "-----------------------------\n",
      "Subjective    1086\n",
      "Factual        807\n",
      "Name: Factual/Subjective, dtype: int64\n",
      "-----------------------------\n",
      "Neutral      830\n",
      "Anger        320\n",
      "Sadness      296\n",
      "Happiness    286\n",
      "Euphoria     161\n",
      "Name: Sentiment, dtype: int64\n",
      "-----------------------------\n"
     ]
    }
   ],
   "source": [
    "# Verify Class balance \"Type\" column\n",
    "print(df['Type'].value_counts())\n",
    "print(\"-----------------------------\")\n",
    "# Verify Class balance \"Factual/Subjective\" column\n",
    "print(df['Factual/Subjective'].value_counts())\n",
    "print(\"-----------------------------\")\n",
    "# Verify Class balance \"Sentiment\" column\n",
    "print(df['Sentiment'].value_counts())\n",
    "print(\"-----------------------------\")"
   ]
  },
  {
   "cell_type": "code",
   "execution_count": null,
   "metadata": {},
   "outputs": [],
   "source": []
  }
 ],
 "metadata": {
  "kernelspec": {
   "display_name": "base",
   "language": "python",
   "name": "python3"
  },
  "language_info": {
   "codemirror_mode": {
    "name": "ipython",
    "version": 3
   },
   "file_extension": ".py",
   "mimetype": "text/x-python",
   "name": "python",
   "nbconvert_exporter": "python",
   "pygments_lexer": "ipython3",
   "version": "3.9.18"
  }
 },
 "nbformat": 4,
 "nbformat_minor": 2
}
