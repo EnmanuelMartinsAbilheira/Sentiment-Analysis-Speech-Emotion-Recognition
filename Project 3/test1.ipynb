{
 "cells": [
  {
   "cell_type": "code",
   "execution_count": 13,
   "metadata": {},
   "outputs": [
    {
     "data": {
      "application/vnd.microsoft.datawrangler.viewer.v0+json": {
       "columns": [
        {
         "name": "index",
         "rawType": "int64",
         "type": "integer"
        },
        {
         "name": "Sentence",
         "rawType": "object",
         "type": "string"
        },
        {
         "name": "Type",
         "rawType": "object",
         "type": "string"
        },
        {
         "name": "Factual/Subjective",
         "rawType": "object",
         "type": "string"
        },
        {
         "name": "Sentiment",
         "rawType": "object",
         "type": "string"
        }
       ],
       "conversionMethod": "pd.DataFrame",
       "ref": "a5460171-4fd3-4de0-90d6-31c7c5529399",
       "rows": [
        [
         "0",
         "I'm consumed by a burning rage at their unjust accusations.",
         "Affirmation",
         "Subjective",
         "Anger"
        ],
        [
         "1",
         "Thunderstorms can be scary.",
         "Affirmation",
         "Subjective",
         "Anger"
        ],
        [
         "2",
         "I don’t trust strangers easily.",
         "Negation",
         "Subjective",
         "Neutral"
        ],
        [
         "3",
         "Electric cars produce less pollution.",
         "Affirmation",
         "Factual",
         "Happiness"
        ],
        [
         "4",
         "His attitude isn't helpful.",
         "Negation",
         "Subjective",
         "Anger"
        ]
       ],
       "shape": {
        "columns": 4,
        "rows": 5
       }
      },
      "text/html": [
       "<div>\n",
       "<style scoped>\n",
       "    .dataframe tbody tr th:only-of-type {\n",
       "        vertical-align: middle;\n",
       "    }\n",
       "\n",
       "    .dataframe tbody tr th {\n",
       "        vertical-align: top;\n",
       "    }\n",
       "\n",
       "    .dataframe thead th {\n",
       "        text-align: right;\n",
       "    }\n",
       "</style>\n",
       "<table border=\"1\" class=\"dataframe\">\n",
       "  <thead>\n",
       "    <tr style=\"text-align: right;\">\n",
       "      <th></th>\n",
       "      <th>Sentence</th>\n",
       "      <th>Type</th>\n",
       "      <th>Factual/Subjective</th>\n",
       "      <th>Sentiment</th>\n",
       "    </tr>\n",
       "  </thead>\n",
       "  <tbody>\n",
       "    <tr>\n",
       "      <th>0</th>\n",
       "      <td>I'm consumed by a burning rage at their unjust...</td>\n",
       "      <td>Affirmation</td>\n",
       "      <td>Subjective</td>\n",
       "      <td>Anger</td>\n",
       "    </tr>\n",
       "    <tr>\n",
       "      <th>1</th>\n",
       "      <td>Thunderstorms can be scary.</td>\n",
       "      <td>Affirmation</td>\n",
       "      <td>Subjective</td>\n",
       "      <td>Anger</td>\n",
       "    </tr>\n",
       "    <tr>\n",
       "      <th>2</th>\n",
       "      <td>I don’t trust strangers easily.</td>\n",
       "      <td>Negation</td>\n",
       "      <td>Subjective</td>\n",
       "      <td>Neutral</td>\n",
       "    </tr>\n",
       "    <tr>\n",
       "      <th>3</th>\n",
       "      <td>Electric cars produce less pollution.</td>\n",
       "      <td>Affirmation</td>\n",
       "      <td>Factual</td>\n",
       "      <td>Happiness</td>\n",
       "    </tr>\n",
       "    <tr>\n",
       "      <th>4</th>\n",
       "      <td>His attitude isn't helpful.</td>\n",
       "      <td>Negation</td>\n",
       "      <td>Subjective</td>\n",
       "      <td>Anger</td>\n",
       "    </tr>\n",
       "  </tbody>\n",
       "</table>\n",
       "</div>"
      ],
      "text/plain": [
       "                                            Sentence         Type  \\\n",
       "0  I'm consumed by a burning rage at their unjust...  Affirmation   \n",
       "1                        Thunderstorms can be scary.  Affirmation   \n",
       "2                    I don’t trust strangers easily.     Negation   \n",
       "3              Electric cars produce less pollution.  Affirmation   \n",
       "4                        His attitude isn't helpful.     Negation   \n",
       "\n",
       "  Factual/Subjective  Sentiment  \n",
       "0         Subjective      Anger  \n",
       "1         Subjective      Anger  \n",
       "2         Subjective    Neutral  \n",
       "3            Factual  Happiness  \n",
       "4         Subjective      Anger  "
      ]
     },
     "execution_count": 13,
     "metadata": {},
     "output_type": "execute_result"
    }
   ],
   "source": [
    "import pandas as pd\n",
    "from sklearn.preprocessing import LabelEncoder\n",
    "\n",
    "# Read the CSV file\n",
    "df = pd.read_csv('dataset.csv')\n",
    "\n",
    "# Shuffle the data\n",
    "df = df.sample(frac=1).reset_index(drop=True)\n",
    "df.head()"
   ]
  },
  {
   "cell_type": "code",
   "execution_count": 14,
   "metadata": {},
   "outputs": [
    {
     "data": {
      "text/plain": [
       "Affirmation    1435\n",
       "Negation       1014\n",
       "Name: Type, dtype: int64"
      ]
     },
     "execution_count": 14,
     "metadata": {},
     "output_type": "execute_result"
    }
   ],
   "source": [
    "# Verify Class balance \"Type\" column\n",
    "df['Type'].value_counts()  "
   ]
  },
  {
   "cell_type": "code",
   "execution_count": 15,
   "metadata": {},
   "outputs": [
    {
     "data": {
      "text/plain": [
       "Subjective    1457\n",
       "Factual        992\n",
       "Name: Factual/Subjective, dtype: int64"
      ]
     },
     "execution_count": 15,
     "metadata": {},
     "output_type": "execute_result"
    }
   ],
   "source": [
    "# Verify Class balance \"Factual/Subjective\" column\n",
    "df['Factual/Subjective'].value_counts()  "
   ]
  },
  {
   "cell_type": "code",
   "execution_count": 16,
   "metadata": {},
   "outputs": [
    {
     "data": {
      "text/plain": [
       "Neutral      830\n",
       "Anger        465\n",
       "Sadness      442\n",
       "Happiness    392\n",
       "Euphoria     320\n",
       "Name: Sentiment, dtype: int64"
      ]
     },
     "execution_count": 16,
     "metadata": {},
     "output_type": "execute_result"
    }
   ],
   "source": [
    "# Verify Class balance \"Sentiment\" column\n",
    "df['Sentiment'].value_counts()  "
   ]
  },
  {
   "cell_type": "code",
   "execution_count": 17,
   "metadata": {},
   "outputs": [
    {
     "data": {
      "text/plain": [
       "Sentence              0\n",
       "Type                  0\n",
       "Factual/Subjective    0\n",
       "Sentiment             0\n",
       "dtype: int64"
      ]
     },
     "execution_count": 17,
     "metadata": {},
     "output_type": "execute_result"
    }
   ],
   "source": [
    "# Check for missing values\n",
    "df.isnull().sum()"
   ]
  },
  {
   "cell_type": "code",
   "execution_count": 18,
   "metadata": {},
   "outputs": [
    {
     "name": "stdout",
     "output_type": "stream",
     "text": [
      "Affirmation    1435\n",
      "Negation       1014\n",
      "Name: Type, dtype: int64\n",
      "-----------------------------\n",
      "Subjective    1457\n",
      "Factual        992\n",
      "Name: Factual/Subjective, dtype: int64\n",
      "-----------------------------\n",
      "Neutral      830\n",
      "Anger        465\n",
      "Sadness      442\n",
      "Happiness    392\n",
      "Euphoria     320\n",
      "Name: Sentiment, dtype: int64\n",
      "-----------------------------\n"
     ]
    }
   ],
   "source": [
    "# Verify Class balance \"Type\" column\n",
    "print(df['Type'].value_counts())\n",
    "print(\"-----------------------------\")\n",
    "# Verify Class balance \"Factual/Subjective\" column\n",
    "print(df['Factual/Subjective'].value_counts())\n",
    "print(\"-----------------------------\")\n",
    "# Verify Class balance \"Sentiment\" column\n",
    "print(df['Sentiment'].value_counts())\n",
    "print(\"-----------------------------\")"
   ]
  },
  {
   "cell_type": "code",
   "execution_count": null,
   "metadata": {},
   "outputs": [],
   "source": []
  }
 ],
 "metadata": {
  "kernelspec": {
   "display_name": "base",
   "language": "python",
   "name": "python3"
  },
  "language_info": {
   "codemirror_mode": {
    "name": "ipython",
    "version": 3
   },
   "file_extension": ".py",
   "mimetype": "text/x-python",
   "name": "python",
   "nbconvert_exporter": "python",
   "pygments_lexer": "ipython3",
   "version": "3.9.18"
  }
 },
 "nbformat": 4,
 "nbformat_minor": 2
}
