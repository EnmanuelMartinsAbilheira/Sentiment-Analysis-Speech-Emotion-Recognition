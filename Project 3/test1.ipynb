{
 "cells": [
  {
   "cell_type": "code",
   "execution_count": 1,
   "metadata": {},
   "outputs": [
    {
     "data": {
      "application/vnd.microsoft.datawrangler.viewer.v0+json": {
       "columns": [
        {
         "name": "index",
         "rawType": "int64",
         "type": "integer"
        },
        {
         "name": "Sentence",
         "rawType": "object",
         "type": "string"
        },
        {
         "name": "Type",
         "rawType": "object",
         "type": "string"
        },
        {
         "name": "Factual/Subjective",
         "rawType": "object",
         "type": "string"
        },
        {
         "name": "Sentiment",
         "rawType": "object",
         "type": "string"
        }
       ],
       "conversionMethod": "pd.DataFrame",
       "ref": "3dbc6b43-c154-4559-97e7-9909352534ea",
       "rows": [
        [
         "0",
         "Unconditional love sustains me.",
         "Affirmation",
         "Subjective",
         "Happiness"
        ],
        [
         "1",
         "The ocean is vast and deep.",
         "Affirmation",
         "Factual",
         "Neutral"
        ],
        [
         "2",
         "I do not find his constant interruptions constructive.",
         "Negation",
         "Subjective",
         "Neutral"
        ],
        [
         "3",
         "Einstein did not invent the atomic bomb.",
         "Negation",
         "Factual",
         "Neutral"
        ],
        [
         "4",
         "I don’t feel comfortable in crowded places.",
         "Negation",
         "Subjective",
         "Sadness"
        ]
       ],
       "shape": {
        "columns": 4,
        "rows": 5
       }
      },
      "text/html": [
       "<div>\n",
       "<style scoped>\n",
       "    .dataframe tbody tr th:only-of-type {\n",
       "        vertical-align: middle;\n",
       "    }\n",
       "\n",
       "    .dataframe tbody tr th {\n",
       "        vertical-align: top;\n",
       "    }\n",
       "\n",
       "    .dataframe thead th {\n",
       "        text-align: right;\n",
       "    }\n",
       "</style>\n",
       "<table border=\"1\" class=\"dataframe\">\n",
       "  <thead>\n",
       "    <tr style=\"text-align: right;\">\n",
       "      <th></th>\n",
       "      <th>Sentence</th>\n",
       "      <th>Type</th>\n",
       "      <th>Factual/Subjective</th>\n",
       "      <th>Sentiment</th>\n",
       "    </tr>\n",
       "  </thead>\n",
       "  <tbody>\n",
       "    <tr>\n",
       "      <th>0</th>\n",
       "      <td>Unconditional love sustains me.</td>\n",
       "      <td>Affirmation</td>\n",
       "      <td>Subjective</td>\n",
       "      <td>Happiness</td>\n",
       "    </tr>\n",
       "    <tr>\n",
       "      <th>1</th>\n",
       "      <td>The ocean is vast and deep.</td>\n",
       "      <td>Affirmation</td>\n",
       "      <td>Factual</td>\n",
       "      <td>Neutral</td>\n",
       "    </tr>\n",
       "    <tr>\n",
       "      <th>2</th>\n",
       "      <td>I do not find his constant interruptions const...</td>\n",
       "      <td>Negation</td>\n",
       "      <td>Subjective</td>\n",
       "      <td>Neutral</td>\n",
       "    </tr>\n",
       "    <tr>\n",
       "      <th>3</th>\n",
       "      <td>Einstein did not invent the atomic bomb.</td>\n",
       "      <td>Negation</td>\n",
       "      <td>Factual</td>\n",
       "      <td>Neutral</td>\n",
       "    </tr>\n",
       "    <tr>\n",
       "      <th>4</th>\n",
       "      <td>I don’t feel comfortable in crowded places.</td>\n",
       "      <td>Negation</td>\n",
       "      <td>Subjective</td>\n",
       "      <td>Sadness</td>\n",
       "    </tr>\n",
       "  </tbody>\n",
       "</table>\n",
       "</div>"
      ],
      "text/plain": [
       "                                            Sentence         Type  \\\n",
       "0                    Unconditional love sustains me.  Affirmation   \n",
       "1                        The ocean is vast and deep.  Affirmation   \n",
       "2  I do not find his constant interruptions const...     Negation   \n",
       "3           Einstein did not invent the atomic bomb.     Negation   \n",
       "4        I don’t feel comfortable in crowded places.     Negation   \n",
       "\n",
       "  Factual/Subjective  Sentiment  \n",
       "0         Subjective  Happiness  \n",
       "1            Factual    Neutral  \n",
       "2         Subjective    Neutral  \n",
       "3            Factual    Neutral  \n",
       "4         Subjective    Sadness  "
      ]
     },
     "execution_count": 1,
     "metadata": {},
     "output_type": "execute_result"
    }
   ],
   "source": [
    "import pandas as pd\n",
    "from sklearn.preprocessing import LabelEncoder\n",
    "\n",
    "# Read the CSV file\n",
    "df = pd.read_csv('dataset.csv')\n",
    "\n",
    "# Shuffle the data\n",
    "df = df.sample(frac=1).reset_index(drop=True)\n",
    "df.head()"
   ]
  },
  {
   "cell_type": "code",
   "execution_count": 2,
   "metadata": {},
   "outputs": [
    {
     "data": {
      "text/plain": [
       "Affirmation    1435\n",
       "Negation       1014\n",
       "Name: Type, dtype: int64"
      ]
     },
     "execution_count": 2,
     "metadata": {},
     "output_type": "execute_result"
    }
   ],
   "source": [
    "# Verify Class balance \"Type\" column\n",
    "df['Type'].value_counts()  "
   ]
  },
  {
   "cell_type": "code",
   "execution_count": 3,
   "metadata": {},
   "outputs": [
    {
     "data": {
      "text/plain": [
       "Subjective    1457\n",
       "Factual        992\n",
       "Name: Factual/Subjective, dtype: int64"
      ]
     },
     "execution_count": 3,
     "metadata": {},
     "output_type": "execute_result"
    }
   ],
   "source": [
    "# Verify Class balance \"Factual/Subjective\" column\n",
    "df['Factual/Subjective'].value_counts()  "
   ]
  },
  {
   "cell_type": "code",
   "execution_count": null,
   "metadata": {},
   "outputs": [],
   "source": []
  },
  {
   "cell_type": "code",
   "execution_count": 4,
   "metadata": {},
   "outputs": [
    {
     "data": {
      "text/plain": [
       "Neutral      830\n",
       "Anger        465\n",
       "Sadness      442\n",
       "Happiness    392\n",
       "Euphoria     320\n",
       "Name: Sentiment, dtype: int64"
      ]
     },
     "execution_count": 4,
     "metadata": {},
     "output_type": "execute_result"
    }
   ],
   "source": [
    "# Verify Class balance \"Sentiment\" column\n",
    "df['Sentiment'].value_counts()  "
   ]
  },
  {
   "cell_type": "code",
   "execution_count": 5,
   "metadata": {},
   "outputs": [
    {
     "data": {
      "text/plain": [
       "Sentence              0\n",
       "Type                  0\n",
       "Factual/Subjective    0\n",
       "Sentiment             0\n",
       "dtype: int64"
      ]
     },
     "execution_count": 5,
     "metadata": {},
     "output_type": "execute_result"
    }
   ],
   "source": [
    "# Check for missing values\n",
    "df.isnull().sum()"
   ]
  },
  {
   "cell_type": "code",
   "execution_count": 6,
   "metadata": {},
   "outputs": [
    {
     "name": "stdout",
     "output_type": "stream",
     "text": [
      "Affirmation    1435\n",
      "Negation       1014\n",
      "Name: Type, dtype: int64\n",
      "-----------------------------\n",
      "Subjective    1457\n",
      "Factual        992\n",
      "Name: Factual/Subjective, dtype: int64\n",
      "-----------------------------\n",
      "Neutral      830\n",
      "Anger        465\n",
      "Sadness      442\n",
      "Happiness    392\n",
      "Euphoria     320\n",
      "Name: Sentiment, dtype: int64\n",
      "-----------------------------\n"
     ]
    }
   ],
   "source": [
    "# Verify Class balance \"Type\" column\n",
    "print(df['Type'].value_counts())\n",
    "print(\"-----------------------------\")\n",
    "# Verify Class balance \"Factual/Subjective\" column\n",
    "print(df['Factual/Subjective'].value_counts())\n",
    "print(\"-----------------------------\")\n",
    "# Verify Class balance \"Sentiment\" column\n",
    "print(df['Sentiment'].value_counts())\n",
    "print(\"-----------------------------\")"
   ]
  },
  {
   "cell_type": "code",
   "execution_count": null,
   "metadata": {},
   "outputs": [
    {
     "name": "stdout",
     "output_type": "stream",
     "text": [
      "I don't like being ignored.                                  5\n",
      "I don't like being rushed.                                   5\n",
      "I don't like being misunderstood.                            4\n",
      "Gravity pulls objects toward the Earth.                      4\n",
      "I don't think this is a good idea.                           4\n",
      "                                                            ..\n",
      "Earth has 8.7 million species.                               1\n",
      "I didn’t finish my homework on time.                         1\n",
      "I’m not interested in politics.                              1\n",
      "Kangaroos can't walk backwards.                              1\n",
      "The human impact on the environment is a serious concern.    1\n",
      "Name: Sentence, Length: 2094, dtype: int64\n"
     ]
    }
   ],
   "source": [
    "# verify and print all repeated values in the column Sentence\n",
    "print(df['Sentence'].value_counts())"
   ]
  },
  {
   "cell_type": "code",
   "execution_count": 12,
   "metadata": {},
   "outputs": [],
   "source": [
    "# Drop duplicates\n",
    "df = df.drop_duplicates(subset='Sentence')"
   ]
  },
  {
   "cell_type": "code",
   "execution_count": 13,
   "metadata": {},
   "outputs": [
    {
     "data": {
      "application/vnd.microsoft.datawrangler.viewer.v0+json": {
       "columns": [
        {
         "name": "index",
         "rawType": "int64",
         "type": "integer"
        },
        {
         "name": "Sentence",
         "rawType": "object",
         "type": "string"
        },
        {
         "name": "Type",
         "rawType": "object",
         "type": "string"
        },
        {
         "name": "Factual/Subjective",
         "rawType": "object",
         "type": "string"
        },
        {
         "name": "Sentiment",
         "rawType": "object",
         "type": "string"
        }
       ],
       "conversionMethod": "pd.DataFrame",
       "ref": "b0cf735c-7ff4-4f3a-8ad4-e8661f30567a",
       "rows": [
        [
         "0",
         "I'm delighted by the thoughtful gesture.",
         "Affirmation",
         "Subjective",
         "Happiness"
        ],
        [
         "1",
         "Rude people are annoying.",
         "Affirmation",
         "Subjective",
         "Anger"
        ],
        [
         "2",
         "A cozy blanket makes me happy.",
         "Affirmation",
         "Subjective",
         "Happiness"
        ],
        [
         "3",
         "Unseen efforts discourage me.",
         "Affirmation",
         "Subjective",
         "Sadness"
        ],
        [
         "4",
         "She doesn’t trust strangers easily.",
         "Negation",
         "Subjective",
         "Neutral"
        ],
        [
         "5",
         "The invention of the telephone revolutionized communication.",
         "Affirmation",
         "Factual",
         "Neutral"
        ],
        [
         "6",
         "His betrayal has left me seething with resentment.",
         "Affirmation",
         "Subjective",
         "Anger"
        ],
        [
         "7",
         "I'm filled with a cold, simmering rage at their calculated and deliberate sabotage of my work.",
         "Affirmation",
         "Subjective",
         "Anger"
        ],
        [
         "8",
         "I feel nostalgic when I visit my childhood home.",
         "Affirmation",
         "Subjective",
         "Sadness"
        ],
        [
         "9",
         "The reunion was an overwhelming joy.",
         "Affirmation",
         "Subjective",
         "Euphoria"
        ],
        [
         "10",
         "This new dance performance is a visual feast.",
         "Affirmation",
         "Subjective",
         "Happiness"
        ],
        [
         "11",
         "Finishing a book feels rewarding.",
         "Affirmation",
         "Subjective",
         "Happiness"
        ],
        [
         "12",
         "I can't feel anything but happiness.",
         "Negation",
         "Factual",
         "Euphoria"
        ],
        [
         "13",
         "I am happy with my current job.",
         "Affirmation",
         "Subjective",
         "Happiness"
        ],
        [
         "14",
         "Unreliable Wi-Fi frustrates me.",
         "Affirmation",
         "Subjective",
         "Anger"
        ],
        [
         "15",
         "The feeling of diving into a cool, clear ocean was euphoric.",
         "Affirmation",
         "Subjective",
         "Euphoria"
        ],
        [
         "16",
         "Their constant nitpicking is pushing me to the brink of anger.",
         "Affirmation",
         "Subjective",
         "Anger"
        ],
        [
         "17",
         "I’m not afraid of heights.",
         "Negation",
         "Subjective",
         "Neutral"
        ],
        [
         "18",
         "I am drowning in despair.",
         "Affirmation",
         "Subjective",
         "Sadness"
        ],
        [
         "19",
         "This opportunity is amazing.",
         "Affirmation",
         "Subjective",
         "Euphoria"
        ],
        [
         "20",
         "I don't think this is a good idea.",
         "Negation",
         "Subjective",
         "Sadness"
        ],
        [
         "21",
         "Morning yoga centers my being.",
         "Affirmation",
         "Subjective",
         "Neutral"
        ],
        [
         "22",
         "There’s no greater feeling than accomplishing something big!",
         "Negation",
         "Subjective",
         "Euphoria"
        ],
        [
         "23",
         "I am thankful for my health.",
         "Affirmation",
         "Subjective",
         "Happiness"
        ],
        [
         "24",
         "Losing a friend feels devastating.",
         "Affirmation",
         "Subjective",
         "Sadness"
        ],
        [
         "25",
         "The sun didn’t rise this morning.",
         "Negation",
         "Factual",
         "Sadness"
        ],
        [
         "26",
         "I do not enjoy high humidity.",
         "Negation",
         "Factual",
         "Sadness"
        ],
        [
         "27",
         "I do not enjoy feeling stressed.",
         "Negation",
         "Factual",
         "Sadness"
        ],
        [
         "28",
         "The sudden earthquake caused widespread panic.",
         "Affirmation",
         "Factual",
         "Neutral"
        ],
        [
         "29",
         "This jacket is absolutely stunning!",
         "Affirmation",
         "Subjective",
         "Euphoria"
        ],
        [
         "30",
         "I am hopeful for the future.",
         "Affirmation",
         "Subjective",
         "Happiness"
        ],
        [
         "31",
         "Wasted potential saddens me.",
         "Affirmation",
         "Subjective",
         "Sadness"
        ],
        [
         "32",
         "I think I'm going to be sick.",
         "Affirmation",
         "Subjective",
         "Anger"
        ],
        [
         "33",
         "I don't like it when people are dishonest.",
         "Negation",
         "Subjective",
         "Anger"
        ],
        [
         "34",
         "Climate change is accelerating.",
         "Affirmation",
         "Factual",
         "Anger"
        ],
        [
         "35",
         "Failing a test feels absolutely terrible.",
         "Affirmation",
         "Subjective",
         "Sadness"
        ],
        [
         "36",
         "Octopus blood is blue.",
         "Affirmation",
         "Factual",
         "Neutral"
        ],
        [
         "37",
         "I don’t feel welcome here.",
         "Negation",
         "Subjective",
         "Sadness"
        ],
        [
         "38",
         "I feel so happy today!",
         "Affirmation",
         "Subjective",
         "Happiness"
        ],
        [
         "39",
         "I have never experienced such joy!",
         "Negation",
         "Subjective",
         "Euphoria"
        ],
        [
         "40",
         "Bees don’t live alone.",
         "Negation",
         "Factual",
         "Neutral"
        ],
        [
         "41",
         "Birds are the only animals with feathers.",
         "Affirmation",
         "Factual",
         "Neutral"
        ],
        [
         "42",
         "She never tells the truth.",
         "Negation",
         "Factual",
         "Anger"
        ],
        [
         "43",
         "I don't want to lose this feeling.",
         "Negation",
         "Subjective",
         "Happiness"
        ],
        [
         "44",
         "Cultural exchanges enlighten me.",
         "Affirmation",
         "Subjective",
         "Happiness"
        ],
        [
         "45",
         "The principles of thermodynamics govern energy transfer.",
         "Affirmation",
         "Factual",
         "Neutral"
        ],
        [
         "46",
         "I hate feeling scared.",
         "Affirmation",
         "Subjective",
         "Sadness"
        ],
        [
         "47",
         "I don't want to go back to that place.",
         "Negation",
         "Subjective",
         "Sadness"
        ],
        [
         "48",
         "The recipe didn’t work out.",
         "Negation",
         "Factual",
         "Neutral"
        ],
        [
         "49",
         "I'm overjoyed by the unexpected promotion.",
         "Affirmation",
         "Subjective",
         "Happiness"
        ]
       ],
       "shape": {
        "columns": 4,
        "rows": 2094
       }
      },
      "text/html": [
       "<div>\n",
       "<style scoped>\n",
       "    .dataframe tbody tr th:only-of-type {\n",
       "        vertical-align: middle;\n",
       "    }\n",
       "\n",
       "    .dataframe tbody tr th {\n",
       "        vertical-align: top;\n",
       "    }\n",
       "\n",
       "    .dataframe thead th {\n",
       "        text-align: right;\n",
       "    }\n",
       "</style>\n",
       "<table border=\"1\" class=\"dataframe\">\n",
       "  <thead>\n",
       "    <tr style=\"text-align: right;\">\n",
       "      <th></th>\n",
       "      <th>Sentence</th>\n",
       "      <th>Type</th>\n",
       "      <th>Factual/Subjective</th>\n",
       "      <th>Sentiment</th>\n",
       "    </tr>\n",
       "  </thead>\n",
       "  <tbody>\n",
       "    <tr>\n",
       "      <th>0</th>\n",
       "      <td>I'm delighted by the thoughtful gesture.</td>\n",
       "      <td>Affirmation</td>\n",
       "      <td>Subjective</td>\n",
       "      <td>Happiness</td>\n",
       "    </tr>\n",
       "    <tr>\n",
       "      <th>1</th>\n",
       "      <td>Rude people are annoying.</td>\n",
       "      <td>Affirmation</td>\n",
       "      <td>Subjective</td>\n",
       "      <td>Anger</td>\n",
       "    </tr>\n",
       "    <tr>\n",
       "      <th>2</th>\n",
       "      <td>A cozy blanket makes me happy.</td>\n",
       "      <td>Affirmation</td>\n",
       "      <td>Subjective</td>\n",
       "      <td>Happiness</td>\n",
       "    </tr>\n",
       "    <tr>\n",
       "      <th>3</th>\n",
       "      <td>Unseen efforts discourage me.</td>\n",
       "      <td>Affirmation</td>\n",
       "      <td>Subjective</td>\n",
       "      <td>Sadness</td>\n",
       "    </tr>\n",
       "    <tr>\n",
       "      <th>4</th>\n",
       "      <td>She doesn’t trust strangers easily.</td>\n",
       "      <td>Negation</td>\n",
       "      <td>Subjective</td>\n",
       "      <td>Neutral</td>\n",
       "    </tr>\n",
       "    <tr>\n",
       "      <th>...</th>\n",
       "      <td>...</td>\n",
       "      <td>...</td>\n",
       "      <td>...</td>\n",
       "      <td>...</td>\n",
       "    </tr>\n",
       "    <tr>\n",
       "      <th>2440</th>\n",
       "      <td>He doesn’t share his food.</td>\n",
       "      <td>Negation</td>\n",
       "      <td>Subjective</td>\n",
       "      <td>Neutral</td>\n",
       "    </tr>\n",
       "    <tr>\n",
       "      <th>2442</th>\n",
       "      <td>The game didn’t load correctly.</td>\n",
       "      <td>Negation</td>\n",
       "      <td>Factual</td>\n",
       "      <td>Neutral</td>\n",
       "    </tr>\n",
       "    <tr>\n",
       "      <th>2444</th>\n",
       "      <td>That rude comment really ticked me off.</td>\n",
       "      <td>Affirmation</td>\n",
       "      <td>Subjective</td>\n",
       "      <td>Anger</td>\n",
       "    </tr>\n",
       "    <tr>\n",
       "      <th>2445</th>\n",
       "      <td>The feeling of watching the aurora borealis da...</td>\n",
       "      <td>Affirmation</td>\n",
       "      <td>Subjective</td>\n",
       "      <td>Euphoria</td>\n",
       "    </tr>\n",
       "    <tr>\n",
       "      <th>2448</th>\n",
       "      <td>The human impact on the environment is a serio...</td>\n",
       "      <td>Affirmation</td>\n",
       "      <td>Factual</td>\n",
       "      <td>Neutral</td>\n",
       "    </tr>\n",
       "  </tbody>\n",
       "</table>\n",
       "<p>2094 rows × 4 columns</p>\n",
       "</div>"
      ],
      "text/plain": [
       "                                               Sentence         Type  \\\n",
       "0              I'm delighted by the thoughtful gesture.  Affirmation   \n",
       "1                             Rude people are annoying.  Affirmation   \n",
       "2                        A cozy blanket makes me happy.  Affirmation   \n",
       "3                         Unseen efforts discourage me.  Affirmation   \n",
       "4                   She doesn’t trust strangers easily.     Negation   \n",
       "...                                                 ...          ...   \n",
       "2440                         He doesn’t share his food.     Negation   \n",
       "2442                    The game didn’t load correctly.     Negation   \n",
       "2444            That rude comment really ticked me off.  Affirmation   \n",
       "2445  The feeling of watching the aurora borealis da...  Affirmation   \n",
       "2448  The human impact on the environment is a serio...  Affirmation   \n",
       "\n",
       "     Factual/Subjective  Sentiment  \n",
       "0            Subjective  Happiness  \n",
       "1            Subjective      Anger  \n",
       "2            Subjective  Happiness  \n",
       "3            Subjective    Sadness  \n",
       "4            Subjective    Neutral  \n",
       "...                 ...        ...  \n",
       "2440         Subjective    Neutral  \n",
       "2442            Factual    Neutral  \n",
       "2444         Subjective      Anger  \n",
       "2445         Subjective   Euphoria  \n",
       "2448            Factual    Neutral  \n",
       "\n",
       "[2094 rows x 4 columns]"
      ]
     },
     "execution_count": 13,
     "metadata": {},
     "output_type": "execute_result"
    }
   ],
   "source": [
    "df"
   ]
  },
  {
   "cell_type": "code",
   "execution_count": 14,
   "metadata": {},
   "outputs": [
    {
     "name": "stdout",
     "output_type": "stream",
     "text": [
      "Affirmation    1271\n",
      "Negation        823\n",
      "Name: Type, dtype: int64\n",
      "-----------------------------\n",
      "Subjective    1253\n",
      "Factual        841\n",
      "Name: Factual/Subjective, dtype: int64\n",
      "-----------------------------\n",
      "Neutral      719\n",
      "Anger        378\n",
      "Sadness      362\n",
      "Happiness    339\n",
      "Euphoria     296\n",
      "Name: Sentiment, dtype: int64\n",
      "-----------------------------\n"
     ]
    }
   ],
   "source": [
    "# Verify Class balance \"Type\" column\n",
    "print(df['Type'].value_counts())\n",
    "print(\"-----------------------------\")\n",
    "# Verify Class balance \"Factual/Subjective\" column\n",
    "print(df['Factual/Subjective'].value_counts())\n",
    "print(\"-----------------------------\")\n",
    "# Verify Class balance \"Sentiment\" column\n",
    "print(df['Sentiment'].value_counts())\n",
    "print(\"-----------------------------\")"
   ]
  },
  {
   "cell_type": "code",
   "execution_count": 16,
   "metadata": {},
   "outputs": [
    {
     "name": "stderr",
     "output_type": "stream",
     "text": [
      "C:\\Users\\eel20\\AppData\\Local\\Temp\\ipykernel_22468\\2443365488.py:3: SettingWithCopyWarning: \n",
      "A value is trying to be set on a copy of a slice from a DataFrame.\n",
      "Try using .loc[row_indexer,col_indexer] = value instead\n",
      "\n",
      "See the caveats in the documentation: https://pandas.pydata.org/pandas-docs/stable/user_guide/indexing.html#returning-a-view-versus-a-copy\n",
      "  df['polarity'] = df['Sentence'].apply(lambda x: TextBlob(x).sentiment.polarity)\n"
     ]
    },
    {
     "data": {
      "application/vnd.microsoft.datawrangler.viewer.v0+json": {
       "columns": [
        {
         "name": "index",
         "rawType": "int64",
         "type": "integer"
        },
        {
         "name": "Sentence",
         "rawType": "object",
         "type": "string"
        },
        {
         "name": "Type",
         "rawType": "object",
         "type": "string"
        },
        {
         "name": "Factual/Subjective",
         "rawType": "object",
         "type": "string"
        },
        {
         "name": "Sentiment",
         "rawType": "object",
         "type": "string"
        },
        {
         "name": "polarity",
         "rawType": "float64",
         "type": "float"
        }
       ],
       "conversionMethod": "pd.DataFrame",
       "ref": "635167aa-17e3-4f95-bed4-e002443496cd",
       "rows": [
        [
         "0",
         "I'm delighted by the thoughtful gesture.",
         "Affirmation",
         "Subjective",
         "Happiness",
         "0.55"
        ],
        [
         "1",
         "Rude people are annoying.",
         "Affirmation",
         "Subjective",
         "Anger",
         "-0.55"
        ],
        [
         "2",
         "A cozy blanket makes me happy.",
         "Affirmation",
         "Subjective",
         "Happiness",
         "0.30000000000000004"
        ],
        [
         "3",
         "Unseen efforts discourage me.",
         "Affirmation",
         "Subjective",
         "Sadness",
         "0.0"
        ],
        [
         "4",
         "She doesn’t trust strangers easily.",
         "Negation",
         "Subjective",
         "Neutral",
         "0.43333333333333335"
        ]
       ],
       "shape": {
        "columns": 5,
        "rows": 5
       }
      },
      "text/html": [
       "<div>\n",
       "<style scoped>\n",
       "    .dataframe tbody tr th:only-of-type {\n",
       "        vertical-align: middle;\n",
       "    }\n",
       "\n",
       "    .dataframe tbody tr th {\n",
       "        vertical-align: top;\n",
       "    }\n",
       "\n",
       "    .dataframe thead th {\n",
       "        text-align: right;\n",
       "    }\n",
       "</style>\n",
       "<table border=\"1\" class=\"dataframe\">\n",
       "  <thead>\n",
       "    <tr style=\"text-align: right;\">\n",
       "      <th></th>\n",
       "      <th>Sentence</th>\n",
       "      <th>Type</th>\n",
       "      <th>Factual/Subjective</th>\n",
       "      <th>Sentiment</th>\n",
       "      <th>polarity</th>\n",
       "    </tr>\n",
       "  </thead>\n",
       "  <tbody>\n",
       "    <tr>\n",
       "      <th>0</th>\n",
       "      <td>I'm delighted by the thoughtful gesture.</td>\n",
       "      <td>Affirmation</td>\n",
       "      <td>Subjective</td>\n",
       "      <td>Happiness</td>\n",
       "      <td>0.550000</td>\n",
       "    </tr>\n",
       "    <tr>\n",
       "      <th>1</th>\n",
       "      <td>Rude people are annoying.</td>\n",
       "      <td>Affirmation</td>\n",
       "      <td>Subjective</td>\n",
       "      <td>Anger</td>\n",
       "      <td>-0.550000</td>\n",
       "    </tr>\n",
       "    <tr>\n",
       "      <th>2</th>\n",
       "      <td>A cozy blanket makes me happy.</td>\n",
       "      <td>Affirmation</td>\n",
       "      <td>Subjective</td>\n",
       "      <td>Happiness</td>\n",
       "      <td>0.300000</td>\n",
       "    </tr>\n",
       "    <tr>\n",
       "      <th>3</th>\n",
       "      <td>Unseen efforts discourage me.</td>\n",
       "      <td>Affirmation</td>\n",
       "      <td>Subjective</td>\n",
       "      <td>Sadness</td>\n",
       "      <td>0.000000</td>\n",
       "    </tr>\n",
       "    <tr>\n",
       "      <th>4</th>\n",
       "      <td>She doesn’t trust strangers easily.</td>\n",
       "      <td>Negation</td>\n",
       "      <td>Subjective</td>\n",
       "      <td>Neutral</td>\n",
       "      <td>0.433333</td>\n",
       "    </tr>\n",
       "  </tbody>\n",
       "</table>\n",
       "</div>"
      ],
      "text/plain": [
       "                                   Sentence         Type Factual/Subjective  \\\n",
       "0  I'm delighted by the thoughtful gesture.  Affirmation         Subjective   \n",
       "1                 Rude people are annoying.  Affirmation         Subjective   \n",
       "2            A cozy blanket makes me happy.  Affirmation         Subjective   \n",
       "3             Unseen efforts discourage me.  Affirmation         Subjective   \n",
       "4       She doesn’t trust strangers easily.     Negation         Subjective   \n",
       "\n",
       "   Sentiment  polarity  \n",
       "0  Happiness  0.550000  \n",
       "1      Anger -0.550000  \n",
       "2  Happiness  0.300000  \n",
       "3    Sadness  0.000000  \n",
       "4    Neutral  0.433333  "
      ]
     },
     "execution_count": 16,
     "metadata": {},
     "output_type": "execute_result"
    }
   ],
   "source": [
    "# implement textblob library to calculate the polarity of each sentence\n",
    "from textblob import TextBlob\n",
    "df['polarity'] = df['Sentence'].apply(lambda x: TextBlob(x).sentiment.polarity)\n",
    "df.head()\n"
   ]
  },
  {
   "cell_type": "code",
   "execution_count": 17,
   "metadata": {},
   "outputs": [
    {
     "name": "stderr",
     "output_type": "stream",
     "text": [
      "C:\\Users\\eel20\\AppData\\Local\\Temp\\ipykernel_22468\\1240920775.py:2: SettingWithCopyWarning: \n",
      "A value is trying to be set on a copy of a slice from a DataFrame.\n",
      "Try using .loc[row_indexer,col_indexer] = value instead\n",
      "\n",
      "See the caveats in the documentation: https://pandas.pydata.org/pandas-docs/stable/user_guide/indexing.html#returning-a-view-versus-a-copy\n",
      "  df['subjectivity'] = df['Sentence'].apply(lambda x: TextBlob(x).sentiment.subjectivity)\n"
     ]
    },
    {
     "data": {
      "application/vnd.microsoft.datawrangler.viewer.v0+json": {
       "columns": [
        {
         "name": "index",
         "rawType": "int64",
         "type": "integer"
        },
        {
         "name": "Sentence",
         "rawType": "object",
         "type": "string"
        },
        {
         "name": "Type",
         "rawType": "object",
         "type": "string"
        },
        {
         "name": "Factual/Subjective",
         "rawType": "object",
         "type": "string"
        },
        {
         "name": "Sentiment",
         "rawType": "object",
         "type": "string"
        },
        {
         "name": "polarity",
         "rawType": "float64",
         "type": "float"
        },
        {
         "name": "subjectivity",
         "rawType": "float64",
         "type": "float"
        }
       ],
       "conversionMethod": "pd.DataFrame",
       "ref": "8bad92ae-abe3-430d-8c65-faad3733b455",
       "rows": [
        [
         "0",
         "I'm delighted by the thoughtful gesture.",
         "Affirmation",
         "Subjective",
         "Happiness",
         "0.55",
         "0.6"
        ],
        [
         "1",
         "Rude people are annoying.",
         "Affirmation",
         "Subjective",
         "Anger",
         "-0.55",
         "0.75"
        ],
        [
         "2",
         "A cozy blanket makes me happy.",
         "Affirmation",
         "Subjective",
         "Happiness",
         "0.30000000000000004",
         "0.875"
        ],
        [
         "3",
         "Unseen efforts discourage me.",
         "Affirmation",
         "Subjective",
         "Sadness",
         "0.0",
         "0.0"
        ],
        [
         "4",
         "She doesn’t trust strangers easily.",
         "Negation",
         "Subjective",
         "Neutral",
         "0.43333333333333335",
         "0.8333333333333334"
        ]
       ],
       "shape": {
        "columns": 6,
        "rows": 5
       }
      },
      "text/html": [
       "<div>\n",
       "<style scoped>\n",
       "    .dataframe tbody tr th:only-of-type {\n",
       "        vertical-align: middle;\n",
       "    }\n",
       "\n",
       "    .dataframe tbody tr th {\n",
       "        vertical-align: top;\n",
       "    }\n",
       "\n",
       "    .dataframe thead th {\n",
       "        text-align: right;\n",
       "    }\n",
       "</style>\n",
       "<table border=\"1\" class=\"dataframe\">\n",
       "  <thead>\n",
       "    <tr style=\"text-align: right;\">\n",
       "      <th></th>\n",
       "      <th>Sentence</th>\n",
       "      <th>Type</th>\n",
       "      <th>Factual/Subjective</th>\n",
       "      <th>Sentiment</th>\n",
       "      <th>polarity</th>\n",
       "      <th>subjectivity</th>\n",
       "    </tr>\n",
       "  </thead>\n",
       "  <tbody>\n",
       "    <tr>\n",
       "      <th>0</th>\n",
       "      <td>I'm delighted by the thoughtful gesture.</td>\n",
       "      <td>Affirmation</td>\n",
       "      <td>Subjective</td>\n",
       "      <td>Happiness</td>\n",
       "      <td>0.550000</td>\n",
       "      <td>0.600000</td>\n",
       "    </tr>\n",
       "    <tr>\n",
       "      <th>1</th>\n",
       "      <td>Rude people are annoying.</td>\n",
       "      <td>Affirmation</td>\n",
       "      <td>Subjective</td>\n",
       "      <td>Anger</td>\n",
       "      <td>-0.550000</td>\n",
       "      <td>0.750000</td>\n",
       "    </tr>\n",
       "    <tr>\n",
       "      <th>2</th>\n",
       "      <td>A cozy blanket makes me happy.</td>\n",
       "      <td>Affirmation</td>\n",
       "      <td>Subjective</td>\n",
       "      <td>Happiness</td>\n",
       "      <td>0.300000</td>\n",
       "      <td>0.875000</td>\n",
       "    </tr>\n",
       "    <tr>\n",
       "      <th>3</th>\n",
       "      <td>Unseen efforts discourage me.</td>\n",
       "      <td>Affirmation</td>\n",
       "      <td>Subjective</td>\n",
       "      <td>Sadness</td>\n",
       "      <td>0.000000</td>\n",
       "      <td>0.000000</td>\n",
       "    </tr>\n",
       "    <tr>\n",
       "      <th>4</th>\n",
       "      <td>She doesn’t trust strangers easily.</td>\n",
       "      <td>Negation</td>\n",
       "      <td>Subjective</td>\n",
       "      <td>Neutral</td>\n",
       "      <td>0.433333</td>\n",
       "      <td>0.833333</td>\n",
       "    </tr>\n",
       "  </tbody>\n",
       "</table>\n",
       "</div>"
      ],
      "text/plain": [
       "                                   Sentence         Type Factual/Subjective  \\\n",
       "0  I'm delighted by the thoughtful gesture.  Affirmation         Subjective   \n",
       "1                 Rude people are annoying.  Affirmation         Subjective   \n",
       "2            A cozy blanket makes me happy.  Affirmation         Subjective   \n",
       "3             Unseen efforts discourage me.  Affirmation         Subjective   \n",
       "4       She doesn’t trust strangers easily.     Negation         Subjective   \n",
       "\n",
       "   Sentiment  polarity  subjectivity  \n",
       "0  Happiness  0.550000      0.600000  \n",
       "1      Anger -0.550000      0.750000  \n",
       "2  Happiness  0.300000      0.875000  \n",
       "3    Sadness  0.000000      0.000000  \n",
       "4    Neutral  0.433333      0.833333  "
      ]
     },
     "execution_count": 17,
     "metadata": {},
     "output_type": "execute_result"
    }
   ],
   "source": [
    "# textblob library to calculate the subjectivity of each sentence\n",
    "df['subjectivity'] = df['Sentence'].apply(lambda x: TextBlob(x).sentiment.subjectivity)\n",
    "df.head()\n"
   ]
  },
  {
   "cell_type": "code",
   "execution_count": 18,
   "metadata": {},
   "outputs": [
    {
     "data": {
      "application/vnd.microsoft.datawrangler.viewer.v0+json": {
       "columns": [
        {
         "name": "index",
         "rawType": "int64",
         "type": "integer"
        },
        {
         "name": "Sentence",
         "rawType": "object",
         "type": "string"
        },
        {
         "name": "Type",
         "rawType": "object",
         "type": "string"
        },
        {
         "name": "Factual/Subjective",
         "rawType": "object",
         "type": "string"
        },
        {
         "name": "Sentiment",
         "rawType": "object",
         "type": "string"
        },
        {
         "name": "polarity",
         "rawType": "float64",
         "type": "float"
        },
        {
         "name": "subjectivity",
         "rawType": "float64",
         "type": "float"
        }
       ],
       "conversionMethod": "pd.DataFrame",
       "ref": "54c5097a-1901-4a11-b889-fea565049ae5",
       "rows": [
        [
         "0",
         "I'm delighted by the thoughtful gesture.",
         "Affirmation",
         "Subjective",
         "Happiness",
         "0.55",
         "0.6"
        ],
        [
         "1",
         "Rude people are annoying.",
         "Affirmation",
         "Subjective",
         "Anger",
         "-0.55",
         "0.75"
        ],
        [
         "2",
         "A cozy blanket makes me happy.",
         "Affirmation",
         "Subjective",
         "Happiness",
         "0.30000000000000004",
         "0.875"
        ],
        [
         "3",
         "Unseen efforts discourage me.",
         "Affirmation",
         "Subjective",
         "Sadness",
         "0.0",
         "0.0"
        ],
        [
         "4",
         "She doesn’t trust strangers easily.",
         "Negation",
         "Subjective",
         "Neutral",
         "0.43333333333333335",
         "0.8333333333333334"
        ],
        [
         "5",
         "The invention of the telephone revolutionized communication.",
         "Affirmation",
         "Factual",
         "Neutral",
         "0.0",
         "0.0"
        ],
        [
         "6",
         "His betrayal has left me seething with resentment.",
         "Affirmation",
         "Subjective",
         "Anger",
         "0.0",
         "0.0"
        ],
        [
         "7",
         "I'm filled with a cold, simmering rage at their calculated and deliberate sabotage of my work.",
         "Affirmation",
         "Subjective",
         "Anger",
         "-0.09999999999999998",
         "0.95"
        ],
        [
         "8",
         "I feel nostalgic when I visit my childhood home.",
         "Affirmation",
         "Subjective",
         "Sadness",
         "-0.5",
         "1.0"
        ],
        [
         "9",
         "The reunion was an overwhelming joy.",
         "Affirmation",
         "Subjective",
         "Euphoria",
         "0.65",
         "0.6"
        ],
        [
         "10",
         "This new dance performance is a visual feast.",
         "Affirmation",
         "Subjective",
         "Happiness",
         "0.06818181818181818",
         "0.22727272727272727"
        ],
        [
         "11",
         "Finishing a book feels rewarding.",
         "Affirmation",
         "Subjective",
         "Happiness",
         "0.5",
         "1.0"
        ],
        [
         "12",
         "I can't feel anything but happiness.",
         "Negation",
         "Factual",
         "Euphoria",
         "0.7",
         "0.2"
        ],
        [
         "13",
         "I am happy with my current job.",
         "Affirmation",
         "Subjective",
         "Happiness",
         "0.4",
         "0.7"
        ],
        [
         "14",
         "Unreliable Wi-Fi frustrates me.",
         "Affirmation",
         "Subjective",
         "Anger",
         "0.0",
         "0.0"
        ],
        [
         "15",
         "The feeling of diving into a cool, clear ocean was euphoric.",
         "Affirmation",
         "Subjective",
         "Euphoria",
         "0.225",
         "0.5166666666666666"
        ],
        [
         "16",
         "Their constant nitpicking is pushing me to the brink of anger.",
         "Affirmation",
         "Subjective",
         "Anger",
         "-0.35",
         "0.26666666666666666"
        ],
        [
         "17",
         "I’m not afraid of heights.",
         "Negation",
         "Subjective",
         "Neutral",
         "0.3",
         "0.9"
        ],
        [
         "18",
         "I am drowning in despair.",
         "Affirmation",
         "Subjective",
         "Sadness",
         "0.0",
         "0.0"
        ],
        [
         "19",
         "This opportunity is amazing.",
         "Affirmation",
         "Subjective",
         "Euphoria",
         "0.6000000000000001",
         "0.9"
        ],
        [
         "20",
         "I don't think this is a good idea.",
         "Negation",
         "Subjective",
         "Sadness",
         "0.7",
         "0.6000000000000001"
        ],
        [
         "21",
         "Morning yoga centers my being.",
         "Affirmation",
         "Subjective",
         "Neutral",
         "0.0",
         "0.0"
        ],
        [
         "22",
         "There’s no greater feeling than accomplishing something big!",
         "Negation",
         "Subjective",
         "Euphoria",
         "-0.125",
         "0.3"
        ],
        [
         "23",
         "I am thankful for my health.",
         "Affirmation",
         "Subjective",
         "Happiness",
         "0.0",
         "0.0"
        ],
        [
         "24",
         "Losing a friend feels devastating.",
         "Affirmation",
         "Subjective",
         "Sadness",
         "-1.0",
         "1.0"
        ],
        [
         "25",
         "The sun didn’t rise this morning.",
         "Negation",
         "Factual",
         "Sadness",
         "0.0",
         "0.0"
        ],
        [
         "26",
         "I do not enjoy high humidity.",
         "Negation",
         "Factual",
         "Sadness",
         "-0.020000000000000004",
         "0.52"
        ],
        [
         "27",
         "I do not enjoy feeling stressed.",
         "Negation",
         "Factual",
         "Sadness",
         "-0.2",
         "0.5"
        ],
        [
         "28",
         "The sudden earthquake caused widespread panic.",
         "Affirmation",
         "Factual",
         "Neutral",
         "0.0",
         "0.5"
        ],
        [
         "29",
         "This jacket is absolutely stunning!",
         "Affirmation",
         "Subjective",
         "Euphoria",
         "0.625",
         "1.0"
        ],
        [
         "30",
         "I am hopeful for the future.",
         "Affirmation",
         "Subjective",
         "Happiness",
         "0.0",
         "0.125"
        ],
        [
         "31",
         "Wasted potential saddens me.",
         "Affirmation",
         "Subjective",
         "Sadness",
         "-0.1",
         "0.5"
        ],
        [
         "32",
         "I think I'm going to be sick.",
         "Affirmation",
         "Subjective",
         "Anger",
         "-0.7142857142857143",
         "0.8571428571428571"
        ],
        [
         "33",
         "I don't like it when people are dishonest.",
         "Negation",
         "Subjective",
         "Anger",
         "-0.3",
         "0.5"
        ],
        [
         "34",
         "Climate change is accelerating.",
         "Affirmation",
         "Factual",
         "Anger",
         "0.0",
         "0.0"
        ],
        [
         "35",
         "Failing a test feels absolutely terrible.",
         "Affirmation",
         "Subjective",
         "Sadness",
         "-1.0",
         "1.0"
        ],
        [
         "36",
         "Octopus blood is blue.",
         "Affirmation",
         "Factual",
         "Neutral",
         "0.0",
         "0.1"
        ],
        [
         "37",
         "I don’t feel welcome here.",
         "Negation",
         "Subjective",
         "Sadness",
         "0.8",
         "0.9"
        ],
        [
         "38",
         "I feel so happy today!",
         "Affirmation",
         "Subjective",
         "Happiness",
         "1.0",
         "1.0"
        ],
        [
         "39",
         "I have never experienced such joy!",
         "Negation",
         "Subjective",
         "Euphoria",
         "0.19999999999999998",
         "0.5333333333333333"
        ],
        [
         "40",
         "Bees don’t live alone.",
         "Negation",
         "Factual",
         "Neutral",
         "0.13636363636363635",
         "0.5"
        ],
        [
         "41",
         "Birds are the only animals with feathers.",
         "Affirmation",
         "Factual",
         "Neutral",
         "0.0",
         "1.0"
        ],
        [
         "42",
         "She never tells the truth.",
         "Negation",
         "Factual",
         "Anger",
         "0.0",
         "0.0"
        ],
        [
         "43",
         "I don't want to lose this feeling.",
         "Negation",
         "Subjective",
         "Happiness",
         "0.0",
         "0.0"
        ],
        [
         "44",
         "Cultural exchanges enlighten me.",
         "Affirmation",
         "Subjective",
         "Happiness",
         "0.1",
         "0.1"
        ],
        [
         "45",
         "The principles of thermodynamics govern energy transfer.",
         "Affirmation",
         "Factual",
         "Neutral",
         "0.0",
         "0.0"
        ],
        [
         "46",
         "I hate feeling scared.",
         "Affirmation",
         "Subjective",
         "Sadness",
         "-0.8",
         "0.9"
        ],
        [
         "47",
         "I don't want to go back to that place.",
         "Negation",
         "Subjective",
         "Sadness",
         "0.0",
         "0.0"
        ],
        [
         "48",
         "The recipe didn’t work out.",
         "Negation",
         "Factual",
         "Neutral",
         "0.0",
         "0.0"
        ],
        [
         "49",
         "I'm overjoyed by the unexpected promotion.",
         "Affirmation",
         "Subjective",
         "Happiness",
         "0.1",
         "1.0"
        ]
       ],
       "shape": {
        "columns": 6,
        "rows": 2094
       }
      },
      "text/html": [
       "<div>\n",
       "<style scoped>\n",
       "    .dataframe tbody tr th:only-of-type {\n",
       "        vertical-align: middle;\n",
       "    }\n",
       "\n",
       "    .dataframe tbody tr th {\n",
       "        vertical-align: top;\n",
       "    }\n",
       "\n",
       "    .dataframe thead th {\n",
       "        text-align: right;\n",
       "    }\n",
       "</style>\n",
       "<table border=\"1\" class=\"dataframe\">\n",
       "  <thead>\n",
       "    <tr style=\"text-align: right;\">\n",
       "      <th></th>\n",
       "      <th>Sentence</th>\n",
       "      <th>Type</th>\n",
       "      <th>Factual/Subjective</th>\n",
       "      <th>Sentiment</th>\n",
       "      <th>polarity</th>\n",
       "      <th>subjectivity</th>\n",
       "    </tr>\n",
       "  </thead>\n",
       "  <tbody>\n",
       "    <tr>\n",
       "      <th>0</th>\n",
       "      <td>I'm delighted by the thoughtful gesture.</td>\n",
       "      <td>Affirmation</td>\n",
       "      <td>Subjective</td>\n",
       "      <td>Happiness</td>\n",
       "      <td>0.550000</td>\n",
       "      <td>0.600000</td>\n",
       "    </tr>\n",
       "    <tr>\n",
       "      <th>1</th>\n",
       "      <td>Rude people are annoying.</td>\n",
       "      <td>Affirmation</td>\n",
       "      <td>Subjective</td>\n",
       "      <td>Anger</td>\n",
       "      <td>-0.550000</td>\n",
       "      <td>0.750000</td>\n",
       "    </tr>\n",
       "    <tr>\n",
       "      <th>2</th>\n",
       "      <td>A cozy blanket makes me happy.</td>\n",
       "      <td>Affirmation</td>\n",
       "      <td>Subjective</td>\n",
       "      <td>Happiness</td>\n",
       "      <td>0.300000</td>\n",
       "      <td>0.875000</td>\n",
       "    </tr>\n",
       "    <tr>\n",
       "      <th>3</th>\n",
       "      <td>Unseen efforts discourage me.</td>\n",
       "      <td>Affirmation</td>\n",
       "      <td>Subjective</td>\n",
       "      <td>Sadness</td>\n",
       "      <td>0.000000</td>\n",
       "      <td>0.000000</td>\n",
       "    </tr>\n",
       "    <tr>\n",
       "      <th>4</th>\n",
       "      <td>She doesn’t trust strangers easily.</td>\n",
       "      <td>Negation</td>\n",
       "      <td>Subjective</td>\n",
       "      <td>Neutral</td>\n",
       "      <td>0.433333</td>\n",
       "      <td>0.833333</td>\n",
       "    </tr>\n",
       "    <tr>\n",
       "      <th>...</th>\n",
       "      <td>...</td>\n",
       "      <td>...</td>\n",
       "      <td>...</td>\n",
       "      <td>...</td>\n",
       "      <td>...</td>\n",
       "      <td>...</td>\n",
       "    </tr>\n",
       "    <tr>\n",
       "      <th>2440</th>\n",
       "      <td>He doesn’t share his food.</td>\n",
       "      <td>Negation</td>\n",
       "      <td>Subjective</td>\n",
       "      <td>Neutral</td>\n",
       "      <td>0.000000</td>\n",
       "      <td>0.000000</td>\n",
       "    </tr>\n",
       "    <tr>\n",
       "      <th>2442</th>\n",
       "      <td>The game didn’t load correctly.</td>\n",
       "      <td>Negation</td>\n",
       "      <td>Factual</td>\n",
       "      <td>Neutral</td>\n",
       "      <td>-0.400000</td>\n",
       "      <td>0.400000</td>\n",
       "    </tr>\n",
       "    <tr>\n",
       "      <th>2444</th>\n",
       "      <td>That rude comment really ticked me off.</td>\n",
       "      <td>Affirmation</td>\n",
       "      <td>Subjective</td>\n",
       "      <td>Anger</td>\n",
       "      <td>-0.050000</td>\n",
       "      <td>0.400000</td>\n",
       "    </tr>\n",
       "    <tr>\n",
       "      <th>2445</th>\n",
       "      <td>The feeling of watching the aurora borealis da...</td>\n",
       "      <td>Affirmation</td>\n",
       "      <td>Subjective</td>\n",
       "      <td>Euphoria</td>\n",
       "      <td>0.000000</td>\n",
       "      <td>0.000000</td>\n",
       "    </tr>\n",
       "    <tr>\n",
       "      <th>2448</th>\n",
       "      <td>The human impact on the environment is a serio...</td>\n",
       "      <td>Affirmation</td>\n",
       "      <td>Factual</td>\n",
       "      <td>Neutral</td>\n",
       "      <td>-0.166667</td>\n",
       "      <td>0.383333</td>\n",
       "    </tr>\n",
       "  </tbody>\n",
       "</table>\n",
       "<p>2094 rows × 6 columns</p>\n",
       "</div>"
      ],
      "text/plain": [
       "                                               Sentence         Type  \\\n",
       "0              I'm delighted by the thoughtful gesture.  Affirmation   \n",
       "1                             Rude people are annoying.  Affirmation   \n",
       "2                        A cozy blanket makes me happy.  Affirmation   \n",
       "3                         Unseen efforts discourage me.  Affirmation   \n",
       "4                   She doesn’t trust strangers easily.     Negation   \n",
       "...                                                 ...          ...   \n",
       "2440                         He doesn’t share his food.     Negation   \n",
       "2442                    The game didn’t load correctly.     Negation   \n",
       "2444            That rude comment really ticked me off.  Affirmation   \n",
       "2445  The feeling of watching the aurora borealis da...  Affirmation   \n",
       "2448  The human impact on the environment is a serio...  Affirmation   \n",
       "\n",
       "     Factual/Subjective  Sentiment  polarity  subjectivity  \n",
       "0            Subjective  Happiness  0.550000      0.600000  \n",
       "1            Subjective      Anger -0.550000      0.750000  \n",
       "2            Subjective  Happiness  0.300000      0.875000  \n",
       "3            Subjective    Sadness  0.000000      0.000000  \n",
       "4            Subjective    Neutral  0.433333      0.833333  \n",
       "...                 ...        ...       ...           ...  \n",
       "2440         Subjective    Neutral  0.000000      0.000000  \n",
       "2442            Factual    Neutral -0.400000      0.400000  \n",
       "2444         Subjective      Anger -0.050000      0.400000  \n",
       "2445         Subjective   Euphoria  0.000000      0.000000  \n",
       "2448            Factual    Neutral -0.166667      0.383333  \n",
       "\n",
       "[2094 rows x 6 columns]"
      ]
     },
     "execution_count": 18,
     "metadata": {},
     "output_type": "execute_result"
    }
   ],
   "source": [
    "df"
   ]
  },
  {
   "cell_type": "code",
   "execution_count": 19,
   "metadata": {},
   "outputs": [
    {
     "name": "stderr",
     "output_type": "stream",
     "text": [
      "C:\\Users\\eel20\\AppData\\Local\\Temp\\ipykernel_22468\\3958163374.py:10: SettingWithCopyWarning: \n",
      "A value is trying to be set on a copy of a slice from a DataFrame.\n",
      "Try using .loc[row_indexer,col_indexer] = value instead\n",
      "\n",
      "See the caveats in the documentation: https://pandas.pydata.org/pandas-docs/stable/user_guide/indexing.html#returning-a-view-versus-a-copy\n",
      "  df['polarity'] = df['polarity'].apply(lambda x: sentiment(x))\n",
      "C:\\Users\\eel20\\AppData\\Local\\Temp\\ipykernel_22468\\3958163374.py:11: SettingWithCopyWarning: \n",
      "A value is trying to be set on a copy of a slice from a DataFrame.\n",
      "Try using .loc[row_indexer,col_indexer] = value instead\n",
      "\n",
      "See the caveats in the documentation: https://pandas.pydata.org/pandas-docs/stable/user_guide/indexing.html#returning-a-view-versus-a-copy\n",
      "  df['subjectivity'] = df['subjectivity'].apply(lambda x: sentiment(x))\n"
     ]
    },
    {
     "data": {
      "application/vnd.microsoft.datawrangler.viewer.v0+json": {
       "columns": [
        {
         "name": "index",
         "rawType": "int64",
         "type": "integer"
        },
        {
         "name": "Sentence",
         "rawType": "object",
         "type": "string"
        },
        {
         "name": "Type",
         "rawType": "object",
         "type": "string"
        },
        {
         "name": "Factual/Subjective",
         "rawType": "object",
         "type": "string"
        },
        {
         "name": "Sentiment",
         "rawType": "object",
         "type": "string"
        },
        {
         "name": "polarity",
         "rawType": "object",
         "type": "string"
        },
        {
         "name": "subjectivity",
         "rawType": "object",
         "type": "string"
        }
       ],
       "conversionMethod": "pd.DataFrame",
       "ref": "88e584e1-c884-47ce-8bf0-3e800e1b588b",
       "rows": [
        [
         "0",
         "I'm delighted by the thoughtful gesture.",
         "Affirmation",
         "Subjective",
         "Happiness",
         "Positive",
         "Positive"
        ],
        [
         "1",
         "Rude people are annoying.",
         "Affirmation",
         "Subjective",
         "Anger",
         "Negative",
         "Positive"
        ],
        [
         "2",
         "A cozy blanket makes me happy.",
         "Affirmation",
         "Subjective",
         "Happiness",
         "Positive",
         "Positive"
        ],
        [
         "3",
         "Unseen efforts discourage me.",
         "Affirmation",
         "Subjective",
         "Sadness",
         "Neutral",
         "Neutral"
        ],
        [
         "4",
         "She doesn’t trust strangers easily.",
         "Negation",
         "Subjective",
         "Neutral",
         "Positive",
         "Positive"
        ]
       ],
       "shape": {
        "columns": 6,
        "rows": 5
       }
      },
      "text/html": [
       "<div>\n",
       "<style scoped>\n",
       "    .dataframe tbody tr th:only-of-type {\n",
       "        vertical-align: middle;\n",
       "    }\n",
       "\n",
       "    .dataframe tbody tr th {\n",
       "        vertical-align: top;\n",
       "    }\n",
       "\n",
       "    .dataframe thead th {\n",
       "        text-align: right;\n",
       "    }\n",
       "</style>\n",
       "<table border=\"1\" class=\"dataframe\">\n",
       "  <thead>\n",
       "    <tr style=\"text-align: right;\">\n",
       "      <th></th>\n",
       "      <th>Sentence</th>\n",
       "      <th>Type</th>\n",
       "      <th>Factual/Subjective</th>\n",
       "      <th>Sentiment</th>\n",
       "      <th>polarity</th>\n",
       "      <th>subjectivity</th>\n",
       "    </tr>\n",
       "  </thead>\n",
       "  <tbody>\n",
       "    <tr>\n",
       "      <th>0</th>\n",
       "      <td>I'm delighted by the thoughtful gesture.</td>\n",
       "      <td>Affirmation</td>\n",
       "      <td>Subjective</td>\n",
       "      <td>Happiness</td>\n",
       "      <td>Positive</td>\n",
       "      <td>Positive</td>\n",
       "    </tr>\n",
       "    <tr>\n",
       "      <th>1</th>\n",
       "      <td>Rude people are annoying.</td>\n",
       "      <td>Affirmation</td>\n",
       "      <td>Subjective</td>\n",
       "      <td>Anger</td>\n",
       "      <td>Negative</td>\n",
       "      <td>Positive</td>\n",
       "    </tr>\n",
       "    <tr>\n",
       "      <th>2</th>\n",
       "      <td>A cozy blanket makes me happy.</td>\n",
       "      <td>Affirmation</td>\n",
       "      <td>Subjective</td>\n",
       "      <td>Happiness</td>\n",
       "      <td>Positive</td>\n",
       "      <td>Positive</td>\n",
       "    </tr>\n",
       "    <tr>\n",
       "      <th>3</th>\n",
       "      <td>Unseen efforts discourage me.</td>\n",
       "      <td>Affirmation</td>\n",
       "      <td>Subjective</td>\n",
       "      <td>Sadness</td>\n",
       "      <td>Neutral</td>\n",
       "      <td>Neutral</td>\n",
       "    </tr>\n",
       "    <tr>\n",
       "      <th>4</th>\n",
       "      <td>She doesn’t trust strangers easily.</td>\n",
       "      <td>Negation</td>\n",
       "      <td>Subjective</td>\n",
       "      <td>Neutral</td>\n",
       "      <td>Positive</td>\n",
       "      <td>Positive</td>\n",
       "    </tr>\n",
       "  </tbody>\n",
       "</table>\n",
       "</div>"
      ],
      "text/plain": [
       "                                   Sentence         Type Factual/Subjective  \\\n",
       "0  I'm delighted by the thoughtful gesture.  Affirmation         Subjective   \n",
       "1                 Rude people are annoying.  Affirmation         Subjective   \n",
       "2            A cozy blanket makes me happy.  Affirmation         Subjective   \n",
       "3             Unseen efforts discourage me.  Affirmation         Subjective   \n",
       "4       She doesn’t trust strangers easily.     Negation         Subjective   \n",
       "\n",
       "   Sentiment  polarity subjectivity  \n",
       "0  Happiness  Positive     Positive  \n",
       "1      Anger  Negative     Positive  \n",
       "2  Happiness  Positive     Positive  \n",
       "3    Sadness   Neutral      Neutral  \n",
       "4    Neutral  Positive     Positive  "
      ]
     },
     "execution_count": 19,
     "metadata": {},
     "output_type": "execute_result"
    }
   ],
   "source": [
    "# implement textblob to make the polarity and subjectivity columns more readable\n",
    "def sentiment(x):\n",
    "    if x < 0:\n",
    "        return 'Negative'\n",
    "    elif x == 0:\n",
    "        return 'Neutral'\n",
    "    else:\n",
    "        return 'Positive'\n",
    "    \n",
    "df['polarity'] = df['polarity'].apply(lambda x: sentiment(x))\n",
    "df['subjectivity'] = df['subjectivity'].apply(lambda x: sentiment(x))\n",
    "df.head()"
   ]
  },
  {
   "cell_type": "code",
   "execution_count": 9,
   "metadata": {},
   "outputs": [
    {
     "name": "stderr",
     "output_type": "stream",
     "text": [
      "[nltk_data] Downloading package punkt to\n",
      "[nltk_data]     C:\\Users\\eel20\\AppData\\Roaming\\nltk_data...\n",
      "[nltk_data]   Package punkt is already up-to-date!\n",
      "[nltk_data] Downloading package wordnet to\n",
      "[nltk_data]     C:\\Users\\eel20\\AppData\\Roaming\\nltk_data...\n",
      "[nltk_data]   Package wordnet is already up-to-date!\n"
     ]
    },
    {
     "ename": "LookupError",
     "evalue": "\n**********************************************************************\n  Resource \u001b[93mpunkt_tab\u001b[0m not found.\n  Please use the NLTK Downloader to obtain the resource:\n\n  \u001b[31m>>> import nltk\n  >>> nltk.download('punkt_tab')\n  \u001b[0m\n  For more information see: https://www.nltk.org/data.html\n\n  Attempted to load \u001b[93mtokenizers/punkt_tab/english/\u001b[0m\n\n  Searched in:\n    - 'C:\\\\Users\\\\eel20/nltk_data'\n    - 'c:\\\\Users\\\\eel20\\\\anaconda3\\\\nltk_data'\n    - 'c:\\\\Users\\\\eel20\\\\anaconda3\\\\share\\\\nltk_data'\n    - 'c:\\\\Users\\\\eel20\\\\anaconda3\\\\lib\\\\nltk_data'\n    - 'C:\\\\Users\\\\eel20\\\\AppData\\\\Roaming\\\\nltk_data'\n    - 'C:\\\\nltk_data'\n    - 'D:\\\\nltk_data'\n    - 'E:\\\\nltk_data'\n**********************************************************************\n",
     "output_type": "error",
     "traceback": [
      "\u001b[1;31m---------------------------------------------------------------------------\u001b[0m",
      "\u001b[1;31mLookupError\u001b[0m                               Traceback (most recent call last)",
      "Cell \u001b[1;32mIn[9], line 25\u001b[0m\n\u001b[0;32m     22\u001b[0m     \u001b[38;5;28;01mreturn\u001b[39;00m lemmatized\n\u001b[0;32m     24\u001b[0m \u001b[38;5;66;03m# Aplicar o pré-processamento\u001b[39;00m\n\u001b[1;32m---> 25\u001b[0m df[\u001b[38;5;124m'\u001b[39m\u001b[38;5;124mProcessed_Sentence\u001b[39m\u001b[38;5;124m'\u001b[39m] \u001b[38;5;241m=\u001b[39m \u001b[43mdf\u001b[49m\u001b[43m[\u001b[49m\u001b[38;5;124;43m'\u001b[39;49m\u001b[38;5;124;43mSentence\u001b[39;49m\u001b[38;5;124;43m'\u001b[39;49m\u001b[43m]\u001b[49m\u001b[38;5;241;43m.\u001b[39;49m\u001b[43mapply\u001b[49m\u001b[43m(\u001b[49m\u001b[43mpreprocess_text\u001b[49m\u001b[43m)\u001b[49m\n\u001b[0;32m     27\u001b[0m \u001b[38;5;66;03m# Mostrar o resultado\u001b[39;00m\n\u001b[0;32m     28\u001b[0m \u001b[38;5;28mprint\u001b[39m(\u001b[38;5;124m\"\u001b[39m\u001b[38;5;124mDataset original com a nova coluna processada:\u001b[39m\u001b[38;5;124m\"\u001b[39m)\n",
      "File \u001b[1;32mc:\\Users\\eel20\\anaconda3\\lib\\site-packages\\pandas\\core\\series.py:4771\u001b[0m, in \u001b[0;36mSeries.apply\u001b[1;34m(self, func, convert_dtype, args, **kwargs)\u001b[0m\n\u001b[0;32m   4661\u001b[0m \u001b[38;5;28;01mdef\u001b[39;00m \u001b[38;5;21mapply\u001b[39m(\n\u001b[0;32m   4662\u001b[0m     \u001b[38;5;28mself\u001b[39m,\n\u001b[0;32m   4663\u001b[0m     func: AggFuncType,\n\u001b[1;32m   (...)\u001b[0m\n\u001b[0;32m   4666\u001b[0m     \u001b[38;5;241m*\u001b[39m\u001b[38;5;241m*\u001b[39mkwargs,\n\u001b[0;32m   4667\u001b[0m ) \u001b[38;5;241m-\u001b[39m\u001b[38;5;241m>\u001b[39m DataFrame \u001b[38;5;241m|\u001b[39m Series:\n\u001b[0;32m   4668\u001b[0m \u001b[38;5;250m    \u001b[39m\u001b[38;5;124;03m\"\"\"\u001b[39;00m\n\u001b[0;32m   4669\u001b[0m \u001b[38;5;124;03m    Invoke function on values of Series.\u001b[39;00m\n\u001b[0;32m   4670\u001b[0m \n\u001b[1;32m   (...)\u001b[0m\n\u001b[0;32m   4769\u001b[0m \u001b[38;5;124;03m    dtype: float64\u001b[39;00m\n\u001b[0;32m   4770\u001b[0m \u001b[38;5;124;03m    \"\"\"\u001b[39;00m\n\u001b[1;32m-> 4771\u001b[0m     \u001b[38;5;28;01mreturn\u001b[39;00m \u001b[43mSeriesApply\u001b[49m\u001b[43m(\u001b[49m\u001b[38;5;28;43mself\u001b[39;49m\u001b[43m,\u001b[49m\u001b[43m \u001b[49m\u001b[43mfunc\u001b[49m\u001b[43m,\u001b[49m\u001b[43m \u001b[49m\u001b[43mconvert_dtype\u001b[49m\u001b[43m,\u001b[49m\u001b[43m \u001b[49m\u001b[43margs\u001b[49m\u001b[43m,\u001b[49m\u001b[43m \u001b[49m\u001b[43mkwargs\u001b[49m\u001b[43m)\u001b[49m\u001b[38;5;241;43m.\u001b[39;49m\u001b[43mapply\u001b[49m\u001b[43m(\u001b[49m\u001b[43m)\u001b[49m\n",
      "File \u001b[1;32mc:\\Users\\eel20\\anaconda3\\lib\\site-packages\\pandas\\core\\apply.py:1123\u001b[0m, in \u001b[0;36mSeriesApply.apply\u001b[1;34m(self)\u001b[0m\n\u001b[0;32m   1120\u001b[0m     \u001b[38;5;28;01mreturn\u001b[39;00m \u001b[38;5;28mself\u001b[39m\u001b[38;5;241m.\u001b[39mapply_str()\n\u001b[0;32m   1122\u001b[0m \u001b[38;5;66;03m# self.f is Callable\u001b[39;00m\n\u001b[1;32m-> 1123\u001b[0m \u001b[38;5;28;01mreturn\u001b[39;00m \u001b[38;5;28;43mself\u001b[39;49m\u001b[38;5;241;43m.\u001b[39;49m\u001b[43mapply_standard\u001b[49m\u001b[43m(\u001b[49m\u001b[43m)\u001b[49m\n",
      "File \u001b[1;32mc:\\Users\\eel20\\anaconda3\\lib\\site-packages\\pandas\\core\\apply.py:1174\u001b[0m, in \u001b[0;36mSeriesApply.apply_standard\u001b[1;34m(self)\u001b[0m\n\u001b[0;32m   1172\u001b[0m     \u001b[38;5;28;01melse\u001b[39;00m:\n\u001b[0;32m   1173\u001b[0m         values \u001b[38;5;241m=\u001b[39m obj\u001b[38;5;241m.\u001b[39mastype(\u001b[38;5;28mobject\u001b[39m)\u001b[38;5;241m.\u001b[39m_values\n\u001b[1;32m-> 1174\u001b[0m         mapped \u001b[38;5;241m=\u001b[39m \u001b[43mlib\u001b[49m\u001b[38;5;241;43m.\u001b[39;49m\u001b[43mmap_infer\u001b[49m\u001b[43m(\u001b[49m\n\u001b[0;32m   1175\u001b[0m \u001b[43m            \u001b[49m\u001b[43mvalues\u001b[49m\u001b[43m,\u001b[49m\n\u001b[0;32m   1176\u001b[0m \u001b[43m            \u001b[49m\u001b[43mf\u001b[49m\u001b[43m,\u001b[49m\n\u001b[0;32m   1177\u001b[0m \u001b[43m            \u001b[49m\u001b[43mconvert\u001b[49m\u001b[38;5;241;43m=\u001b[39;49m\u001b[38;5;28;43mself\u001b[39;49m\u001b[38;5;241;43m.\u001b[39;49m\u001b[43mconvert_dtype\u001b[49m\u001b[43m,\u001b[49m\n\u001b[0;32m   1178\u001b[0m \u001b[43m        \u001b[49m\u001b[43m)\u001b[49m\n\u001b[0;32m   1180\u001b[0m \u001b[38;5;28;01mif\u001b[39;00m \u001b[38;5;28mlen\u001b[39m(mapped) \u001b[38;5;129;01mand\u001b[39;00m \u001b[38;5;28misinstance\u001b[39m(mapped[\u001b[38;5;241m0\u001b[39m], ABCSeries):\n\u001b[0;32m   1181\u001b[0m     \u001b[38;5;66;03m# GH#43986 Need to do list(mapped) in order to get treated as nested\u001b[39;00m\n\u001b[0;32m   1182\u001b[0m     \u001b[38;5;66;03m#  See also GH#25959 regarding EA support\u001b[39;00m\n\u001b[0;32m   1183\u001b[0m     \u001b[38;5;28;01mreturn\u001b[39;00m obj\u001b[38;5;241m.\u001b[39m_constructor_expanddim(\u001b[38;5;28mlist\u001b[39m(mapped), index\u001b[38;5;241m=\u001b[39mobj\u001b[38;5;241m.\u001b[39mindex)\n",
      "File \u001b[1;32mc:\\Users\\eel20\\anaconda3\\lib\\site-packages\\pandas\\_libs\\lib.pyx:2924\u001b[0m, in \u001b[0;36mpandas._libs.lib.map_infer\u001b[1;34m()\u001b[0m\n",
      "Cell \u001b[1;32mIn[9], line 19\u001b[0m, in \u001b[0;36mpreprocess_text\u001b[1;34m(sentence)\u001b[0m\n\u001b[0;32m     16\u001b[0m sentence \u001b[38;5;241m=\u001b[39m re\u001b[38;5;241m.\u001b[39msub(\u001b[38;5;124mr\u001b[39m\u001b[38;5;124m'\u001b[39m\u001b[38;5;124m[^\u001b[39m\u001b[38;5;124m\\\u001b[39m\u001b[38;5;124mw\u001b[39m\u001b[38;5;124m\\\u001b[39m\u001b[38;5;124ms]\u001b[39m\u001b[38;5;124m'\u001b[39m, \u001b[38;5;124m'\u001b[39m\u001b[38;5;124m'\u001b[39m, sentence)\n\u001b[0;32m     18\u001b[0m \u001b[38;5;66;03m# 3. Tokenização e lematização diretamente com NLTK (evitando problemas do TextBlob)\u001b[39;00m\n\u001b[1;32m---> 19\u001b[0m tokens \u001b[38;5;241m=\u001b[39m \u001b[43mnltk\u001b[49m\u001b[38;5;241;43m.\u001b[39;49m\u001b[43mword_tokenize\u001b[49m\u001b[43m(\u001b[49m\u001b[43msentence\u001b[49m\u001b[43m)\u001b[49m  \u001b[38;5;66;03m# Usando NLTK diretamente\u001b[39;00m\n\u001b[0;32m     20\u001b[0m lemmatized \u001b[38;5;241m=\u001b[39m [Word(token)\u001b[38;5;241m.\u001b[39mlemmatize() \u001b[38;5;28;01mfor\u001b[39;00m token \u001b[38;5;129;01min\u001b[39;00m tokens]\n\u001b[0;32m     22\u001b[0m \u001b[38;5;28;01mreturn\u001b[39;00m lemmatized\n",
      "File \u001b[1;32mc:\\Users\\eel20\\anaconda3\\lib\\site-packages\\nltk\\tokenize\\__init__.py:142\u001b[0m, in \u001b[0;36mword_tokenize\u001b[1;34m(text, language, preserve_line)\u001b[0m\n\u001b[0;32m    127\u001b[0m \u001b[38;5;28;01mdef\u001b[39;00m \u001b[38;5;21mword_tokenize\u001b[39m(text, language\u001b[38;5;241m=\u001b[39m\u001b[38;5;124m\"\u001b[39m\u001b[38;5;124menglish\u001b[39m\u001b[38;5;124m\"\u001b[39m, preserve_line\u001b[38;5;241m=\u001b[39m\u001b[38;5;28;01mFalse\u001b[39;00m):\n\u001b[0;32m    128\u001b[0m \u001b[38;5;250m    \u001b[39m\u001b[38;5;124;03m\"\"\"\u001b[39;00m\n\u001b[0;32m    129\u001b[0m \u001b[38;5;124;03m    Return a tokenized copy of *text*,\u001b[39;00m\n\u001b[0;32m    130\u001b[0m \u001b[38;5;124;03m    using NLTK's recommended word tokenizer\u001b[39;00m\n\u001b[1;32m   (...)\u001b[0m\n\u001b[0;32m    140\u001b[0m \u001b[38;5;124;03m    :type preserve_line: bool\u001b[39;00m\n\u001b[0;32m    141\u001b[0m \u001b[38;5;124;03m    \"\"\"\u001b[39;00m\n\u001b[1;32m--> 142\u001b[0m     sentences \u001b[38;5;241m=\u001b[39m [text] \u001b[38;5;28;01mif\u001b[39;00m preserve_line \u001b[38;5;28;01melse\u001b[39;00m \u001b[43msent_tokenize\u001b[49m\u001b[43m(\u001b[49m\u001b[43mtext\u001b[49m\u001b[43m,\u001b[49m\u001b[43m \u001b[49m\u001b[43mlanguage\u001b[49m\u001b[43m)\u001b[49m\n\u001b[0;32m    143\u001b[0m     \u001b[38;5;28;01mreturn\u001b[39;00m [\n\u001b[0;32m    144\u001b[0m         token \u001b[38;5;28;01mfor\u001b[39;00m sent \u001b[38;5;129;01min\u001b[39;00m sentences \u001b[38;5;28;01mfor\u001b[39;00m token \u001b[38;5;129;01min\u001b[39;00m _treebank_word_tokenizer\u001b[38;5;241m.\u001b[39mtokenize(sent)\n\u001b[0;32m    145\u001b[0m     ]\n",
      "File \u001b[1;32mc:\\Users\\eel20\\anaconda3\\lib\\site-packages\\nltk\\tokenize\\__init__.py:119\u001b[0m, in \u001b[0;36msent_tokenize\u001b[1;34m(text, language)\u001b[0m\n\u001b[0;32m    109\u001b[0m \u001b[38;5;28;01mdef\u001b[39;00m \u001b[38;5;21msent_tokenize\u001b[39m(text, language\u001b[38;5;241m=\u001b[39m\u001b[38;5;124m\"\u001b[39m\u001b[38;5;124menglish\u001b[39m\u001b[38;5;124m\"\u001b[39m):\n\u001b[0;32m    110\u001b[0m \u001b[38;5;250m    \u001b[39m\u001b[38;5;124;03m\"\"\"\u001b[39;00m\n\u001b[0;32m    111\u001b[0m \u001b[38;5;124;03m    Return a sentence-tokenized copy of *text*,\u001b[39;00m\n\u001b[0;32m    112\u001b[0m \u001b[38;5;124;03m    using NLTK's recommended sentence tokenizer\u001b[39;00m\n\u001b[1;32m   (...)\u001b[0m\n\u001b[0;32m    117\u001b[0m \u001b[38;5;124;03m    :param language: the model name in the Punkt corpus\u001b[39;00m\n\u001b[0;32m    118\u001b[0m \u001b[38;5;124;03m    \"\"\"\u001b[39;00m\n\u001b[1;32m--> 119\u001b[0m     tokenizer \u001b[38;5;241m=\u001b[39m \u001b[43m_get_punkt_tokenizer\u001b[49m\u001b[43m(\u001b[49m\u001b[43mlanguage\u001b[49m\u001b[43m)\u001b[49m\n\u001b[0;32m    120\u001b[0m     \u001b[38;5;28;01mreturn\u001b[39;00m tokenizer\u001b[38;5;241m.\u001b[39mtokenize(text)\n",
      "File \u001b[1;32mc:\\Users\\eel20\\anaconda3\\lib\\site-packages\\nltk\\tokenize\\__init__.py:105\u001b[0m, in \u001b[0;36m_get_punkt_tokenizer\u001b[1;34m(language)\u001b[0m\n\u001b[0;32m     96\u001b[0m \u001b[38;5;129m@functools\u001b[39m\u001b[38;5;241m.\u001b[39mlru_cache\n\u001b[0;32m     97\u001b[0m \u001b[38;5;28;01mdef\u001b[39;00m \u001b[38;5;21m_get_punkt_tokenizer\u001b[39m(language\u001b[38;5;241m=\u001b[39m\u001b[38;5;124m\"\u001b[39m\u001b[38;5;124menglish\u001b[39m\u001b[38;5;124m\"\u001b[39m):\n\u001b[0;32m     98\u001b[0m \u001b[38;5;250m    \u001b[39m\u001b[38;5;124;03m\"\"\"\u001b[39;00m\n\u001b[0;32m     99\u001b[0m \u001b[38;5;124;03m    A constructor for the PunktTokenizer that utilizes\u001b[39;00m\n\u001b[0;32m    100\u001b[0m \u001b[38;5;124;03m    a lru cache for performance.\u001b[39;00m\n\u001b[1;32m   (...)\u001b[0m\n\u001b[0;32m    103\u001b[0m \u001b[38;5;124;03m    :type language: str\u001b[39;00m\n\u001b[0;32m    104\u001b[0m \u001b[38;5;124;03m    \"\"\"\u001b[39;00m\n\u001b[1;32m--> 105\u001b[0m     \u001b[38;5;28;01mreturn\u001b[39;00m \u001b[43mPunktTokenizer\u001b[49m\u001b[43m(\u001b[49m\u001b[43mlanguage\u001b[49m\u001b[43m)\u001b[49m\n",
      "File \u001b[1;32mc:\\Users\\eel20\\anaconda3\\lib\\site-packages\\nltk\\tokenize\\punkt.py:1744\u001b[0m, in \u001b[0;36mPunktTokenizer.__init__\u001b[1;34m(self, lang)\u001b[0m\n\u001b[0;32m   1742\u001b[0m \u001b[38;5;28;01mdef\u001b[39;00m \u001b[38;5;21m__init__\u001b[39m(\u001b[38;5;28mself\u001b[39m, lang\u001b[38;5;241m=\u001b[39m\u001b[38;5;124m\"\u001b[39m\u001b[38;5;124menglish\u001b[39m\u001b[38;5;124m\"\u001b[39m):\n\u001b[0;32m   1743\u001b[0m     PunktSentenceTokenizer\u001b[38;5;241m.\u001b[39m\u001b[38;5;21m__init__\u001b[39m(\u001b[38;5;28mself\u001b[39m)\n\u001b[1;32m-> 1744\u001b[0m     \u001b[38;5;28;43mself\u001b[39;49m\u001b[38;5;241;43m.\u001b[39;49m\u001b[43mload_lang\u001b[49m\u001b[43m(\u001b[49m\u001b[43mlang\u001b[49m\u001b[43m)\u001b[49m\n",
      "File \u001b[1;32mc:\\Users\\eel20\\anaconda3\\lib\\site-packages\\nltk\\tokenize\\punkt.py:1749\u001b[0m, in \u001b[0;36mPunktTokenizer.load_lang\u001b[1;34m(self, lang)\u001b[0m\n\u001b[0;32m   1746\u001b[0m \u001b[38;5;28;01mdef\u001b[39;00m \u001b[38;5;21mload_lang\u001b[39m(\u001b[38;5;28mself\u001b[39m, lang\u001b[38;5;241m=\u001b[39m\u001b[38;5;124m\"\u001b[39m\u001b[38;5;124menglish\u001b[39m\u001b[38;5;124m\"\u001b[39m):\n\u001b[0;32m   1747\u001b[0m     \u001b[38;5;28;01mfrom\u001b[39;00m \u001b[38;5;21;01mnltk\u001b[39;00m\u001b[38;5;21;01m.\u001b[39;00m\u001b[38;5;21;01mdata\u001b[39;00m \u001b[38;5;28;01mimport\u001b[39;00m find\n\u001b[1;32m-> 1749\u001b[0m     lang_dir \u001b[38;5;241m=\u001b[39m \u001b[43mfind\u001b[49m\u001b[43m(\u001b[49m\u001b[38;5;124;43mf\u001b[39;49m\u001b[38;5;124;43m\"\u001b[39;49m\u001b[38;5;124;43mtokenizers/punkt_tab/\u001b[39;49m\u001b[38;5;132;43;01m{\u001b[39;49;00m\u001b[43mlang\u001b[49m\u001b[38;5;132;43;01m}\u001b[39;49;00m\u001b[38;5;124;43m/\u001b[39;49m\u001b[38;5;124;43m\"\u001b[39;49m\u001b[43m)\u001b[49m\n\u001b[0;32m   1750\u001b[0m     \u001b[38;5;28mself\u001b[39m\u001b[38;5;241m.\u001b[39m_params \u001b[38;5;241m=\u001b[39m load_punkt_params(lang_dir)\n\u001b[0;32m   1751\u001b[0m     \u001b[38;5;28mself\u001b[39m\u001b[38;5;241m.\u001b[39m_lang \u001b[38;5;241m=\u001b[39m lang\n",
      "File \u001b[1;32mc:\\Users\\eel20\\anaconda3\\lib\\site-packages\\nltk\\data.py:579\u001b[0m, in \u001b[0;36mfind\u001b[1;34m(resource_name, paths)\u001b[0m\n\u001b[0;32m    577\u001b[0m sep \u001b[38;5;241m=\u001b[39m \u001b[38;5;124m\"\u001b[39m\u001b[38;5;124m*\u001b[39m\u001b[38;5;124m\"\u001b[39m \u001b[38;5;241m*\u001b[39m \u001b[38;5;241m70\u001b[39m\n\u001b[0;32m    578\u001b[0m resource_not_found \u001b[38;5;241m=\u001b[39m \u001b[38;5;124mf\u001b[39m\u001b[38;5;124m\"\u001b[39m\u001b[38;5;130;01m\\n\u001b[39;00m\u001b[38;5;132;01m{\u001b[39;00msep\u001b[38;5;132;01m}\u001b[39;00m\u001b[38;5;130;01m\\n\u001b[39;00m\u001b[38;5;132;01m{\u001b[39;00mmsg\u001b[38;5;132;01m}\u001b[39;00m\u001b[38;5;130;01m\\n\u001b[39;00m\u001b[38;5;132;01m{\u001b[39;00msep\u001b[38;5;132;01m}\u001b[39;00m\u001b[38;5;130;01m\\n\u001b[39;00m\u001b[38;5;124m\"\u001b[39m\n\u001b[1;32m--> 579\u001b[0m \u001b[38;5;28;01mraise\u001b[39;00m \u001b[38;5;167;01mLookupError\u001b[39;00m(resource_not_found)\n",
      "\u001b[1;31mLookupError\u001b[0m: \n**********************************************************************\n  Resource \u001b[93mpunkt_tab\u001b[0m not found.\n  Please use the NLTK Downloader to obtain the resource:\n\n  \u001b[31m>>> import nltk\n  >>> nltk.download('punkt_tab')\n  \u001b[0m\n  For more information see: https://www.nltk.org/data.html\n\n  Attempted to load \u001b[93mtokenizers/punkt_tab/english/\u001b[0m\n\n  Searched in:\n    - 'C:\\\\Users\\\\eel20/nltk_data'\n    - 'c:\\\\Users\\\\eel20\\\\anaconda3\\\\nltk_data'\n    - 'c:\\\\Users\\\\eel20\\\\anaconda3\\\\share\\\\nltk_data'\n    - 'c:\\\\Users\\\\eel20\\\\anaconda3\\\\lib\\\\nltk_data'\n    - 'C:\\\\Users\\\\eel20\\\\AppData\\\\Roaming\\\\nltk_data'\n    - 'C:\\\\nltk_data'\n    - 'D:\\\\nltk_data'\n    - 'E:\\\\nltk_data'\n**********************************************************************\n"
     ]
    }
   ],
   "source": [
    "import pandas as pd\n",
    "from textblob import TextBlob, Word\n",
    "import re\n",
    "import nltk\n",
    "\n",
    "# Verificar e baixar os pacotes necessários (apenas para garantir)\n",
    "nltk.download('punkt')  # Para tokenização de palavras\n",
    "nltk.download('wordnet')  # Para lematização\n",
    "\n",
    "# Função para pré-processar o texto\n",
    "def preprocess_text(sentence):\n",
    "    # 1. Converter para minúsculas\n",
    "    sentence = sentence.lower()\n",
    "    \n",
    "    # 2. Remover pontuação\n",
    "    sentence = re.sub(r'[^\\w\\s]', '', sentence)\n",
    "    \n",
    "    # 3. Tokenização e lematização diretamente com NLTK (evitando problemas do TextBlob)\n",
    "    tokens = nltk.word_tokenize(sentence)  # Usando NLTK diretamente\n",
    "    lemmatized = [Word(token).lemmatize() for token in tokens]\n",
    "    \n",
    "    return lemmatized\n",
    "\n",
    "# Aplicar o pré-processamento\n",
    "df['Processed_Sentence'] = df['Sentence'].apply(preprocess_text)\n",
    "\n",
    "# Mostrar o resultado\n",
    "print(\"Dataset original com a nova coluna processada:\")\n",
    "print(df[['Sentence', 'Processed_Sentence']])"
   ]
  }
 ],
 "metadata": {
  "kernelspec": {
   "display_name": "base",
   "language": "python",
   "name": "python3"
  },
  "language_info": {
   "codemirror_mode": {
    "name": "ipython",
    "version": 3
   },
   "file_extension": ".py",
   "mimetype": "text/x-python",
   "name": "python",
   "nbconvert_exporter": "python",
   "pygments_lexer": "ipython3",
   "version": "3.9.18"
  }
 },
 "nbformat": 4,
 "nbformat_minor": 2
}
