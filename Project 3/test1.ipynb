{
 "cells": [
  {
   "cell_type": "code",
   "execution_count": 1,
   "metadata": {},
   "outputs": [
    {
     "data": {
      "text/html": [
       "<div>\n",
       "<style scoped>\n",
       "    .dataframe tbody tr th:only-of-type {\n",
       "        vertical-align: middle;\n",
       "    }\n",
       "\n",
       "    .dataframe tbody tr th {\n",
       "        vertical-align: top;\n",
       "    }\n",
       "\n",
       "    .dataframe thead th {\n",
       "        text-align: right;\n",
       "    }\n",
       "</style>\n",
       "<table border=\"1\" class=\"dataframe\">\n",
       "  <thead>\n",
       "    <tr style=\"text-align: right;\">\n",
       "      <th></th>\n",
       "      <th>Sentence</th>\n",
       "      <th>Type</th>\n",
       "      <th>Factual/Subjective</th>\n",
       "      <th>Sentiment</th>\n",
       "    </tr>\n",
       "  </thead>\n",
       "  <tbody>\n",
       "    <tr>\n",
       "      <th>0</th>\n",
       "      <td>I don't like it when plans change unexpectedly.</td>\n",
       "      <td>Negation</td>\n",
       "      <td>Subjective</td>\n",
       "      <td>Anger</td>\n",
       "    </tr>\n",
       "    <tr>\n",
       "      <th>1</th>\n",
       "      <td>I never get tired of this feeling!</td>\n",
       "      <td>Negation</td>\n",
       "      <td>Subjective</td>\n",
       "      <td>Euphoria</td>\n",
       "    </tr>\n",
       "    <tr>\n",
       "      <th>2</th>\n",
       "      <td>Stars are born in nebulae.</td>\n",
       "      <td>Affirmation</td>\n",
       "      <td>Factual</td>\n",
       "      <td>Neutral</td>\n",
       "    </tr>\n",
       "    <tr>\n",
       "      <th>3</th>\n",
       "      <td>I can't believe they did that to me.</td>\n",
       "      <td>Negation</td>\n",
       "      <td>Subjective</td>\n",
       "      <td>Anger</td>\n",
       "    </tr>\n",
       "    <tr>\n",
       "      <th>4</th>\n",
       "      <td>I don't like being underestimated.</td>\n",
       "      <td>Negation</td>\n",
       "      <td>Subjective</td>\n",
       "      <td>Anger</td>\n",
       "    </tr>\n",
       "  </tbody>\n",
       "</table>\n",
       "</div>"
      ],
      "text/plain": [
       "                                          Sentence         Type  \\\n",
       "0  I don't like it when plans change unexpectedly.     Negation   \n",
       "1               I never get tired of this feeling!     Negation   \n",
       "2                       Stars are born in nebulae.  Affirmation   \n",
       "3             I can't believe they did that to me.     Negation   \n",
       "4               I don't like being underestimated.     Negation   \n",
       "\n",
       "  Factual/Subjective Sentiment  \n",
       "0         Subjective     Anger  \n",
       "1         Subjective  Euphoria  \n",
       "2            Factual   Neutral  \n",
       "3         Subjective     Anger  \n",
       "4         Subjective     Anger  "
      ]
     },
     "execution_count": 1,
     "metadata": {},
     "output_type": "execute_result"
    }
   ],
   "source": [
    "import pandas as pd\n",
    "from sklearn.preprocessing import LabelEncoder\n",
    "\n",
    "# Read the CSV file\n",
    "df = pd.read_csv('dataset.csv')\n",
    "\n",
    "# Shuffle the data\n",
    "df = df.sample(frac=1).reset_index(drop=True)\n",
    "df.head()"
   ]
  },
  {
   "cell_type": "code",
   "execution_count": 2,
   "metadata": {},
   "outputs": [
    {
     "data": {
      "text/plain": [
       "Type\n",
       "Affirmation    1435\n",
       "Negation       1014\n",
       "Name: count, dtype: int64"
      ]
     },
     "execution_count": 2,
     "metadata": {},
     "output_type": "execute_result"
    }
   ],
   "source": [
    "# Verify Class balance \"Type\" column\n",
    "df['Type'].value_counts()  "
   ]
  },
  {
   "cell_type": "code",
   "execution_count": 3,
   "metadata": {},
   "outputs": [
    {
     "data": {
      "text/plain": [
       "Factual/Subjective\n",
       "Subjective    1457\n",
       "Factual        992\n",
       "Name: count, dtype: int64"
      ]
     },
     "execution_count": 3,
     "metadata": {},
     "output_type": "execute_result"
    }
   ],
   "source": [
    "# Verify Class balance \"Factual/Subjective\" column\n",
    "df['Factual/Subjective'].value_counts()  "
   ]
  },
  {
   "cell_type": "code",
   "execution_count": null,
   "metadata": {},
   "outputs": [],
   "source": []
  },
  {
   "cell_type": "code",
   "execution_count": 4,
   "metadata": {},
   "outputs": [
    {
     "data": {
      "text/plain": [
       "Sentiment\n",
       "Neutral      830\n",
       "Anger        465\n",
       "Sadness      442\n",
       "Happiness    392\n",
       "Euphoria     320\n",
       "Name: count, dtype: int64"
      ]
     },
     "execution_count": 4,
     "metadata": {},
     "output_type": "execute_result"
    }
   ],
   "source": [
    "# Verify Class balance \"Sentiment\" column\n",
    "df['Sentiment'].value_counts()  "
   ]
  },
  {
   "cell_type": "code",
   "execution_count": 5,
   "metadata": {},
   "outputs": [
    {
     "data": {
      "text/plain": [
       "Sentence              0\n",
       "Type                  0\n",
       "Factual/Subjective    0\n",
       "Sentiment             0\n",
       "dtype: int64"
      ]
     },
     "execution_count": 5,
     "metadata": {},
     "output_type": "execute_result"
    }
   ],
   "source": [
    "# Check for missing values\n",
    "df.isnull().sum()"
   ]
  },
  {
   "cell_type": "code",
   "execution_count": 6,
   "metadata": {},
   "outputs": [
    {
     "name": "stdout",
     "output_type": "stream",
     "text": [
      "Type\n",
      "Affirmation    1435\n",
      "Negation       1014\n",
      "Name: count, dtype: int64\n",
      "-----------------------------\n",
      "Factual/Subjective\n",
      "Subjective    1457\n",
      "Factual        992\n",
      "Name: count, dtype: int64\n",
      "-----------------------------\n",
      "Sentiment\n",
      "Neutral      830\n",
      "Anger        465\n",
      "Sadness      442\n",
      "Happiness    392\n",
      "Euphoria     320\n",
      "Name: count, dtype: int64\n",
      "-----------------------------\n"
     ]
    }
   ],
   "source": [
    "# Verify Class balance \"Type\" column\n",
    "print(df['Type'].value_counts())\n",
    "print(\"-----------------------------\")\n",
    "# Verify Class balance \"Factual/Subjective\" column\n",
    "print(df['Factual/Subjective'].value_counts())\n",
    "print(\"-----------------------------\")\n",
    "# Verify Class balance \"Sentiment\" column\n",
    "print(df['Sentiment'].value_counts())\n",
    "print(\"-----------------------------\")"
   ]
  },
  {
   "cell_type": "code",
   "execution_count": 7,
   "metadata": {},
   "outputs": [
    {
     "name": "stdout",
     "output_type": "stream",
     "text": [
      "Sentence\n",
      "I don't like being rushed.                           5\n",
      "I don't like being ignored.                          5\n",
      "The stars twinkle in the night sky.                  4\n",
      "I don't like being misunderstood.                    4\n",
      "I don't like loud music.                             4\n",
      "                                                    ..\n",
      "Earth's core is liquid iron.                         1\n",
      "I dislike how she treats people.                     1\n",
      "I don’t feel rested after sleep.                     1\n",
      "Crying is a healthy way to express emotions.         1\n",
      "This is the most frustrating experience I've had!    1\n",
      "Name: count, Length: 2094, dtype: int64\n"
     ]
    }
   ],
   "source": [
    "# verify and print all repeated values in the column Sentence\n",
    "print(df['Sentence'].value_counts())"
   ]
  },
  {
   "cell_type": "code",
   "execution_count": 8,
   "metadata": {},
   "outputs": [],
   "source": [
    "# Drop duplicates\n",
    "df = df.drop_duplicates(subset='Sentence')"
   ]
  },
  {
   "cell_type": "code",
   "execution_count": 9,
   "metadata": {},
   "outputs": [
    {
     "data": {
      "application/vnd.microsoft.datawrangler.viewer.v0+json": {
       "columns": [
        {
         "name": "index",
         "rawType": "int64",
         "type": "integer"
        },
        {
         "name": "Sentence",
         "rawType": "object",
         "type": "string"
        },
        {
         "name": "Type",
         "rawType": "object",
         "type": "string"
        },
        {
         "name": "Factual/Subjective",
         "rawType": "object",
         "type": "string"
        },
        {
         "name": "Sentiment",
         "rawType": "object",
         "type": "string"
        }
       ],
       "conversionMethod": "pd.DataFrame",
       "ref": "ef43055b-17d3-4160-a253-53da5d9e71be",
       "rows": [
        [
         "0",
         "I don't like it when plans change unexpectedly.",
         "Negation",
         "Subjective",
         "Anger"
        ],
        [
         "1",
         "I never get tired of this feeling!",
         "Negation",
         "Subjective",
         "Euphoria"
        ],
        [
         "2",
         "Stars are born in nebulae.",
         "Affirmation",
         "Factual",
         "Neutral"
        ],
        [
         "3",
         "I can't believe they did that to me.",
         "Negation",
         "Subjective",
         "Anger"
        ],
        [
         "4",
         "I don't like being underestimated.",
         "Negation",
         "Subjective",
         "Anger"
        ],
        [
         "5",
         "I don't like being manipulated.",
         "Negation",
         "Subjective",
         "Anger"
        ],
        [
         "6",
         "Sharks don’t attack humans often.",
         "Negation",
         "Factual",
         "Neutral"
        ],
        [
         "7",
         "Their blatant, unprovoked aggression is igniting a raging inferno of fury within my soul.",
         "Affirmation",
         "Subjective",
         "Anger"
        ],
        [
         "8",
         "I don't think this is a good idea.",
         "Negation",
         "Subjective",
         "Sadness"
        ],
        [
         "9",
         "I do not like the feeling of being ignored.",
         "Negation",
         "Subjective",
         "Anger"
        ],
        [
         "10",
         "This is the most beautiful sunset I've seen!",
         "Affirmation",
         "Subjective",
         "Euphoria"
        ],
        [
         "11",
         "I never expected such a wonderful surprise!",
         "Negation",
         "Subjective",
         "Happiness"
        ],
        [
         "12",
         "The heart pumps blood through the body.",
         "Affirmation",
         "Factual",
         "Neutral"
        ],
        [
         "13",
         "I can't bear the cold.",
         "Negation",
         "Subjective",
         "Sadness"
        ],
        [
         "14",
         "This news is incredibly exciting.",
         "Affirmation",
         "Subjective",
         "Euphoria"
        ],
        [
         "15",
         "Butterflies undergo metamorphosis.",
         "Affirmation",
         "Factual",
         "Neutral"
        ],
        [
         "16",
         "I don't want to remember that painful day.",
         "Negation",
         "Subjective",
         "Sadness"
        ],
        [
         "17",
         "Their calculated, systematic undermining of my efforts is igniting a cold, simmering rage within me.",
         "Affirmation",
         "Subjective",
         "Anger"
        ],
        [
         "18",
         "I can't stand bad manners.",
         "Negation",
         "Factual",
         "Anger"
        ],
        [
         "19",
         "I don't believe in ghosts.",
         "Negation",
         "Subjective",
         "Neutral"
        ],
        [
         "20",
         "I wouldn't recommend that restaurant.",
         "Negation",
         "Subjective",
         "Anger"
        ],
        [
         "21",
         "I mourn lost connections.",
         "Affirmation",
         "Subjective",
         "Sadness"
        ],
        [
         "22",
         "The discovery of fire was a turning point in human history.",
         "Affirmation",
         "Factual",
         "Neutral"
        ],
        [
         "23",
         "5G networks do not cause health hazards.",
         "Negation",
         "Factual",
         "Neutral"
        ],
        [
         "24",
         "The bank closes at 5 PM.",
         "Affirmation",
         "Factual",
         "Neutral"
        ],
        [
         "25",
         "The moment the music swelled at the climax of the opera was euphoric.",
         "Affirmation",
         "Subjective",
         "Euphoria"
        ],
        [
         "26",
         "I feel so happy today!",
         "Affirmation",
         "Subjective",
         "Happiness"
        ],
        [
         "27",
         "I'm overflowing with pure happiness after the surprise visit from my long-lost cousin.",
         "Affirmation",
         "Subjective",
         "Happiness"
        ],
        [
         "28",
         "Pterodactyls are not dinosaurs.",
         "Negation",
         "Factual",
         "Neutral"
        ],
        [
         "29",
         "This achievement astonishes me!",
         "Affirmation",
         "Subjective",
         "Euphoria"
        ],
        [
         "30",
         "I'm thrilled beyond measure by the surprise party thrown in my honor.",
         "Affirmation",
         "Subjective",
         "Happiness"
        ],
        [
         "31",
         "Their constant, passive-aggressive jabs are pushing me to the brink of uncontrollable fury.",
         "Affirmation",
         "Subjective",
         "Anger"
        ],
        [
         "32",
         "This opportunity is amazing.",
         "Affirmation",
         "Subjective",
         "Euphoria"
        ],
        [
         "33",
         "Unfinished projects stress me.",
         "Affirmation",
         "Subjective",
         "Anger"
        ],
        [
         "34",
         "That experience was traumatizing.",
         "Negation",
         "Subjective",
         "Sadness"
        ],
        [
         "35",
         "Human eye distinguishes 500 gray shades.",
         "Affirmation",
         "Factual",
         "Neutral"
        ],
        [
         "36",
         "I don't like loud music.",
         "Negation",
         "Subjective",
         "Anger"
        ],
        [
         "37",
         "The arrival was a moment of intense happiness.",
         "Affirmation",
         "Subjective",
         "Euphoria"
        ],
        [
         "38",
         "The scent of fresh flowers brightens my day.",
         "Affirmation",
         "Subjective",
         "Happiness"
        ],
        [
         "39",
         "Spring flowers brighten my mood.",
         "Affirmation",
         "Subjective",
         "Happiness"
        ],
        [
         "40",
         "Moon causes Earth tides.",
         "Affirmation",
         "Factual",
         "Neutral"
        ],
        [
         "41",
         "I don't like being late.",
         "Negation",
         "Factual",
         "Anger"
        ],
        [
         "42",
         "I can't stand rude behavior.",
         "Negation",
         "Factual",
         "Anger"
        ],
        [
         "43",
         "The moon orbits the Earth.",
         "Affirmation",
         "Factual",
         "Neutral"
        ],
        [
         "44",
         "I do not enjoy feeling overwhelmed by tasks.",
         "Negation",
         "Factual",
         "Sadness"
        ],
        [
         "45",
         "I don't agree with his methods.",
         "Negation",
         "Subjective",
         "Neutral"
        ],
        [
         "46",
         "The Amazon rainforest is the largest in the world.",
         "Affirmation",
         "Factual",
         "Neutral"
        ],
        [
         "47",
         "Whales don’t live in rivers.",
         "Negation",
         "Factual",
         "Neutral"
        ],
        [
         "48",
         "The feeling of completing a complex puzzle was euphoric satisfaction.",
         "Affirmation",
         "Subjective",
         "Euphoria"
        ],
        [
         "49",
         "This unexpected reunion is a source of immense delight.",
         "Affirmation",
         "Subjective",
         "Euphoria"
        ]
       ],
       "shape": {
        "columns": 4,
        "rows": 2094
       }
      },
      "text/html": [
       "<div>\n",
       "<style scoped>\n",
       "    .dataframe tbody tr th:only-of-type {\n",
       "        vertical-align: middle;\n",
       "    }\n",
       "\n",
       "    .dataframe tbody tr th {\n",
       "        vertical-align: top;\n",
       "    }\n",
       "\n",
       "    .dataframe thead th {\n",
       "        text-align: right;\n",
       "    }\n",
       "</style>\n",
       "<table border=\"1\" class=\"dataframe\">\n",
       "  <thead>\n",
       "    <tr style=\"text-align: right;\">\n",
       "      <th></th>\n",
       "      <th>Sentence</th>\n",
       "      <th>Type</th>\n",
       "      <th>Factual/Subjective</th>\n",
       "      <th>Sentiment</th>\n",
       "    </tr>\n",
       "  </thead>\n",
       "  <tbody>\n",
       "    <tr>\n",
       "      <th>0</th>\n",
       "      <td>I don't like it when plans change unexpectedly.</td>\n",
       "      <td>Negation</td>\n",
       "      <td>Subjective</td>\n",
       "      <td>Anger</td>\n",
       "    </tr>\n",
       "    <tr>\n",
       "      <th>1</th>\n",
       "      <td>I never get tired of this feeling!</td>\n",
       "      <td>Negation</td>\n",
       "      <td>Subjective</td>\n",
       "      <td>Euphoria</td>\n",
       "    </tr>\n",
       "    <tr>\n",
       "      <th>2</th>\n",
       "      <td>Stars are born in nebulae.</td>\n",
       "      <td>Affirmation</td>\n",
       "      <td>Factual</td>\n",
       "      <td>Neutral</td>\n",
       "    </tr>\n",
       "    <tr>\n",
       "      <th>3</th>\n",
       "      <td>I can't believe they did that to me.</td>\n",
       "      <td>Negation</td>\n",
       "      <td>Subjective</td>\n",
       "      <td>Anger</td>\n",
       "    </tr>\n",
       "    <tr>\n",
       "      <th>4</th>\n",
       "      <td>I don't like being underestimated.</td>\n",
       "      <td>Negation</td>\n",
       "      <td>Subjective</td>\n",
       "      <td>Anger</td>\n",
       "    </tr>\n",
       "    <tr>\n",
       "      <th>...</th>\n",
       "      <td>...</td>\n",
       "      <td>...</td>\n",
       "      <td>...</td>\n",
       "      <td>...</td>\n",
       "    </tr>\n",
       "    <tr>\n",
       "      <th>2439</th>\n",
       "      <td>The endeavor was a complete bust.</td>\n",
       "      <td>Negation</td>\n",
       "      <td>Subjective</td>\n",
       "      <td>Anger</td>\n",
       "    </tr>\n",
       "    <tr>\n",
       "      <th>2442</th>\n",
       "      <td>Infinity is not a number in mathematics.</td>\n",
       "      <td>Negation</td>\n",
       "      <td>Factual</td>\n",
       "      <td>Neutral</td>\n",
       "    </tr>\n",
       "    <tr>\n",
       "      <th>2444</th>\n",
       "      <td>I do not feel any discomfort.</td>\n",
       "      <td>Negation</td>\n",
       "      <td>Factual</td>\n",
       "      <td>Euphoria</td>\n",
       "    </tr>\n",
       "    <tr>\n",
       "      <th>2445</th>\n",
       "      <td>I don’t enjoy waking up early.</td>\n",
       "      <td>Negation</td>\n",
       "      <td>Subjective</td>\n",
       "      <td>Sadness</td>\n",
       "    </tr>\n",
       "    <tr>\n",
       "      <th>2448</th>\n",
       "      <td>This is the most frustrating experience I've had!</td>\n",
       "      <td>Affirmation</td>\n",
       "      <td>Subjective</td>\n",
       "      <td>Anger</td>\n",
       "    </tr>\n",
       "  </tbody>\n",
       "</table>\n",
       "<p>2094 rows × 4 columns</p>\n",
       "</div>"
      ],
      "text/plain": [
       "                                               Sentence         Type  \\\n",
       "0       I don't like it when plans change unexpectedly.     Negation   \n",
       "1                    I never get tired of this feeling!     Negation   \n",
       "2                            Stars are born in nebulae.  Affirmation   \n",
       "3                  I can't believe they did that to me.     Negation   \n",
       "4                    I don't like being underestimated.     Negation   \n",
       "...                                                 ...          ...   \n",
       "2439                  The endeavor was a complete bust.     Negation   \n",
       "2442           Infinity is not a number in mathematics.     Negation   \n",
       "2444                      I do not feel any discomfort.     Negation   \n",
       "2445                     I don’t enjoy waking up early.     Negation   \n",
       "2448  This is the most frustrating experience I've had!  Affirmation   \n",
       "\n",
       "     Factual/Subjective Sentiment  \n",
       "0            Subjective     Anger  \n",
       "1            Subjective  Euphoria  \n",
       "2               Factual   Neutral  \n",
       "3            Subjective     Anger  \n",
       "4            Subjective     Anger  \n",
       "...                 ...       ...  \n",
       "2439         Subjective     Anger  \n",
       "2442            Factual   Neutral  \n",
       "2444            Factual  Euphoria  \n",
       "2445         Subjective   Sadness  \n",
       "2448         Subjective     Anger  \n",
       "\n",
       "[2094 rows x 4 columns]"
      ]
     },
     "execution_count": 9,
     "metadata": {},
     "output_type": "execute_result"
    }
   ],
   "source": [
    "df"
   ]
  },
  {
   "cell_type": "code",
   "execution_count": 10,
   "metadata": {},
   "outputs": [
    {
     "name": "stdout",
     "output_type": "stream",
     "text": [
      "Type\n",
      "Affirmation    1271\n",
      "Negation        823\n",
      "Name: count, dtype: int64\n",
      "-----------------------------\n",
      "Factual/Subjective\n",
      "Subjective    1254\n",
      "Factual        840\n",
      "Name: count, dtype: int64\n",
      "-----------------------------\n",
      "Sentiment\n",
      "Neutral      720\n",
      "Anger        376\n",
      "Sadness      363\n",
      "Happiness    339\n",
      "Euphoria     296\n",
      "Name: count, dtype: int64\n",
      "-----------------------------\n"
     ]
    }
   ],
   "source": [
    "# Verify Class balance \"Type\" column\n",
    "print(df['Type'].value_counts())\n",
    "print(\"-----------------------------\")\n",
    "# Verify Class balance \"Factual/Subjective\" column\n",
    "print(df['Factual/Subjective'].value_counts())\n",
    "print(\"-----------------------------\")\n",
    "# Verify Class balance \"Sentiment\" column\n",
    "print(df['Sentiment'].value_counts())\n",
    "print(\"-----------------------------\")"
   ]
  },
  {
   "cell_type": "code",
   "execution_count": 15,
   "metadata": {},
   "outputs": [
    {
     "data": {
      "application/vnd.microsoft.datawrangler.viewer.v0+json": {
       "columns": [
        {
         "name": "index",
         "rawType": "int64",
         "type": "integer"
        },
        {
         "name": "Sentence",
         "rawType": "object",
         "type": "string"
        },
        {
         "name": "Type",
         "rawType": "object",
         "type": "string"
        },
        {
         "name": "Factual/Subjective",
         "rawType": "object",
         "type": "string"
        },
        {
         "name": "Sentiment",
         "rawType": "object",
         "type": "string"
        },
        {
         "name": "polarity",
         "rawType": "float64",
         "type": "float"
        }
       ],
       "conversionMethod": "pd.DataFrame",
       "ref": "3bfb2a6b-1610-49d1-bc02-903880e2156e",
       "rows": [
        [
         "0",
         "I despise waking up early.",
         "Affirmation",
         "Subjective",
         "Anger",
         "0.1"
        ],
        [
         "1",
         "Chocolate is my favorite dessert.",
         "Affirmation",
         "Subjective",
         "Happiness",
         "0.5"
        ],
        [
         "2",
         "I never thought I'd feel this heartbroken.",
         "Negation",
         "Subjective",
         "Sadness",
         "0.0"
        ],
        [
         "3",
         "Childhood memories warm my heart.",
         "Affirmation",
         "Subjective",
         "Happiness",
         "0.6"
        ],
        [
         "4",
         "I don't like feeling useless.",
         "Negation",
         "Factual",
         "Sadness",
         "-0.5"
        ]
       ],
       "shape": {
        "columns": 5,
        "rows": 5
       }
      },
      "text/html": [
       "<div>\n",
       "<style scoped>\n",
       "    .dataframe tbody tr th:only-of-type {\n",
       "        vertical-align: middle;\n",
       "    }\n",
       "\n",
       "    .dataframe tbody tr th {\n",
       "        vertical-align: top;\n",
       "    }\n",
       "\n",
       "    .dataframe thead th {\n",
       "        text-align: right;\n",
       "    }\n",
       "</style>\n",
       "<table border=\"1\" class=\"dataframe\">\n",
       "  <thead>\n",
       "    <tr style=\"text-align: right;\">\n",
       "      <th></th>\n",
       "      <th>Sentence</th>\n",
       "      <th>Type</th>\n",
       "      <th>Factual/Subjective</th>\n",
       "      <th>Sentiment</th>\n",
       "      <th>polarity</th>\n",
       "    </tr>\n",
       "  </thead>\n",
       "  <tbody>\n",
       "    <tr>\n",
       "      <th>0</th>\n",
       "      <td>I despise waking up early.</td>\n",
       "      <td>Affirmation</td>\n",
       "      <td>Subjective</td>\n",
       "      <td>Anger</td>\n",
       "      <td>0.1</td>\n",
       "    </tr>\n",
       "    <tr>\n",
       "      <th>1</th>\n",
       "      <td>Chocolate is my favorite dessert.</td>\n",
       "      <td>Affirmation</td>\n",
       "      <td>Subjective</td>\n",
       "      <td>Happiness</td>\n",
       "      <td>0.5</td>\n",
       "    </tr>\n",
       "    <tr>\n",
       "      <th>2</th>\n",
       "      <td>I never thought I'd feel this heartbroken.</td>\n",
       "      <td>Negation</td>\n",
       "      <td>Subjective</td>\n",
       "      <td>Sadness</td>\n",
       "      <td>0.0</td>\n",
       "    </tr>\n",
       "    <tr>\n",
       "      <th>3</th>\n",
       "      <td>Childhood memories warm my heart.</td>\n",
       "      <td>Affirmation</td>\n",
       "      <td>Subjective</td>\n",
       "      <td>Happiness</td>\n",
       "      <td>0.6</td>\n",
       "    </tr>\n",
       "    <tr>\n",
       "      <th>4</th>\n",
       "      <td>I don't like feeling useless.</td>\n",
       "      <td>Negation</td>\n",
       "      <td>Factual</td>\n",
       "      <td>Sadness</td>\n",
       "      <td>-0.5</td>\n",
       "    </tr>\n",
       "  </tbody>\n",
       "</table>\n",
       "</div>"
      ],
      "text/plain": [
       "                                     Sentence         Type Factual/Subjective  \\\n",
       "0                  I despise waking up early.  Affirmation         Subjective   \n",
       "1           Chocolate is my favorite dessert.  Affirmation         Subjective   \n",
       "2  I never thought I'd feel this heartbroken.     Negation         Subjective   \n",
       "3           Childhood memories warm my heart.  Affirmation         Subjective   \n",
       "4               I don't like feeling useless.     Negation            Factual   \n",
       "\n",
       "   Sentiment  polarity  \n",
       "0      Anger       0.1  \n",
       "1  Happiness       0.5  \n",
       "2    Sadness       0.0  \n",
       "3  Happiness       0.6  \n",
       "4    Sadness      -0.5  "
      ]
     },
     "execution_count": 15,
     "metadata": {},
     "output_type": "execute_result"
    }
   ],
   "source": [
    "# implement textblob library to calculate the polarity of each sentence\n",
    "from textblob import TextBlob\n",
    "df['polarity'] = df['Sentence'].apply(lambda x: TextBlob(x).sentiment.polarity)\n",
    "df.head()\n"
   ]
  },
  {
   "cell_type": "code",
   "execution_count": 16,
   "metadata": {},
   "outputs": [
    {
     "data": {
      "application/vnd.microsoft.datawrangler.viewer.v0+json": {
       "columns": [
        {
         "name": "index",
         "rawType": "int64",
         "type": "integer"
        },
        {
         "name": "Sentence",
         "rawType": "object",
         "type": "string"
        },
        {
         "name": "Type",
         "rawType": "object",
         "type": "string"
        },
        {
         "name": "Factual/Subjective",
         "rawType": "object",
         "type": "string"
        },
        {
         "name": "Sentiment",
         "rawType": "object",
         "type": "string"
        },
        {
         "name": "polarity",
         "rawType": "float64",
         "type": "float"
        },
        {
         "name": "subjectivity",
         "rawType": "float64",
         "type": "float"
        }
       ],
       "conversionMethod": "pd.DataFrame",
       "ref": "7076aece-f909-48bc-9160-814eed9ef3cd",
       "rows": [
        [
         "0",
         "I despise waking up early.",
         "Affirmation",
         "Subjective",
         "Anger",
         "0.1",
         "0.3"
        ],
        [
         "1",
         "Chocolate is my favorite dessert.",
         "Affirmation",
         "Subjective",
         "Happiness",
         "0.5",
         "1.0"
        ],
        [
         "2",
         "I never thought I'd feel this heartbroken.",
         "Negation",
         "Subjective",
         "Sadness",
         "0.0",
         "0.0"
        ],
        [
         "3",
         "Childhood memories warm my heart.",
         "Affirmation",
         "Subjective",
         "Happiness",
         "0.6",
         "0.6"
        ],
        [
         "4",
         "I don't like feeling useless.",
         "Negation",
         "Factual",
         "Sadness",
         "-0.5",
         "0.2"
        ]
       ],
       "shape": {
        "columns": 6,
        "rows": 5
       }
      },
      "text/html": [
       "<div>\n",
       "<style scoped>\n",
       "    .dataframe tbody tr th:only-of-type {\n",
       "        vertical-align: middle;\n",
       "    }\n",
       "\n",
       "    .dataframe tbody tr th {\n",
       "        vertical-align: top;\n",
       "    }\n",
       "\n",
       "    .dataframe thead th {\n",
       "        text-align: right;\n",
       "    }\n",
       "</style>\n",
       "<table border=\"1\" class=\"dataframe\">\n",
       "  <thead>\n",
       "    <tr style=\"text-align: right;\">\n",
       "      <th></th>\n",
       "      <th>Sentence</th>\n",
       "      <th>Type</th>\n",
       "      <th>Factual/Subjective</th>\n",
       "      <th>Sentiment</th>\n",
       "      <th>polarity</th>\n",
       "      <th>subjectivity</th>\n",
       "    </tr>\n",
       "  </thead>\n",
       "  <tbody>\n",
       "    <tr>\n",
       "      <th>0</th>\n",
       "      <td>I despise waking up early.</td>\n",
       "      <td>Affirmation</td>\n",
       "      <td>Subjective</td>\n",
       "      <td>Anger</td>\n",
       "      <td>0.1</td>\n",
       "      <td>0.3</td>\n",
       "    </tr>\n",
       "    <tr>\n",
       "      <th>1</th>\n",
       "      <td>Chocolate is my favorite dessert.</td>\n",
       "      <td>Affirmation</td>\n",
       "      <td>Subjective</td>\n",
       "      <td>Happiness</td>\n",
       "      <td>0.5</td>\n",
       "      <td>1.0</td>\n",
       "    </tr>\n",
       "    <tr>\n",
       "      <th>2</th>\n",
       "      <td>I never thought I'd feel this heartbroken.</td>\n",
       "      <td>Negation</td>\n",
       "      <td>Subjective</td>\n",
       "      <td>Sadness</td>\n",
       "      <td>0.0</td>\n",
       "      <td>0.0</td>\n",
       "    </tr>\n",
       "    <tr>\n",
       "      <th>3</th>\n",
       "      <td>Childhood memories warm my heart.</td>\n",
       "      <td>Affirmation</td>\n",
       "      <td>Subjective</td>\n",
       "      <td>Happiness</td>\n",
       "      <td>0.6</td>\n",
       "      <td>0.6</td>\n",
       "    </tr>\n",
       "    <tr>\n",
       "      <th>4</th>\n",
       "      <td>I don't like feeling useless.</td>\n",
       "      <td>Negation</td>\n",
       "      <td>Factual</td>\n",
       "      <td>Sadness</td>\n",
       "      <td>-0.5</td>\n",
       "      <td>0.2</td>\n",
       "    </tr>\n",
       "  </tbody>\n",
       "</table>\n",
       "</div>"
      ],
      "text/plain": [
       "                                     Sentence         Type Factual/Subjective  \\\n",
       "0                  I despise waking up early.  Affirmation         Subjective   \n",
       "1           Chocolate is my favorite dessert.  Affirmation         Subjective   \n",
       "2  I never thought I'd feel this heartbroken.     Negation         Subjective   \n",
       "3           Childhood memories warm my heart.  Affirmation         Subjective   \n",
       "4               I don't like feeling useless.     Negation            Factual   \n",
       "\n",
       "   Sentiment  polarity  subjectivity  \n",
       "0      Anger       0.1           0.3  \n",
       "1  Happiness       0.5           1.0  \n",
       "2    Sadness       0.0           0.0  \n",
       "3  Happiness       0.6           0.6  \n",
       "4    Sadness      -0.5           0.2  "
      ]
     },
     "execution_count": 16,
     "metadata": {},
     "output_type": "execute_result"
    }
   ],
   "source": [
    "# textblob library to calculate the subjectivity of each sentence\n",
    "df['subjectivity'] = df['Sentence'].apply(lambda x: TextBlob(x).sentiment.subjectivity)\n",
    "df.head()\n"
   ]
  },
  {
   "cell_type": "code",
   "execution_count": 17,
   "metadata": {},
   "outputs": [
    {
     "data": {
      "application/vnd.microsoft.datawrangler.viewer.v0+json": {
       "columns": [
        {
         "name": "index",
         "rawType": "int64",
         "type": "integer"
        },
        {
         "name": "Sentence",
         "rawType": "object",
         "type": "string"
        },
        {
         "name": "Type",
         "rawType": "object",
         "type": "string"
        },
        {
         "name": "Factual/Subjective",
         "rawType": "object",
         "type": "string"
        },
        {
         "name": "Sentiment",
         "rawType": "object",
         "type": "string"
        },
        {
         "name": "polarity",
         "rawType": "float64",
         "type": "float"
        },
        {
         "name": "subjectivity",
         "rawType": "float64",
         "type": "float"
        }
       ],
       "conversionMethod": "pd.DataFrame",
       "ref": "22ae4f26-27e0-431c-8bde-fd1e3cfbc691",
       "rows": [
        [
         "0",
         "I despise waking up early.",
         "Affirmation",
         "Subjective",
         "Anger",
         "0.1",
         "0.3"
        ],
        [
         "1",
         "Chocolate is my favorite dessert.",
         "Affirmation",
         "Subjective",
         "Happiness",
         "0.5",
         "1.0"
        ],
        [
         "2",
         "I never thought I'd feel this heartbroken.",
         "Negation",
         "Subjective",
         "Sadness",
         "0.0",
         "0.0"
        ],
        [
         "3",
         "Childhood memories warm my heart.",
         "Affirmation",
         "Subjective",
         "Happiness",
         "0.6",
         "0.6"
        ],
        [
         "4",
         "I don't like feeling useless.",
         "Negation",
         "Factual",
         "Sadness",
         "-0.5",
         "0.2"
        ],
        [
         "5",
         "I never get tired of hearing good news!",
         "Negation",
         "Subjective",
         "Happiness",
         "0.2375",
         "0.65"
        ],
        [
         "6",
         "The smell of rain uplifts my spirit.",
         "Affirmation",
         "Subjective",
         "Happiness",
         "0.0",
         "0.0"
        ],
        [
         "7",
         "That experience was life-changing.",
         "Affirmation",
         "Subjective",
         "Euphoria",
         "0.0",
         "0.0"
        ],
        [
         "8",
         "I don’t understand this code.",
         "Negation",
         "Subjective",
         "Neutral",
         "0.0",
         "0.0"
        ],
        [
         "9",
         "Education empowers individuals.",
         "Affirmation",
         "Factual",
         "Neutral",
         "0.0",
         "0.0"
        ],
        [
         "10",
         "I’m not excited about this trip.",
         "Negation",
         "Subjective",
         "Sadness",
         "-0.1875",
         "0.75"
        ],
        [
         "11",
         "Spending time with loved ones is precious.",
         "Affirmation",
         "Subjective",
         "Happiness",
         "0.6",
         "0.9"
        ],
        [
         "12",
         "I don't like dishonest people.",
         "Negation",
         "Subjective",
         "Anger",
         "-0.3",
         "0.5"
        ],
        [
         "13",
         "I don’t feel included in this group.",
         "Negation",
         "Subjective",
         "Sadness",
         "0.0",
         "0.0"
        ],
        [
         "14",
         "That game was incredibly exciting.",
         "Affirmation",
         "Subjective",
         "Euphoria",
         "-0.05000000000000002",
         "0.6000000000000001"
        ],
        [
         "15",
         "Fish don’t walk on land.",
         "Negation",
         "Factual",
         "Neutral",
         "0.0",
         "0.0"
        ],
        [
         "16",
         "Clean water is essential for life.",
         "Affirmation",
         "Factual",
         "Neutral",
         "0.18333333333333335",
         "0.5"
        ],
        [
         "17",
         "She never responds to my messages.",
         "Negation",
         "Factual",
         "Anger",
         "0.0",
         "0.0"
        ],
        [
         "18",
         "I'm ecstatic about the upcoming adventure.",
         "Affirmation",
         "Subjective",
         "Happiness",
         "0.0",
         "0.0"
        ],
        [
         "19",
         "I hate missing the bus.",
         "Affirmation",
         "Subjective",
         "Anger",
         "-0.5",
         "0.47500000000000003"
        ],
        [
         "20",
         "Moon landings were not faked.",
         "Negation",
         "Factual",
         "Neutral",
         "0.0",
         "0.0"
        ],
        [
         "21",
         "Computers help us work faster.",
         "Affirmation",
         "Factual",
         "Neutral",
         "0.0",
         "0.0"
        ],
        [
         "22",
         "I am not comfortable with this decision.",
         "Negation",
         "Subjective",
         "Sadness",
         "-0.2",
         "0.8"
        ],
        [
         "23",
         "I never get tired of watching sunsets.",
         "Negation",
         "Subjective",
         "Happiness",
         "-0.4",
         "0.7"
        ],
        [
         "24",
         "I don’t trust this weather forecast.",
         "Negation",
         "Subjective",
         "Neutral",
         "0.0",
         "0.0"
        ],
        [
         "25",
         "This blatant disrespect is making my blood boil.",
         "Affirmation",
         "Subjective",
         "Anger",
         "-0.5",
         "0.5"
        ],
        [
         "26",
         "I don't like the texture of mushrooms.",
         "Negation",
         "Subjective",
         "Neutral",
         "0.0",
         "0.0"
        ],
        [
         "27",
         "I am consumed by a deep sense of loss.",
         "Affirmation",
         "Subjective",
         "Sadness",
         "0.0",
         "0.4"
        ],
        [
         "28",
         "I’m not interested in politics.",
         "Negation",
         "Subjective",
         "Neutral",
         "-0.125",
         "0.5"
        ],
        [
         "29",
         "I don't like being taken for granted.",
         "Negation",
         "Subjective",
         "Anger",
         "0.0",
         "0.0"
        ],
        [
         "30",
         "I'm so pleased with my progress.",
         "Affirmation",
         "Subjective",
         "Happiness",
         "0.5",
         "1.0"
        ],
        [
         "31",
         "Mars does not have liquid water.",
         "Negation",
         "Factual",
         "Neutral",
         "0.0",
         "0.0"
        ],
        [
         "32",
         "Running in the morning boosts my mood.",
         "Affirmation",
         "Subjective",
         "Happiness",
         "0.0",
         "0.0"
        ],
        [
         "33",
         "Light travels faster than sound.",
         "Affirmation",
         "Factual",
         "Neutral",
         "0.4",
         "0.55"
        ],
        [
         "34",
         "I resent broken promises.",
         "Affirmation",
         "Subjective",
         "Anger",
         "-0.4",
         "0.4"
        ],
        [
         "35",
         "Human hair contains gold.",
         "Affirmation",
         "Factual",
         "Neutral",
         "0.0",
         "0.1"
        ],
        [
         "36",
         "Kind words brighten my day.",
         "Affirmation",
         "Subjective",
         "Happiness",
         "0.6",
         "0.9"
        ],
        [
         "37",
         "The feeling of witnessing a historical event was euphoric.",
         "Affirmation",
         "Subjective",
         "Euphoria",
         "0.0",
         "0.0"
        ],
        [
         "38",
         "I can't tolerate injustice.",
         "Negation",
         "Subjective",
         "Anger",
         "0.0",
         "0.0"
        ],
        [
         "39",
         "I cannot stand the smell of onions.",
         "Negation",
         "Subjective",
         "Anger",
         "0.0",
         "0.0"
        ],
        [
         "40",
         "The library was unusually noisy.",
         "Affirmation",
         "Factual",
         "Anger",
         "0.2",
         "1.0"
        ],
        [
         "41",
         "I don't like being silenced.",
         "Negation",
         "Subjective",
         "Anger",
         "0.0",
         "0.0"
        ],
        [
         "42",
         "I can't believe how great everything is.",
         "Negation",
         "Factual",
         "Euphoria",
         "0.8",
         "0.75"
        ],
        [
         "43",
         "The universe is constantly expanding.",
         "Affirmation",
         "Factual",
         "Neutral",
         "0.0",
         "0.3333333333333333"
        ],
        [
         "44",
         "I don’t love tight deadlines.",
         "Negation",
         "Subjective",
         "Anger",
         "0.1607142857142857",
         "0.44285714285714284"
        ],
        [
         "45",
         "Mountains don’t move.",
         "Negation",
         "Factual",
         "Neutral",
         "0.0",
         "0.0"
        ],
        [
         "46",
         "Cooking is a fun activity.",
         "Affirmation",
         "Subjective",
         "Happiness",
         "0.3",
         "0.2"
        ],
        [
         "47",
         "The sun rises in the east.",
         "Affirmation",
         "Factual",
         "Neutral",
         "0.0",
         "0.0"
        ],
        [
         "48",
         "Oceans don’t freeze solid.",
         "Negation",
         "Factual",
         "Neutral",
         "0.0",
         "0.1"
        ],
        [
         "49",
         "The nervous system transmits signals.",
         "Affirmation",
         "Factual",
         "Neutral",
         "0.0",
         "0.0"
        ]
       ],
       "shape": {
        "columns": 6,
        "rows": 2094
       }
      },
      "text/html": [
       "<div>\n",
       "<style scoped>\n",
       "    .dataframe tbody tr th:only-of-type {\n",
       "        vertical-align: middle;\n",
       "    }\n",
       "\n",
       "    .dataframe tbody tr th {\n",
       "        vertical-align: top;\n",
       "    }\n",
       "\n",
       "    .dataframe thead th {\n",
       "        text-align: right;\n",
       "    }\n",
       "</style>\n",
       "<table border=\"1\" class=\"dataframe\">\n",
       "  <thead>\n",
       "    <tr style=\"text-align: right;\">\n",
       "      <th></th>\n",
       "      <th>Sentence</th>\n",
       "      <th>Type</th>\n",
       "      <th>Factual/Subjective</th>\n",
       "      <th>Sentiment</th>\n",
       "      <th>polarity</th>\n",
       "      <th>subjectivity</th>\n",
       "    </tr>\n",
       "  </thead>\n",
       "  <tbody>\n",
       "    <tr>\n",
       "      <th>0</th>\n",
       "      <td>I despise waking up early.</td>\n",
       "      <td>Affirmation</td>\n",
       "      <td>Subjective</td>\n",
       "      <td>Anger</td>\n",
       "      <td>0.100000</td>\n",
       "      <td>0.3</td>\n",
       "    </tr>\n",
       "    <tr>\n",
       "      <th>1</th>\n",
       "      <td>Chocolate is my favorite dessert.</td>\n",
       "      <td>Affirmation</td>\n",
       "      <td>Subjective</td>\n",
       "      <td>Happiness</td>\n",
       "      <td>0.500000</td>\n",
       "      <td>1.0</td>\n",
       "    </tr>\n",
       "    <tr>\n",
       "      <th>2</th>\n",
       "      <td>I never thought I'd feel this heartbroken.</td>\n",
       "      <td>Negation</td>\n",
       "      <td>Subjective</td>\n",
       "      <td>Sadness</td>\n",
       "      <td>0.000000</td>\n",
       "      <td>0.0</td>\n",
       "    </tr>\n",
       "    <tr>\n",
       "      <th>3</th>\n",
       "      <td>Childhood memories warm my heart.</td>\n",
       "      <td>Affirmation</td>\n",
       "      <td>Subjective</td>\n",
       "      <td>Happiness</td>\n",
       "      <td>0.600000</td>\n",
       "      <td>0.6</td>\n",
       "    </tr>\n",
       "    <tr>\n",
       "      <th>4</th>\n",
       "      <td>I don't like feeling useless.</td>\n",
       "      <td>Negation</td>\n",
       "      <td>Factual</td>\n",
       "      <td>Sadness</td>\n",
       "      <td>-0.500000</td>\n",
       "      <td>0.2</td>\n",
       "    </tr>\n",
       "    <tr>\n",
       "      <th>...</th>\n",
       "      <td>...</td>\n",
       "      <td>...</td>\n",
       "      <td>...</td>\n",
       "      <td>...</td>\n",
       "      <td>...</td>\n",
       "      <td>...</td>\n",
       "    </tr>\n",
       "    <tr>\n",
       "      <th>2442</th>\n",
       "      <td>Their unmitigated, blatant disrespect is makin...</td>\n",
       "      <td>Affirmation</td>\n",
       "      <td>Subjective</td>\n",
       "      <td>Anger</td>\n",
       "      <td>-0.500000</td>\n",
       "      <td>0.5</td>\n",
       "    </tr>\n",
       "    <tr>\n",
       "      <th>2443</th>\n",
       "      <td>I don’t like cold weather.</td>\n",
       "      <td>Negation</td>\n",
       "      <td>Subjective</td>\n",
       "      <td>Sadness</td>\n",
       "      <td>-0.600000</td>\n",
       "      <td>1.0</td>\n",
       "    </tr>\n",
       "    <tr>\n",
       "      <th>2444</th>\n",
       "      <td>Sharks don’t live in freshwater.</td>\n",
       "      <td>Negation</td>\n",
       "      <td>Factual</td>\n",
       "      <td>Neutral</td>\n",
       "      <td>0.136364</td>\n",
       "      <td>0.5</td>\n",
       "    </tr>\n",
       "    <tr>\n",
       "      <th>2446</th>\n",
       "      <td>I can't stand cold coffee.</td>\n",
       "      <td>Negation</td>\n",
       "      <td>Subjective</td>\n",
       "      <td>Anger</td>\n",
       "      <td>-0.600000</td>\n",
       "      <td>1.0</td>\n",
       "    </tr>\n",
       "    <tr>\n",
       "      <th>2447</th>\n",
       "      <td>I am languishing in a state of profound sadness.</td>\n",
       "      <td>Affirmation</td>\n",
       "      <td>Subjective</td>\n",
       "      <td>Sadness</td>\n",
       "      <td>0.083333</td>\n",
       "      <td>1.0</td>\n",
       "    </tr>\n",
       "  </tbody>\n",
       "</table>\n",
       "<p>2094 rows × 6 columns</p>\n",
       "</div>"
      ],
      "text/plain": [
       "                                               Sentence         Type  \\\n",
       "0                            I despise waking up early.  Affirmation   \n",
       "1                     Chocolate is my favorite dessert.  Affirmation   \n",
       "2            I never thought I'd feel this heartbroken.     Negation   \n",
       "3                     Childhood memories warm my heart.  Affirmation   \n",
       "4                         I don't like feeling useless.     Negation   \n",
       "...                                                 ...          ...   \n",
       "2442  Their unmitigated, blatant disrespect is makin...  Affirmation   \n",
       "2443                         I don’t like cold weather.     Negation   \n",
       "2444                   Sharks don’t live in freshwater.     Negation   \n",
       "2446                         I can't stand cold coffee.     Negation   \n",
       "2447   I am languishing in a state of profound sadness.  Affirmation   \n",
       "\n",
       "     Factual/Subjective  Sentiment  polarity  subjectivity  \n",
       "0            Subjective      Anger  0.100000           0.3  \n",
       "1            Subjective  Happiness  0.500000           1.0  \n",
       "2            Subjective    Sadness  0.000000           0.0  \n",
       "3            Subjective  Happiness  0.600000           0.6  \n",
       "4               Factual    Sadness -0.500000           0.2  \n",
       "...                 ...        ...       ...           ...  \n",
       "2442         Subjective      Anger -0.500000           0.5  \n",
       "2443         Subjective    Sadness -0.600000           1.0  \n",
       "2444            Factual    Neutral  0.136364           0.5  \n",
       "2446         Subjective      Anger -0.600000           1.0  \n",
       "2447         Subjective    Sadness  0.083333           1.0  \n",
       "\n",
       "[2094 rows x 6 columns]"
      ]
     },
     "execution_count": 17,
     "metadata": {},
     "output_type": "execute_result"
    }
   ],
   "source": [
    "df"
   ]
  },
  {
   "cell_type": "code",
   "execution_count": 18,
   "metadata": {},
   "outputs": [
    {
     "data": {
      "application/vnd.microsoft.datawrangler.viewer.v0+json": {
       "columns": [
        {
         "name": "index",
         "rawType": "int64",
         "type": "integer"
        },
        {
         "name": "Sentence",
         "rawType": "object",
         "type": "string"
        },
        {
         "name": "Type",
         "rawType": "object",
         "type": "string"
        },
        {
         "name": "Factual/Subjective",
         "rawType": "object",
         "type": "string"
        },
        {
         "name": "Sentiment",
         "rawType": "object",
         "type": "string"
        },
        {
         "name": "polarity",
         "rawType": "object",
         "type": "string"
        },
        {
         "name": "subjectivity",
         "rawType": "object",
         "type": "string"
        }
       ],
       "conversionMethod": "pd.DataFrame",
       "ref": "9e4c5fee-b9b6-4185-b360-5b219b4d02d1",
       "rows": [
        [
         "0",
         "I despise waking up early.",
         "Affirmation",
         "Subjective",
         "Anger",
         "Positive",
         "Positive"
        ],
        [
         "1",
         "Chocolate is my favorite dessert.",
         "Affirmation",
         "Subjective",
         "Happiness",
         "Positive",
         "Positive"
        ],
        [
         "2",
         "I never thought I'd feel this heartbroken.",
         "Negation",
         "Subjective",
         "Sadness",
         "Neutral",
         "Neutral"
        ],
        [
         "3",
         "Childhood memories warm my heart.",
         "Affirmation",
         "Subjective",
         "Happiness",
         "Positive",
         "Positive"
        ],
        [
         "4",
         "I don't like feeling useless.",
         "Negation",
         "Factual",
         "Sadness",
         "Negative",
         "Positive"
        ]
       ],
       "shape": {
        "columns": 6,
        "rows": 5
       }
      },
      "text/html": [
       "<div>\n",
       "<style scoped>\n",
       "    .dataframe tbody tr th:only-of-type {\n",
       "        vertical-align: middle;\n",
       "    }\n",
       "\n",
       "    .dataframe tbody tr th {\n",
       "        vertical-align: top;\n",
       "    }\n",
       "\n",
       "    .dataframe thead th {\n",
       "        text-align: right;\n",
       "    }\n",
       "</style>\n",
       "<table border=\"1\" class=\"dataframe\">\n",
       "  <thead>\n",
       "    <tr style=\"text-align: right;\">\n",
       "      <th></th>\n",
       "      <th>Sentence</th>\n",
       "      <th>Type</th>\n",
       "      <th>Factual/Subjective</th>\n",
       "      <th>Sentiment</th>\n",
       "      <th>polarity</th>\n",
       "      <th>subjectivity</th>\n",
       "    </tr>\n",
       "  </thead>\n",
       "  <tbody>\n",
       "    <tr>\n",
       "      <th>0</th>\n",
       "      <td>I despise waking up early.</td>\n",
       "      <td>Affirmation</td>\n",
       "      <td>Subjective</td>\n",
       "      <td>Anger</td>\n",
       "      <td>Positive</td>\n",
       "      <td>Positive</td>\n",
       "    </tr>\n",
       "    <tr>\n",
       "      <th>1</th>\n",
       "      <td>Chocolate is my favorite dessert.</td>\n",
       "      <td>Affirmation</td>\n",
       "      <td>Subjective</td>\n",
       "      <td>Happiness</td>\n",
       "      <td>Positive</td>\n",
       "      <td>Positive</td>\n",
       "    </tr>\n",
       "    <tr>\n",
       "      <th>2</th>\n",
       "      <td>I never thought I'd feel this heartbroken.</td>\n",
       "      <td>Negation</td>\n",
       "      <td>Subjective</td>\n",
       "      <td>Sadness</td>\n",
       "      <td>Neutral</td>\n",
       "      <td>Neutral</td>\n",
       "    </tr>\n",
       "    <tr>\n",
       "      <th>3</th>\n",
       "      <td>Childhood memories warm my heart.</td>\n",
       "      <td>Affirmation</td>\n",
       "      <td>Subjective</td>\n",
       "      <td>Happiness</td>\n",
       "      <td>Positive</td>\n",
       "      <td>Positive</td>\n",
       "    </tr>\n",
       "    <tr>\n",
       "      <th>4</th>\n",
       "      <td>I don't like feeling useless.</td>\n",
       "      <td>Negation</td>\n",
       "      <td>Factual</td>\n",
       "      <td>Sadness</td>\n",
       "      <td>Negative</td>\n",
       "      <td>Positive</td>\n",
       "    </tr>\n",
       "  </tbody>\n",
       "</table>\n",
       "</div>"
      ],
      "text/plain": [
       "                                     Sentence         Type Factual/Subjective  \\\n",
       "0                  I despise waking up early.  Affirmation         Subjective   \n",
       "1           Chocolate is my favorite dessert.  Affirmation         Subjective   \n",
       "2  I never thought I'd feel this heartbroken.     Negation         Subjective   \n",
       "3           Childhood memories warm my heart.  Affirmation         Subjective   \n",
       "4               I don't like feeling useless.     Negation            Factual   \n",
       "\n",
       "   Sentiment  polarity subjectivity  \n",
       "0      Anger  Positive     Positive  \n",
       "1  Happiness  Positive     Positive  \n",
       "2    Sadness   Neutral      Neutral  \n",
       "3  Happiness  Positive     Positive  \n",
       "4    Sadness  Negative     Positive  "
      ]
     },
     "execution_count": 18,
     "metadata": {},
     "output_type": "execute_result"
    }
   ],
   "source": [
    "# implement textblob to make the polarity and subjectivity columns more readable\n",
    "def sentiment(x):\n",
    "    if x < 0:\n",
    "        return 'Negative'\n",
    "    elif x == 0:\n",
    "        return 'Neutral'\n",
    "    else:\n",
    "        return 'Positive'\n",
    "    \n",
    "df['polarity'] = df['polarity'].apply(lambda x: sentiment(x))\n",
    "df['subjectivity'] = df['subjectivity'].apply(lambda x: sentiment(x))\n",
    "df.head()"
   ]
  },
  {
   "cell_type": "code",
   "execution_count": null,
   "metadata": {},
   "outputs": [],
   "source": []
  },
  {
   "cell_type": "code",
   "execution_count": 11,
   "metadata": {},
   "outputs": [
    {
     "name": "stderr",
     "output_type": "stream",
     "text": [
      "c:\\Users\\eel20\\anaconda3\\envs\\DL4CV2324Env\\lib\\site-packages\\tqdm\\auto.py:21: TqdmWarning: IProgress not found. Please update jupyter and ipywidgets. See https://ipywidgets.readthedocs.io/en/stable/user_install.html\n",
      "  from .autonotebook import tqdm as notebook_tqdm\n"
     ]
    }
   ],
   "source": [
    "import numpy as np\n",
    "from sentence_transformers import SentenceTransformer\n",
    "from sklearn.model_selection import train_test_split, GridSearchCV\n",
    "from xgboost import XGBClassifier\n",
    "from sklearn.metrics import accuracy_score, classification_report, confusion_matrix"
   ]
  },
  {
   "cell_type": "code",
   "execution_count": 26,
   "metadata": {},
   "outputs": [],
   "source": [
    "# Load dataset\n",
    "csv_path = \"dataset.csv\"  # Update this path\n",
    "df = pd.read_csv(csv_path)"
   ]
  },
  {
   "cell_type": "code",
   "execution_count": 12,
   "metadata": {},
   "outputs": [],
   "source": [
    "# Initialize sentence embedding model\n",
    "model = SentenceTransformer(\"sentence-transformers/all-mpnet-base-v2\")\n",
    "\n",
    "# Encode sentences into embeddings\n",
    "embeddings = model.encode(df[\"Sentence\"].tolist())\n",
    "\n",
    "# Label encoding\n",
    "type_mapping = {\"Affirmation\": 0, \"Negation\": 1}\n",
    "fact_subj_mapping = {\"Factual\": 0, \"Subjective\": 1}\n",
    "sentiment_mapping = {\"Sadness\": 0, \"Anger\": 1, \"Neutral\": 2, \"Happiness\": 3, \"Euphoria\": 4}\n",
    "\n",
    "df[\"Type\"] = df[\"Type\"].map(type_mapping).fillna(-1).astype(int)\n",
    "df[\"Factual/Subjective\"] = df[\"Factual/Subjective\"].map(fact_subj_mapping).fillna(-1).astype(int)\n",
    "df[\"Sentiment\"] = df[\"Sentiment\"].map(sentiment_mapping).fillna(-1).astype(int)\n",
    "\n",
    "# Convert labels to NumPy arrays\n",
    "type_labels = df[\"Type\"].values\n",
    "fact_subj_labels = df[\"Factual/Subjective\"].values\n",
    "sentiment_labels = df[\"Sentiment\"].values"
   ]
  },
  {
   "cell_type": "code",
   "execution_count": 13,
   "metadata": {},
   "outputs": [],
   "source": [
    "# Stratified Train-Test Split (based on Sentiment)\n",
    "X_train, X_test, y_type_train, y_type_test, y_fact_train, y_fact_test, y_sent_train, y_sent_test = train_test_split(\n",
    "    embeddings, type_labels, fact_subj_labels, sentiment_labels,\n",
    "    test_size=0.2, random_state=42, stratify=sentiment_labels  # Ensuring class balance\n",
    ")"
   ]
  },
  {
   "cell_type": "code",
   "execution_count": 14,
   "metadata": {},
   "outputs": [],
   "source": [
    "# Hyperparameter Grid for XGBoost\n",
    "param_grid = {\n",
    "    \"n_estimators\": [50, 100, 200, 500],\n",
    "    \"max_depth\": [3, 5, 7, 10],\n",
    "    \"learning_rate\": [0.01, 0.1, 0.3],\n",
    "    \"subsample\": [0.7, 1.0]\n",
    "}"
   ]
  },
  {
   "cell_type": "code",
   "execution_count": 15,
   "metadata": {},
   "outputs": [],
   "source": [
    "# Function to train and evaluate XGBoost with hyperparameter search\n",
    "def train_xgboost(X_train, y_train, X_test, y_test, name):\n",
    "    model = XGBClassifier(eval_metric=\"mlogloss\")\n",
    "    grid_search = GridSearchCV(model, param_grid, cv=3, scoring=\"accuracy\", n_jobs=-1)\n",
    "    grid_search.fit(X_train, y_train)\n",
    "\n",
    "    best_model = grid_search.best_estimator_\n",
    "    y_pred = best_model.predict(X_test)\n",
    "    acc = accuracy_score(y_test, y_pred)\n",
    "\n",
    "    print(f\"Best XGBoost Model for {name}: {grid_search.best_params_}\")\n",
    "    print(f\"Accuracy for {name}: {acc:.4f}\\n\")\n",
    "\n",
    "    return best_model"
   ]
  },
  {
   "cell_type": "code",
   "execution_count": 16,
   "metadata": {},
   "outputs": [
    {
     "name": "stdout",
     "output_type": "stream",
     "text": [
      "Best XGBoost Model for Type Classification: {'learning_rate': 0.1, 'max_depth': 3, 'n_estimators': 500, 'subsample': 0.7}\n",
      "Accuracy for Type Classification: 0.9451\n",
      "\n"
     ]
    }
   ],
   "source": [
    "# Train and evaluate XGBoost models\n",
    "type_model = train_xgboost(X_train, y_type_train, X_test, y_type_test, \"Type Classification\")"
   ]
  },
  {
   "cell_type": "code",
   "execution_count": 17,
   "metadata": {},
   "outputs": [
    {
     "name": "stderr",
     "output_type": "stream",
     "text": [
      "c:\\Users\\eel20\\anaconda3\\envs\\DL4CV2324Env\\lib\\site-packages\\joblib\\externals\\loky\\process_executor.py:752: UserWarning: A worker stopped while some jobs were given to the executor. This can be caused by a too short worker timeout or by a memory leak.\n",
      "  warnings.warn(\n"
     ]
    },
    {
     "name": "stdout",
     "output_type": "stream",
     "text": [
      "Best XGBoost Model for Factual/Subjective Classification: {'learning_rate': 0.3, 'max_depth': 7, 'n_estimators': 500, 'subsample': 1.0}\n",
      "Accuracy for Factual/Subjective Classification: 0.9260\n",
      "\n"
     ]
    }
   ],
   "source": [
    "fact_model = train_xgboost(X_train, y_fact_train, X_test, y_fact_test, \"Factual/Subjective Classification\")"
   ]
  },
  {
   "cell_type": "code",
   "execution_count": 18,
   "metadata": {},
   "outputs": [
    {
     "name": "stdout",
     "output_type": "stream",
     "text": [
      "Best XGBoost Model for Sentiment Classification: {'learning_rate': 0.1, 'max_depth': 3, 'n_estimators': 500, 'subsample': 0.7}\n",
      "Accuracy for Sentiment Classification: 0.8663\n",
      "\n"
     ]
    }
   ],
   "source": [
    "sentiment_model = train_xgboost(X_train, y_sent_train, X_test, y_sent_test, \"Sentiment Classification\")"
   ]
  },
  {
   "cell_type": "code",
   "execution_count": null,
   "metadata": {},
   "outputs": [],
   "source": []
  }
 ],
 "metadata": {
  "kernelspec": {
   "display_name": "DL4CV2324Env",
   "language": "python",
   "name": "python3"
  },
  "language_info": {
   "codemirror_mode": {
    "name": "ipython",
    "version": 3
   },
   "file_extension": ".py",
   "mimetype": "text/x-python",
   "name": "python",
   "nbconvert_exporter": "python",
   "pygments_lexer": "ipython3",
   "version": "3.10.14"
  }
 },
 "nbformat": 4,
 "nbformat_minor": 2
}
