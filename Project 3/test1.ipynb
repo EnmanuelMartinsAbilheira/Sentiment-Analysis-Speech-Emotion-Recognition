{
 "cells": [
  {
   "cell_type": "code",
   "execution_count": 1,
   "metadata": {},
   "outputs": [
    {
     "data": {
      "application/vnd.microsoft.datawrangler.viewer.v0+json": {
       "columns": [
        {
         "name": "index",
         "rawType": "int64",
         "type": "integer"
        },
        {
         "name": "Sentence",
         "rawType": "object",
         "type": "string"
        },
        {
         "name": "Type",
         "rawType": "object",
         "type": "string"
        },
        {
         "name": "Factual/Subjective",
         "rawType": "object",
         "type": "string"
        },
        {
         "name": "Sentiment",
         "rawType": "object",
         "type": "string"
        }
       ],
       "conversionMethod": "pd.DataFrame",
       "ref": "4d77bb09-7a29-4769-b7ed-36427792d62a",
       "rows": [
        [
         "0",
         "I'm delighted by the thoughtful gesture.",
         "Affirmation",
         "Subjective",
         "Happiness"
        ],
        [
         "1",
         "Rude people are annoying.",
         "Affirmation",
         "Subjective",
         "Anger"
        ],
        [
         "2",
         "A cozy blanket makes me happy.",
         "Affirmation",
         "Subjective",
         "Happiness"
        ],
        [
         "3",
         "Unseen efforts discourage me.",
         "Affirmation",
         "Subjective",
         "Sadness"
        ],
        [
         "4",
         "She doesn’t trust strangers easily.",
         "Negation",
         "Subjective",
         "Neutral"
        ]
       ],
       "shape": {
        "columns": 4,
        "rows": 5
       }
      },
      "text/html": [
       "<div>\n",
       "<style scoped>\n",
       "    .dataframe tbody tr th:only-of-type {\n",
       "        vertical-align: middle;\n",
       "    }\n",
       "\n",
       "    .dataframe tbody tr th {\n",
       "        vertical-align: top;\n",
       "    }\n",
       "\n",
       "    .dataframe thead th {\n",
       "        text-align: right;\n",
       "    }\n",
       "</style>\n",
       "<table border=\"1\" class=\"dataframe\">\n",
       "  <thead>\n",
       "    <tr style=\"text-align: right;\">\n",
       "      <th></th>\n",
       "      <th>Sentence</th>\n",
       "      <th>Type</th>\n",
       "      <th>Factual/Subjective</th>\n",
       "      <th>Sentiment</th>\n",
       "    </tr>\n",
       "  </thead>\n",
       "  <tbody>\n",
       "    <tr>\n",
       "      <th>0</th>\n",
       "      <td>I'm delighted by the thoughtful gesture.</td>\n",
       "      <td>Affirmation</td>\n",
       "      <td>Subjective</td>\n",
       "      <td>Happiness</td>\n",
       "    </tr>\n",
       "    <tr>\n",
       "      <th>1</th>\n",
       "      <td>Rude people are annoying.</td>\n",
       "      <td>Affirmation</td>\n",
       "      <td>Subjective</td>\n",
       "      <td>Anger</td>\n",
       "    </tr>\n",
       "    <tr>\n",
       "      <th>2</th>\n",
       "      <td>A cozy blanket makes me happy.</td>\n",
       "      <td>Affirmation</td>\n",
       "      <td>Subjective</td>\n",
       "      <td>Happiness</td>\n",
       "    </tr>\n",
       "    <tr>\n",
       "      <th>3</th>\n",
       "      <td>Unseen efforts discourage me.</td>\n",
       "      <td>Affirmation</td>\n",
       "      <td>Subjective</td>\n",
       "      <td>Sadness</td>\n",
       "    </tr>\n",
       "    <tr>\n",
       "      <th>4</th>\n",
       "      <td>She doesn’t trust strangers easily.</td>\n",
       "      <td>Negation</td>\n",
       "      <td>Subjective</td>\n",
       "      <td>Neutral</td>\n",
       "    </tr>\n",
       "  </tbody>\n",
       "</table>\n",
       "</div>"
      ],
      "text/plain": [
       "                                   Sentence         Type Factual/Subjective  \\\n",
       "0  I'm delighted by the thoughtful gesture.  Affirmation         Subjective   \n",
       "1                 Rude people are annoying.  Affirmation         Subjective   \n",
       "2            A cozy blanket makes me happy.  Affirmation         Subjective   \n",
       "3             Unseen efforts discourage me.  Affirmation         Subjective   \n",
       "4       She doesn’t trust strangers easily.     Negation         Subjective   \n",
       "\n",
       "   Sentiment  \n",
       "0  Happiness  \n",
       "1      Anger  \n",
       "2  Happiness  \n",
       "3    Sadness  \n",
       "4    Neutral  "
      ]
     },
     "execution_count": 1,
     "metadata": {},
     "output_type": "execute_result"
    }
   ],
   "source": [
    "import pandas as pd\n",
    "from sklearn.preprocessing import LabelEncoder\n",
    "\n",
    "# Read the CSV file\n",
    "df = pd.read_csv('dataset.csv')\n",
    "\n",
    "# Shuffle the data\n",
    "df = df.sample(frac=1).reset_index(drop=True)\n",
    "df.head()"
   ]
  },
  {
   "cell_type": "code",
   "execution_count": 2,
   "metadata": {},
   "outputs": [
    {
     "data": {
      "text/plain": [
       "Affirmation    1435\n",
       "Negation       1014\n",
       "Name: Type, dtype: int64"
      ]
     },
     "execution_count": 2,
     "metadata": {},
     "output_type": "execute_result"
    }
   ],
   "source": [
    "# Verify Class balance \"Type\" column\n",
    "df['Type'].value_counts()  "
   ]
  },
  {
   "cell_type": "code",
   "execution_count": 3,
   "metadata": {},
   "outputs": [
    {
     "data": {
      "text/plain": [
       "Subjective    1457\n",
       "Factual        992\n",
       "Name: Factual/Subjective, dtype: int64"
      ]
     },
     "execution_count": 3,
     "metadata": {},
     "output_type": "execute_result"
    }
   ],
   "source": [
    "# Verify Class balance \"Factual/Subjective\" column\n",
    "df['Factual/Subjective'].value_counts()  "
   ]
  },
  {
   "cell_type": "code",
   "execution_count": 4,
   "metadata": {},
   "outputs": [
    {
     "data": {
      "text/plain": [
       "Neutral      830\n",
       "Anger        465\n",
       "Sadness      442\n",
       "Happiness    392\n",
       "Euphoria     320\n",
       "Name: Sentiment, dtype: int64"
      ]
     },
     "execution_count": 4,
     "metadata": {},
     "output_type": "execute_result"
    }
   ],
   "source": [
    "# Verify Class balance \"Sentiment\" column\n",
    "df['Sentiment'].value_counts()  "
   ]
  },
  {
   "cell_type": "code",
   "execution_count": 5,
   "metadata": {},
   "outputs": [
    {
     "data": {
      "text/plain": [
       "Sentence              0\n",
       "Type                  0\n",
       "Factual/Subjective    0\n",
       "Sentiment             0\n",
       "dtype: int64"
      ]
     },
     "execution_count": 5,
     "metadata": {},
     "output_type": "execute_result"
    }
   ],
   "source": [
    "# Check for missing values\n",
    "df.isnull().sum()"
   ]
  },
  {
   "cell_type": "code",
   "execution_count": 6,
   "metadata": {},
   "outputs": [
    {
     "name": "stdout",
     "output_type": "stream",
     "text": [
      "Affirmation    1435\n",
      "Negation       1014\n",
      "Name: Type, dtype: int64\n",
      "-----------------------------\n",
      "Subjective    1457\n",
      "Factual        992\n",
      "Name: Factual/Subjective, dtype: int64\n",
      "-----------------------------\n",
      "Neutral      830\n",
      "Anger        465\n",
      "Sadness      442\n",
      "Happiness    392\n",
      "Euphoria     320\n",
      "Name: Sentiment, dtype: int64\n",
      "-----------------------------\n"
     ]
    }
   ],
   "source": [
    "# Verify Class balance \"Type\" column\n",
    "print(df['Type'].value_counts())\n",
    "print(\"-----------------------------\")\n",
    "# Verify Class balance \"Factual/Subjective\" column\n",
    "print(df['Factual/Subjective'].value_counts())\n",
    "print(\"-----------------------------\")\n",
    "# Verify Class balance \"Sentiment\" column\n",
    "print(df['Sentiment'].value_counts())\n",
    "print(\"-----------------------------\")"
   ]
  },
  {
   "cell_type": "code",
   "execution_count": null,
   "metadata": {},
   "outputs": [
    {
     "name": "stdout",
     "output_type": "stream",
     "text": [
      "I don't like being ignored.                                  5\n",
      "I don't like being rushed.                                   5\n",
      "I don't like being misunderstood.                            4\n",
      "Gravity pulls objects toward the Earth.                      4\n",
      "I don't think this is a good idea.                           4\n",
      "                                                            ..\n",
      "Earth has 8.7 million species.                               1\n",
      "I didn’t finish my homework on time.                         1\n",
      "I’m not interested in politics.                              1\n",
      "Kangaroos can't walk backwards.                              1\n",
      "The human impact on the environment is a serious concern.    1\n",
      "Name: Sentence, Length: 2094, dtype: int64\n"
     ]
    }
   ],
   "source": [
    "# verify and print all repeated values in the column Sentence\n",
    "print(df['Sentence'].value_counts())"
   ]
  },
  {
   "cell_type": "code",
   "execution_count": 12,
   "metadata": {},
   "outputs": [],
   "source": [
    "# Drop duplicates\n",
    "df = df.drop_duplicates(subset='Sentence')"
   ]
  },
  {
   "cell_type": "code",
   "execution_count": 13,
   "metadata": {},
   "outputs": [
    {
     "data": {
      "application/vnd.microsoft.datawrangler.viewer.v0+json": {
       "columns": [
        {
         "name": "index",
         "rawType": "int64",
         "type": "integer"
        },
        {
         "name": "Sentence",
         "rawType": "object",
         "type": "string"
        },
        {
         "name": "Type",
         "rawType": "object",
         "type": "string"
        },
        {
         "name": "Factual/Subjective",
         "rawType": "object",
         "type": "string"
        },
        {
         "name": "Sentiment",
         "rawType": "object",
         "type": "string"
        }
       ],
       "conversionMethod": "pd.DataFrame",
       "ref": "b0cf735c-7ff4-4f3a-8ad4-e8661f30567a",
       "rows": [
        [
         "0",
         "I'm delighted by the thoughtful gesture.",
         "Affirmation",
         "Subjective",
         "Happiness"
        ],
        [
         "1",
         "Rude people are annoying.",
         "Affirmation",
         "Subjective",
         "Anger"
        ],
        [
         "2",
         "A cozy blanket makes me happy.",
         "Affirmation",
         "Subjective",
         "Happiness"
        ],
        [
         "3",
         "Unseen efforts discourage me.",
         "Affirmation",
         "Subjective",
         "Sadness"
        ],
        [
         "4",
         "She doesn’t trust strangers easily.",
         "Negation",
         "Subjective",
         "Neutral"
        ],
        [
         "5",
         "The invention of the telephone revolutionized communication.",
         "Affirmation",
         "Factual",
         "Neutral"
        ],
        [
         "6",
         "His betrayal has left me seething with resentment.",
         "Affirmation",
         "Subjective",
         "Anger"
        ],
        [
         "7",
         "I'm filled with a cold, simmering rage at their calculated and deliberate sabotage of my work.",
         "Affirmation",
         "Subjective",
         "Anger"
        ],
        [
         "8",
         "I feel nostalgic when I visit my childhood home.",
         "Affirmation",
         "Subjective",
         "Sadness"
        ],
        [
         "9",
         "The reunion was an overwhelming joy.",
         "Affirmation",
         "Subjective",
         "Euphoria"
        ],
        [
         "10",
         "This new dance performance is a visual feast.",
         "Affirmation",
         "Subjective",
         "Happiness"
        ],
        [
         "11",
         "Finishing a book feels rewarding.",
         "Affirmation",
         "Subjective",
         "Happiness"
        ],
        [
         "12",
         "I can't feel anything but happiness.",
         "Negation",
         "Factual",
         "Euphoria"
        ],
        [
         "13",
         "I am happy with my current job.",
         "Affirmation",
         "Subjective",
         "Happiness"
        ],
        [
         "14",
         "Unreliable Wi-Fi frustrates me.",
         "Affirmation",
         "Subjective",
         "Anger"
        ],
        [
         "15",
         "The feeling of diving into a cool, clear ocean was euphoric.",
         "Affirmation",
         "Subjective",
         "Euphoria"
        ],
        [
         "16",
         "Their constant nitpicking is pushing me to the brink of anger.",
         "Affirmation",
         "Subjective",
         "Anger"
        ],
        [
         "17",
         "I’m not afraid of heights.",
         "Negation",
         "Subjective",
         "Neutral"
        ],
        [
         "18",
         "I am drowning in despair.",
         "Affirmation",
         "Subjective",
         "Sadness"
        ],
        [
         "19",
         "This opportunity is amazing.",
         "Affirmation",
         "Subjective",
         "Euphoria"
        ],
        [
         "20",
         "I don't think this is a good idea.",
         "Negation",
         "Subjective",
         "Sadness"
        ],
        [
         "21",
         "Morning yoga centers my being.",
         "Affirmation",
         "Subjective",
         "Neutral"
        ],
        [
         "22",
         "There’s no greater feeling than accomplishing something big!",
         "Negation",
         "Subjective",
         "Euphoria"
        ],
        [
         "23",
         "I am thankful for my health.",
         "Affirmation",
         "Subjective",
         "Happiness"
        ],
        [
         "24",
         "Losing a friend feels devastating.",
         "Affirmation",
         "Subjective",
         "Sadness"
        ],
        [
         "25",
         "The sun didn’t rise this morning.",
         "Negation",
         "Factual",
         "Sadness"
        ],
        [
         "26",
         "I do not enjoy high humidity.",
         "Negation",
         "Factual",
         "Sadness"
        ],
        [
         "27",
         "I do not enjoy feeling stressed.",
         "Negation",
         "Factual",
         "Sadness"
        ],
        [
         "28",
         "The sudden earthquake caused widespread panic.",
         "Affirmation",
         "Factual",
         "Neutral"
        ],
        [
         "29",
         "This jacket is absolutely stunning!",
         "Affirmation",
         "Subjective",
         "Euphoria"
        ],
        [
         "30",
         "I am hopeful for the future.",
         "Affirmation",
         "Subjective",
         "Happiness"
        ],
        [
         "31",
         "Wasted potential saddens me.",
         "Affirmation",
         "Subjective",
         "Sadness"
        ],
        [
         "32",
         "I think I'm going to be sick.",
         "Affirmation",
         "Subjective",
         "Anger"
        ],
        [
         "33",
         "I don't like it when people are dishonest.",
         "Negation",
         "Subjective",
         "Anger"
        ],
        [
         "34",
         "Climate change is accelerating.",
         "Affirmation",
         "Factual",
         "Anger"
        ],
        [
         "35",
         "Failing a test feels absolutely terrible.",
         "Affirmation",
         "Subjective",
         "Sadness"
        ],
        [
         "36",
         "Octopus blood is blue.",
         "Affirmation",
         "Factual",
         "Neutral"
        ],
        [
         "37",
         "I don’t feel welcome here.",
         "Negation",
         "Subjective",
         "Sadness"
        ],
        [
         "38",
         "I feel so happy today!",
         "Affirmation",
         "Subjective",
         "Happiness"
        ],
        [
         "39",
         "I have never experienced such joy!",
         "Negation",
         "Subjective",
         "Euphoria"
        ],
        [
         "40",
         "Bees don’t live alone.",
         "Negation",
         "Factual",
         "Neutral"
        ],
        [
         "41",
         "Birds are the only animals with feathers.",
         "Affirmation",
         "Factual",
         "Neutral"
        ],
        [
         "42",
         "She never tells the truth.",
         "Negation",
         "Factual",
         "Anger"
        ],
        [
         "43",
         "I don't want to lose this feeling.",
         "Negation",
         "Subjective",
         "Happiness"
        ],
        [
         "44",
         "Cultural exchanges enlighten me.",
         "Affirmation",
         "Subjective",
         "Happiness"
        ],
        [
         "45",
         "The principles of thermodynamics govern energy transfer.",
         "Affirmation",
         "Factual",
         "Neutral"
        ],
        [
         "46",
         "I hate feeling scared.",
         "Affirmation",
         "Subjective",
         "Sadness"
        ],
        [
         "47",
         "I don't want to go back to that place.",
         "Negation",
         "Subjective",
         "Sadness"
        ],
        [
         "48",
         "The recipe didn’t work out.",
         "Negation",
         "Factual",
         "Neutral"
        ],
        [
         "49",
         "I'm overjoyed by the unexpected promotion.",
         "Affirmation",
         "Subjective",
         "Happiness"
        ]
       ],
       "shape": {
        "columns": 4,
        "rows": 2094
       }
      },
      "text/html": [
       "<div>\n",
       "<style scoped>\n",
       "    .dataframe tbody tr th:only-of-type {\n",
       "        vertical-align: middle;\n",
       "    }\n",
       "\n",
       "    .dataframe tbody tr th {\n",
       "        vertical-align: top;\n",
       "    }\n",
       "\n",
       "    .dataframe thead th {\n",
       "        text-align: right;\n",
       "    }\n",
       "</style>\n",
       "<table border=\"1\" class=\"dataframe\">\n",
       "  <thead>\n",
       "    <tr style=\"text-align: right;\">\n",
       "      <th></th>\n",
       "      <th>Sentence</th>\n",
       "      <th>Type</th>\n",
       "      <th>Factual/Subjective</th>\n",
       "      <th>Sentiment</th>\n",
       "    </tr>\n",
       "  </thead>\n",
       "  <tbody>\n",
       "    <tr>\n",
       "      <th>0</th>\n",
       "      <td>I'm delighted by the thoughtful gesture.</td>\n",
       "      <td>Affirmation</td>\n",
       "      <td>Subjective</td>\n",
       "      <td>Happiness</td>\n",
       "    </tr>\n",
       "    <tr>\n",
       "      <th>1</th>\n",
       "      <td>Rude people are annoying.</td>\n",
       "      <td>Affirmation</td>\n",
       "      <td>Subjective</td>\n",
       "      <td>Anger</td>\n",
       "    </tr>\n",
       "    <tr>\n",
       "      <th>2</th>\n",
       "      <td>A cozy blanket makes me happy.</td>\n",
       "      <td>Affirmation</td>\n",
       "      <td>Subjective</td>\n",
       "      <td>Happiness</td>\n",
       "    </tr>\n",
       "    <tr>\n",
       "      <th>3</th>\n",
       "      <td>Unseen efforts discourage me.</td>\n",
       "      <td>Affirmation</td>\n",
       "      <td>Subjective</td>\n",
       "      <td>Sadness</td>\n",
       "    </tr>\n",
       "    <tr>\n",
       "      <th>4</th>\n",
       "      <td>She doesn’t trust strangers easily.</td>\n",
       "      <td>Negation</td>\n",
       "      <td>Subjective</td>\n",
       "      <td>Neutral</td>\n",
       "    </tr>\n",
       "    <tr>\n",
       "      <th>...</th>\n",
       "      <td>...</td>\n",
       "      <td>...</td>\n",
       "      <td>...</td>\n",
       "      <td>...</td>\n",
       "    </tr>\n",
       "    <tr>\n",
       "      <th>2440</th>\n",
       "      <td>He doesn’t share his food.</td>\n",
       "      <td>Negation</td>\n",
       "      <td>Subjective</td>\n",
       "      <td>Neutral</td>\n",
       "    </tr>\n",
       "    <tr>\n",
       "      <th>2442</th>\n",
       "      <td>The game didn’t load correctly.</td>\n",
       "      <td>Negation</td>\n",
       "      <td>Factual</td>\n",
       "      <td>Neutral</td>\n",
       "    </tr>\n",
       "    <tr>\n",
       "      <th>2444</th>\n",
       "      <td>That rude comment really ticked me off.</td>\n",
       "      <td>Affirmation</td>\n",
       "      <td>Subjective</td>\n",
       "      <td>Anger</td>\n",
       "    </tr>\n",
       "    <tr>\n",
       "      <th>2445</th>\n",
       "      <td>The feeling of watching the aurora borealis da...</td>\n",
       "      <td>Affirmation</td>\n",
       "      <td>Subjective</td>\n",
       "      <td>Euphoria</td>\n",
       "    </tr>\n",
       "    <tr>\n",
       "      <th>2448</th>\n",
       "      <td>The human impact on the environment is a serio...</td>\n",
       "      <td>Affirmation</td>\n",
       "      <td>Factual</td>\n",
       "      <td>Neutral</td>\n",
       "    </tr>\n",
       "  </tbody>\n",
       "</table>\n",
       "<p>2094 rows × 4 columns</p>\n",
       "</div>"
      ],
      "text/plain": [
       "                                               Sentence         Type  \\\n",
       "0              I'm delighted by the thoughtful gesture.  Affirmation   \n",
       "1                             Rude people are annoying.  Affirmation   \n",
       "2                        A cozy blanket makes me happy.  Affirmation   \n",
       "3                         Unseen efforts discourage me.  Affirmation   \n",
       "4                   She doesn’t trust strangers easily.     Negation   \n",
       "...                                                 ...          ...   \n",
       "2440                         He doesn’t share his food.     Negation   \n",
       "2442                    The game didn’t load correctly.     Negation   \n",
       "2444            That rude comment really ticked me off.  Affirmation   \n",
       "2445  The feeling of watching the aurora borealis da...  Affirmation   \n",
       "2448  The human impact on the environment is a serio...  Affirmation   \n",
       "\n",
       "     Factual/Subjective  Sentiment  \n",
       "0            Subjective  Happiness  \n",
       "1            Subjective      Anger  \n",
       "2            Subjective  Happiness  \n",
       "3            Subjective    Sadness  \n",
       "4            Subjective    Neutral  \n",
       "...                 ...        ...  \n",
       "2440         Subjective    Neutral  \n",
       "2442            Factual    Neutral  \n",
       "2444         Subjective      Anger  \n",
       "2445         Subjective   Euphoria  \n",
       "2448            Factual    Neutral  \n",
       "\n",
       "[2094 rows x 4 columns]"
      ]
     },
     "execution_count": 13,
     "metadata": {},
     "output_type": "execute_result"
    }
   ],
   "source": [
    "df"
   ]
  },
  {
   "cell_type": "code",
   "execution_count": 14,
   "metadata": {},
   "outputs": [
    {
     "name": "stdout",
     "output_type": "stream",
     "text": [
      "Affirmation    1271\n",
      "Negation        823\n",
      "Name: Type, dtype: int64\n",
      "-----------------------------\n",
      "Subjective    1253\n",
      "Factual        841\n",
      "Name: Factual/Subjective, dtype: int64\n",
      "-----------------------------\n",
      "Neutral      719\n",
      "Anger        378\n",
      "Sadness      362\n",
      "Happiness    339\n",
      "Euphoria     296\n",
      "Name: Sentiment, dtype: int64\n",
      "-----------------------------\n"
     ]
    }
   ],
   "source": [
    "# Verify Class balance \"Type\" column\n",
    "print(df['Type'].value_counts())\n",
    "print(\"-----------------------------\")\n",
    "# Verify Class balance \"Factual/Subjective\" column\n",
    "print(df['Factual/Subjective'].value_counts())\n",
    "print(\"-----------------------------\")\n",
    "# Verify Class balance \"Sentiment\" column\n",
    "print(df['Sentiment'].value_counts())\n",
    "print(\"-----------------------------\")"
   ]
  },
  {
   "cell_type": "code",
   "execution_count": null,
   "metadata": {},
   "outputs": [
    {
     "name": "stderr",
     "output_type": "stream",
     "text": [
      "C:\\Users\\eel20\\AppData\\Local\\Temp\\ipykernel_22468\\2443365488.py:3: SettingWithCopyWarning: \n",
      "A value is trying to be set on a copy of a slice from a DataFrame.\n",
      "Try using .loc[row_indexer,col_indexer] = value instead\n",
      "\n",
      "See the caveats in the documentation: https://pandas.pydata.org/pandas-docs/stable/user_guide/indexing.html#returning-a-view-versus-a-copy\n",
      "  df['polarity'] = df['Sentence'].apply(lambda x: TextBlob(x).sentiment.polarity)\n"
     ]
    },
    {
     "data": {
      "application/vnd.microsoft.datawrangler.viewer.v0+json": {
       "columns": [
        {
         "name": "index",
         "rawType": "int64",
         "type": "integer"
        },
        {
         "name": "Sentence",
         "rawType": "object",
         "type": "string"
        },
        {
         "name": "Type",
         "rawType": "object",
         "type": "string"
        },
        {
         "name": "Factual/Subjective",
         "rawType": "object",
         "type": "string"
        },
        {
         "name": "Sentiment",
         "rawType": "object",
         "type": "string"
        },
        {
         "name": "polarity",
         "rawType": "float64",
         "type": "float"
        }
       ],
       "conversionMethod": "pd.DataFrame",
       "ref": "635167aa-17e3-4f95-bed4-e002443496cd",
       "rows": [
        [
         "0",
         "I'm delighted by the thoughtful gesture.",
         "Affirmation",
         "Subjective",
         "Happiness",
         "0.55"
        ],
        [
         "1",
         "Rude people are annoying.",
         "Affirmation",
         "Subjective",
         "Anger",
         "-0.55"
        ],
        [
         "2",
         "A cozy blanket makes me happy.",
         "Affirmation",
         "Subjective",
         "Happiness",
         "0.30000000000000004"
        ],
        [
         "3",
         "Unseen efforts discourage me.",
         "Affirmation",
         "Subjective",
         "Sadness",
         "0.0"
        ],
        [
         "4",
         "She doesn’t trust strangers easily.",
         "Negation",
         "Subjective",
         "Neutral",
         "0.43333333333333335"
        ]
       ],
       "shape": {
        "columns": 5,
        "rows": 5
       }
      },
      "text/html": [
       "<div>\n",
       "<style scoped>\n",
       "    .dataframe tbody tr th:only-of-type {\n",
       "        vertical-align: middle;\n",
       "    }\n",
       "\n",
       "    .dataframe tbody tr th {\n",
       "        vertical-align: top;\n",
       "    }\n",
       "\n",
       "    .dataframe thead th {\n",
       "        text-align: right;\n",
       "    }\n",
       "</style>\n",
       "<table border=\"1\" class=\"dataframe\">\n",
       "  <thead>\n",
       "    <tr style=\"text-align: right;\">\n",
       "      <th></th>\n",
       "      <th>Sentence</th>\n",
       "      <th>Type</th>\n",
       "      <th>Factual/Subjective</th>\n",
       "      <th>Sentiment</th>\n",
       "      <th>polarity</th>\n",
       "    </tr>\n",
       "  </thead>\n",
       "  <tbody>\n",
       "    <tr>\n",
       "      <th>0</th>\n",
       "      <td>I'm delighted by the thoughtful gesture.</td>\n",
       "      <td>Affirmation</td>\n",
       "      <td>Subjective</td>\n",
       "      <td>Happiness</td>\n",
       "      <td>0.550000</td>\n",
       "    </tr>\n",
       "    <tr>\n",
       "      <th>1</th>\n",
       "      <td>Rude people are annoying.</td>\n",
       "      <td>Affirmation</td>\n",
       "      <td>Subjective</td>\n",
       "      <td>Anger</td>\n",
       "      <td>-0.550000</td>\n",
       "    </tr>\n",
       "    <tr>\n",
       "      <th>2</th>\n",
       "      <td>A cozy blanket makes me happy.</td>\n",
       "      <td>Affirmation</td>\n",
       "      <td>Subjective</td>\n",
       "      <td>Happiness</td>\n",
       "      <td>0.300000</td>\n",
       "    </tr>\n",
       "    <tr>\n",
       "      <th>3</th>\n",
       "      <td>Unseen efforts discourage me.</td>\n",
       "      <td>Affirmation</td>\n",
       "      <td>Subjective</td>\n",
       "      <td>Sadness</td>\n",
       "      <td>0.000000</td>\n",
       "    </tr>\n",
       "    <tr>\n",
       "      <th>4</th>\n",
       "      <td>She doesn’t trust strangers easily.</td>\n",
       "      <td>Negation</td>\n",
       "      <td>Subjective</td>\n",
       "      <td>Neutral</td>\n",
       "      <td>0.433333</td>\n",
       "    </tr>\n",
       "  </tbody>\n",
       "</table>\n",
       "</div>"
      ],
      "text/plain": [
       "                                   Sentence         Type Factual/Subjective  \\\n",
       "0  I'm delighted by the thoughtful gesture.  Affirmation         Subjective   \n",
       "1                 Rude people are annoying.  Affirmation         Subjective   \n",
       "2            A cozy blanket makes me happy.  Affirmation         Subjective   \n",
       "3             Unseen efforts discourage me.  Affirmation         Subjective   \n",
       "4       She doesn’t trust strangers easily.     Negation         Subjective   \n",
       "\n",
       "   Sentiment  polarity  \n",
       "0  Happiness  0.550000  \n",
       "1      Anger -0.550000  \n",
       "2  Happiness  0.300000  \n",
       "3    Sadness  0.000000  \n",
       "4    Neutral  0.433333  "
      ]
     },
     "execution_count": 16,
     "metadata": {},
     "output_type": "execute_result"
    }
   ],
   "source": [
    "# implement textblob library to calculate the polarity of each sentence\n",
    "from textblob import TextBlob\n",
    "df['polarity'] = df['Sentence'].apply(lambda x: TextBlob(x).sentiment.polarity)\n",
    "df.head()\n"
   ]
  },
  {
   "cell_type": "code",
   "execution_count": 17,
   "metadata": {},
   "outputs": [
    {
     "name": "stderr",
     "output_type": "stream",
     "text": [
      "C:\\Users\\eel20\\AppData\\Local\\Temp\\ipykernel_22468\\1240920775.py:2: SettingWithCopyWarning: \n",
      "A value is trying to be set on a copy of a slice from a DataFrame.\n",
      "Try using .loc[row_indexer,col_indexer] = value instead\n",
      "\n",
      "See the caveats in the documentation: https://pandas.pydata.org/pandas-docs/stable/user_guide/indexing.html#returning-a-view-versus-a-copy\n",
      "  df['subjectivity'] = df['Sentence'].apply(lambda x: TextBlob(x).sentiment.subjectivity)\n"
     ]
    },
    {
     "data": {
      "application/vnd.microsoft.datawrangler.viewer.v0+json": {
       "columns": [
        {
         "name": "index",
         "rawType": "int64",
         "type": "integer"
        },
        {
         "name": "Sentence",
         "rawType": "object",
         "type": "string"
        },
        {
         "name": "Type",
         "rawType": "object",
         "type": "string"
        },
        {
         "name": "Factual/Subjective",
         "rawType": "object",
         "type": "string"
        },
        {
         "name": "Sentiment",
         "rawType": "object",
         "type": "string"
        },
        {
         "name": "polarity",
         "rawType": "float64",
         "type": "float"
        },
        {
         "name": "subjectivity",
         "rawType": "float64",
         "type": "float"
        }
       ],
       "conversionMethod": "pd.DataFrame",
       "ref": "8bad92ae-abe3-430d-8c65-faad3733b455",
       "rows": [
        [
         "0",
         "I'm delighted by the thoughtful gesture.",
         "Affirmation",
         "Subjective",
         "Happiness",
         "0.55",
         "0.6"
        ],
        [
         "1",
         "Rude people are annoying.",
         "Affirmation",
         "Subjective",
         "Anger",
         "-0.55",
         "0.75"
        ],
        [
         "2",
         "A cozy blanket makes me happy.",
         "Affirmation",
         "Subjective",
         "Happiness",
         "0.30000000000000004",
         "0.875"
        ],
        [
         "3",
         "Unseen efforts discourage me.",
         "Affirmation",
         "Subjective",
         "Sadness",
         "0.0",
         "0.0"
        ],
        [
         "4",
         "She doesn’t trust strangers easily.",
         "Negation",
         "Subjective",
         "Neutral",
         "0.43333333333333335",
         "0.8333333333333334"
        ]
       ],
       "shape": {
        "columns": 6,
        "rows": 5
       }
      },
      "text/html": [
       "<div>\n",
       "<style scoped>\n",
       "    .dataframe tbody tr th:only-of-type {\n",
       "        vertical-align: middle;\n",
       "    }\n",
       "\n",
       "    .dataframe tbody tr th {\n",
       "        vertical-align: top;\n",
       "    }\n",
       "\n",
       "    .dataframe thead th {\n",
       "        text-align: right;\n",
       "    }\n",
       "</style>\n",
       "<table border=\"1\" class=\"dataframe\">\n",
       "  <thead>\n",
       "    <tr style=\"text-align: right;\">\n",
       "      <th></th>\n",
       "      <th>Sentence</th>\n",
       "      <th>Type</th>\n",
       "      <th>Factual/Subjective</th>\n",
       "      <th>Sentiment</th>\n",
       "      <th>polarity</th>\n",
       "      <th>subjectivity</th>\n",
       "    </tr>\n",
       "  </thead>\n",
       "  <tbody>\n",
       "    <tr>\n",
       "      <th>0</th>\n",
       "      <td>I'm delighted by the thoughtful gesture.</td>\n",
       "      <td>Affirmation</td>\n",
       "      <td>Subjective</td>\n",
       "      <td>Happiness</td>\n",
       "      <td>0.550000</td>\n",
       "      <td>0.600000</td>\n",
       "    </tr>\n",
       "    <tr>\n",
       "      <th>1</th>\n",
       "      <td>Rude people are annoying.</td>\n",
       "      <td>Affirmation</td>\n",
       "      <td>Subjective</td>\n",
       "      <td>Anger</td>\n",
       "      <td>-0.550000</td>\n",
       "      <td>0.750000</td>\n",
       "    </tr>\n",
       "    <tr>\n",
       "      <th>2</th>\n",
       "      <td>A cozy blanket makes me happy.</td>\n",
       "      <td>Affirmation</td>\n",
       "      <td>Subjective</td>\n",
       "      <td>Happiness</td>\n",
       "      <td>0.300000</td>\n",
       "      <td>0.875000</td>\n",
       "    </tr>\n",
       "    <tr>\n",
       "      <th>3</th>\n",
       "      <td>Unseen efforts discourage me.</td>\n",
       "      <td>Affirmation</td>\n",
       "      <td>Subjective</td>\n",
       "      <td>Sadness</td>\n",
       "      <td>0.000000</td>\n",
       "      <td>0.000000</td>\n",
       "    </tr>\n",
       "    <tr>\n",
       "      <th>4</th>\n",
       "      <td>She doesn’t trust strangers easily.</td>\n",
       "      <td>Negation</td>\n",
       "      <td>Subjective</td>\n",
       "      <td>Neutral</td>\n",
       "      <td>0.433333</td>\n",
       "      <td>0.833333</td>\n",
       "    </tr>\n",
       "  </tbody>\n",
       "</table>\n",
       "</div>"
      ],
      "text/plain": [
       "                                   Sentence         Type Factual/Subjective  \\\n",
       "0  I'm delighted by the thoughtful gesture.  Affirmation         Subjective   \n",
       "1                 Rude people are annoying.  Affirmation         Subjective   \n",
       "2            A cozy blanket makes me happy.  Affirmation         Subjective   \n",
       "3             Unseen efforts discourage me.  Affirmation         Subjective   \n",
       "4       She doesn’t trust strangers easily.     Negation         Subjective   \n",
       "\n",
       "   Sentiment  polarity  subjectivity  \n",
       "0  Happiness  0.550000      0.600000  \n",
       "1      Anger -0.550000      0.750000  \n",
       "2  Happiness  0.300000      0.875000  \n",
       "3    Sadness  0.000000      0.000000  \n",
       "4    Neutral  0.433333      0.833333  "
      ]
     },
     "execution_count": 17,
     "metadata": {},
     "output_type": "execute_result"
    }
   ],
   "source": [
    "# textblob library to calculate the subjectivity of each sentence\n",
    "df['subjectivity'] = df['Sentence'].apply(lambda x: TextBlob(x).sentiment.subjectivity)\n",
    "df.head()\n"
   ]
  },
  {
   "cell_type": "code",
   "execution_count": null,
   "metadata": {},
   "outputs": [],
   "source": []
  }
 ],
 "metadata": {
  "kernelspec": {
   "display_name": "base",
   "language": "python",
   "name": "python3"
  },
  "language_info": {
   "codemirror_mode": {
    "name": "ipython",
    "version": 3
   },
   "file_extension": ".py",
   "mimetype": "text/x-python",
   "name": "python",
   "nbconvert_exporter": "python",
   "pygments_lexer": "ipython3",
   "version": "3.9.18"
  }
 },
 "nbformat": 4,
 "nbformat_minor": 2
}
