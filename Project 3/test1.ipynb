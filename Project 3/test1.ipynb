{
 "cells": [
  {
   "cell_type": "code",
   "execution_count": 1,
   "metadata": {},
   "outputs": [
    {
     "data": {
      "text/html": [
       "<div>\n",
       "<style scoped>\n",
       "    .dataframe tbody tr th:only-of-type {\n",
       "        vertical-align: middle;\n",
       "    }\n",
       "\n",
       "    .dataframe tbody tr th {\n",
       "        vertical-align: top;\n",
       "    }\n",
       "\n",
       "    .dataframe thead th {\n",
       "        text-align: right;\n",
       "    }\n",
       "</style>\n",
       "<table border=\"1\" class=\"dataframe\">\n",
       "  <thead>\n",
       "    <tr style=\"text-align: right;\">\n",
       "      <th></th>\n",
       "      <th>Sentence</th>\n",
       "      <th>Type</th>\n",
       "      <th>Factual/Subjective</th>\n",
       "      <th>Sentiment</th>\n",
       "    </tr>\n",
       "  </thead>\n",
       "  <tbody>\n",
       "    <tr>\n",
       "      <th>0</th>\n",
       "      <td>Having a positive attitude changes everything.</td>\n",
       "      <td>Affirmation</td>\n",
       "      <td>Factual</td>\n",
       "      <td>Happiness</td>\n",
       "    </tr>\n",
       "    <tr>\n",
       "      <th>1</th>\n",
       "      <td>Mars is known as the Red Planet.</td>\n",
       "      <td>Affirmation</td>\n",
       "      <td>Factual</td>\n",
       "      <td>Neutral</td>\n",
       "    </tr>\n",
       "    <tr>\n",
       "      <th>2</th>\n",
       "      <td>That was not a smart decision.</td>\n",
       "      <td>Negation</td>\n",
       "      <td>Subjective</td>\n",
       "      <td>Sadness</td>\n",
       "    </tr>\n",
       "    <tr>\n",
       "      <th>3</th>\n",
       "      <td>I don't like it when plans change unexpectedly.</td>\n",
       "      <td>Negation</td>\n",
       "      <td>Subjective</td>\n",
       "      <td>Anger</td>\n",
       "    </tr>\n",
       "    <tr>\n",
       "      <th>4</th>\n",
       "      <td>I feel happy when I achieve my goals.</td>\n",
       "      <td>Affirmation</td>\n",
       "      <td>Subjective</td>\n",
       "      <td>Happiness</td>\n",
       "    </tr>\n",
       "  </tbody>\n",
       "</table>\n",
       "</div>"
      ],
      "text/plain": [
       "                                          Sentence         Type  \\\n",
       "0   Having a positive attitude changes everything.  Affirmation   \n",
       "1                 Mars is known as the Red Planet.  Affirmation   \n",
       "2                   That was not a smart decision.     Negation   \n",
       "3  I don't like it when plans change unexpectedly.     Negation   \n",
       "4            I feel happy when I achieve my goals.  Affirmation   \n",
       "\n",
       "  Factual/Subjective  Sentiment  \n",
       "0            Factual  Happiness  \n",
       "1            Factual    Neutral  \n",
       "2         Subjective    Sadness  \n",
       "3         Subjective      Anger  \n",
       "4         Subjective  Happiness  "
      ]
     },
     "execution_count": 1,
     "metadata": {},
     "output_type": "execute_result"
    }
   ],
   "source": [
    "import pandas as pd\n",
    "from sklearn.preprocessing import LabelEncoder\n",
    "\n",
    "# Read the CSV file\n",
    "df = pd.read_csv('dataset.csv')\n",
    "\n",
    "# Shuffle the data\n",
    "df = df.sample(frac=1).reset_index(drop=True)\n",
    "df.head()"
   ]
  },
  {
   "cell_type": "code",
   "execution_count": 2,
   "metadata": {},
   "outputs": [
    {
     "data": {
      "text/plain": [
       "Affirmation    1213\n",
       "Negation        680\n",
       "Name: Type, dtype: int64"
      ]
     },
     "execution_count": 2,
     "metadata": {},
     "output_type": "execute_result"
    }
   ],
   "source": [
    "# Verify Class balance \"Type\" column\n",
    "df['Type'].value_counts()  "
   ]
  },
  {
   "cell_type": "code",
   "execution_count": 3,
   "metadata": {},
   "outputs": [
    {
     "data": {
      "text/plain": [
       "Subjective    1086\n",
       "Factual        807\n",
       "Name: Factual/Subjective, dtype: int64"
      ]
     },
     "execution_count": 3,
     "metadata": {},
     "output_type": "execute_result"
    }
   ],
   "source": [
    "# Verify Class balance \"Factual/Subjective\" column\n",
    "df['Factual/Subjective'].value_counts()  "
   ]
  },
  {
   "cell_type": "code",
   "execution_count": 4,
   "metadata": {},
   "outputs": [
    {
     "data": {
      "text/plain": [
       "Neutral      728\n",
       "Anger        320\n",
       "Sadness      296\n",
       "Happiness    286\n",
       "Euphoria     161\n",
       "Neutral      101\n",
       "Neutral        1\n",
       "Name: Sentiment, dtype: int64"
      ]
     },
     "execution_count": 4,
     "metadata": {},
     "output_type": "execute_result"
    }
   ],
   "source": [
    "# Verify Class balance \"Sentiment\" column\n",
    "df['Sentiment'].value_counts()  "
   ]
  },
  {
   "cell_type": "code",
   "execution_count": 10,
   "metadata": {},
   "outputs": [
    {
     "data": {
      "text/plain": [
       "Sentence              0\n",
       "Type                  0\n",
       "Factual/Subjective    0\n",
       "Sentiment             0\n",
       "dtype: int64"
      ]
     },
     "execution_count": 10,
     "metadata": {},
     "output_type": "execute_result"
    }
   ],
   "source": [
    "# Check for missing values\n",
    "df.isnull().sum()"
   ]
  },
  {
   "cell_type": "code",
   "execution_count": 5,
   "metadata": {},
   "outputs": [
    {
     "name": "stdout",
     "output_type": "stream",
     "text": [
      "Affirmation    1213\n",
      "Negation        680\n",
      "Name: Type, dtype: int64\n",
      "-----------------------------\n",
      "Subjective    1086\n",
      "Factual        807\n",
      "Name: Factual/Subjective, dtype: int64\n",
      "-----------------------------\n",
      "Neutral      728\n",
      "Anger        320\n",
      "Sadness      296\n",
      "Happiness    286\n",
      "Euphoria     161\n",
      "Neutral      101\n",
      "Neutral        1\n",
      "Name: Sentiment, dtype: int64\n",
      "-----------------------------\n"
     ]
    }
   ],
   "source": [
    "# Verify Class balance \"Type\" column\n",
    "print(df['Type'].value_counts())\n",
    "print(\"-----------------------------\")\n",
    "# Verify Class balance \"Factual/Subjective\" column\n",
    "print(df['Factual/Subjective'].value_counts())\n",
    "print(\"-----------------------------\")\n",
    "# Verify Class balance \"Sentiment\" column\n",
    "print(df['Sentiment'].value_counts())\n",
    "print(\"-----------------------------\")"
   ]
  },
  {
   "cell_type": "code",
   "execution_count": null,
   "metadata": {},
   "outputs": [],
   "source": []
  }
 ],
 "metadata": {
  "kernelspec": {
   "display_name": "base",
   "language": "python",
   "name": "python3"
  },
  "language_info": {
   "codemirror_mode": {
    "name": "ipython",
    "version": 3
   },
   "file_extension": ".py",
   "mimetype": "text/x-python",
   "name": "python",
   "nbconvert_exporter": "python",
   "pygments_lexer": "ipython3",
   "version": "3.9.18"
  }
 },
 "nbformat": 4,
 "nbformat_minor": 2
}
