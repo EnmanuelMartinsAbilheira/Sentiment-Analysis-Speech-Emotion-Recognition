{
 "cells": [
  {
   "cell_type": "markdown",
   "metadata": {},
   "source": []
  },
  {
   "cell_type": "code",
   "execution_count": 1,
   "metadata": {},
   "outputs": [],
   "source": [
    "import pandas as pd\n",
    "import nltk\n",
    "from nltk.corpus import stopwords\n",
    "from textblob import TextBlob\n",
    "from nltk.tokenize import word_tokenize\n",
    "from nltk.stem import WordNetLemmatizer\n",
    "import string\n",
    "import joblib\n",
    "\n",
    "from sklearn.feature_extraction.text import TfidfVectorizer\n",
    "from sklearn.ensemble import RandomForestClassifier\n",
    "from sklearn.model_selection import train_test_split\n",
    "from sklearn.metrics import classification_report, accuracy_score"
   ]
  },
  {
   "cell_type": "markdown",
   "metadata": {},
   "source": [
    "## Create model - sentiment classification"
   ]
  },
  {
   "cell_type": "code",
   "execution_count": 2,
   "metadata": {},
   "outputs": [
    {
     "name": "stdout",
     "output_type": "stream",
     "text": [
      "Sentiment Model Accuracy: 82.86%\n",
      "\n",
      "Sentiment Classification report:\n",
      "              precision    recall  f1-score   support\n",
      "\n",
      "       Anger       0.81      0.75      0.78        81\n",
      "    Euphoria       0.88      0.77      0.82        60\n",
      "   Happiness       0.81      0.74      0.78        70\n",
      "     Neutral       0.83      0.96      0.89       186\n",
      "     Sadness       0.81      0.74      0.78        93\n",
      "\n",
      "    accuracy                           0.83       490\n",
      "   macro avg       0.83      0.79      0.81       490\n",
      "weighted avg       0.83      0.83      0.83       490\n",
      "\n"
     ]
    }
   ],
   "source": [
    "df = pd.read_csv(\"processed_dataset.csv\")\n",
    "\n",
    "# Extract TextBlob features\n",
    "#df['polarity'] = df['Sentence'].apply(lambda x: TextBlob(x).sentiment.polarity)\n",
    "#df['subjectivity'] = df['Sentence'].apply(lambda x: TextBlob(x).sentiment.subjectivity)\n",
    "\n",
    "# Generate TF-IDF features with N-grams\n",
    "tfidf = TfidfVectorizer(ngram_range=(1, 3), max_features=5000)\n",
    "X_tfidf = tfidf.fit_transform(df['Sentence'])\n",
    "#print(X_tfidf)\n",
    "\n",
    "# Combine with TextBlob features\n",
    "import scipy.sparse as sp\n",
    "#X_textblob = df[['polarity', 'subjectivity']].values\n",
    "#X_combined = sp.hstack((X_tfidf, X_textblob))\n",
    "\n",
    "# Train sentiment model\n",
    "X_train_sentiment, X_test_sentiment, y_train_sentiment, y_test_sentiment = train_test_split(\n",
    "    X_tfidf, df['Sentiment'], test_size=0.2, random_state=42)\n",
    "\n",
    "sentiment_model = RandomForestClassifier(n_estimators=100, random_state=42)\n",
    "sentiment_model.fit(X_train_sentiment, y_train_sentiment)\n",
    "\n",
    "# Evaluate sentiment model\n",
    "y_pred_sentiment = sentiment_model.predict(X_test_sentiment)\n",
    "sentiment_accuracy = accuracy_score(y_test_sentiment, y_pred_sentiment)\n",
    "print(f\"Sentiment Model Accuracy: {sentiment_accuracy * 100:.2f}%\")\n",
    "print(\"\\nSentiment Classification report:\")\n",
    "print(classification_report(y_test_sentiment, y_pred_sentiment))"
   ]
  },
  {
   "cell_type": "code",
   "execution_count": 3,
   "metadata": {},
   "outputs": [
    {
     "name": "stdout",
     "output_type": "stream",
     "text": [
      "\n",
      "Type Model Accuracy: 97.14%\n",
      "\n",
      "Type Classification report:\n",
      "              precision    recall  f1-score   support\n",
      "\n",
      " Affirmation       0.97      0.98      0.98       285\n",
      "    Negation       0.98      0.96      0.97       205\n",
      "\n",
      "    accuracy                           0.97       490\n",
      "   macro avg       0.97      0.97      0.97       490\n",
      "weighted avg       0.97      0.97      0.97       490\n",
      "\n"
     ]
    }
   ],
   "source": [
    "# Train type model (affirmation/negation)\n",
    "X_train_type, X_test_type, y_train_type, y_test_type = train_test_split(\n",
    "    X_tfidf, df['Type'], test_size=0.2, random_state=42)\n",
    "\n",
    "type_model = RandomForestClassifier(n_estimators=100, random_state=42)\n",
    "type_model.fit(X_train_type, y_train_type)\n",
    "\n",
    "# Evaluate type model\n",
    "y_pred_type = type_model.predict(X_test_type)\n",
    "type_accuracy = accuracy_score(y_test_type, y_pred_type)\n",
    "print(f\"\\nType Model Accuracy: {type_accuracy * 100:.2f}%\")\n",
    "print(\"\\nType Classification report:\")\n",
    "print(classification_report(y_test_type, y_pred_type))"
   ]
  },
  {
   "cell_type": "code",
   "execution_count": 4,
   "metadata": {},
   "outputs": [
    {
     "name": "stdout",
     "output_type": "stream",
     "text": [
      "\n",
      "Factual/Subjective Model Accuracy: 93.06%\n",
      "\n",
      "Factual/Subjective Classification report:\n",
      "              precision    recall  f1-score   support\n",
      "\n",
      "     Factual       0.92      0.93      0.92       224\n",
      "  Subjective       0.94      0.93      0.94       266\n",
      "\n",
      "    accuracy                           0.93       490\n",
      "   macro avg       0.93      0.93      0.93       490\n",
      "weighted avg       0.93      0.93      0.93       490\n",
      "\n"
     ]
    }
   ],
   "source": [
    "# Train factual/subjective model\n",
    "X_train_factual, X_test_factual, y_train_factual, y_test_factual = train_test_split(\n",
    "    X_tfidf, df['Factual/Subjective'], test_size=0.2, random_state=42)\n",
    "\n",
    "factual_model = RandomForestClassifier(n_estimators=100, random_state=42)\n",
    "factual_model.fit(X_train_factual, y_train_factual)\n",
    "\n",
    "# Evaluate factual/subjective model\n",
    "y_pred_factual = factual_model.predict(X_test_factual)\n",
    "factual_accuracy = accuracy_score(y_test_factual, y_pred_factual)\n",
    "print(f\"\\nFactual/Subjective Model Accuracy: {factual_accuracy * 100:.2f}%\")\n",
    "print(\"\\nFactual/Subjective Classification report:\")\n",
    "print(classification_report(y_test_factual, y_pred_factual))"
   ]
  },
  {
   "cell_type": "code",
   "execution_count": 5,
   "metadata": {},
   "outputs": [
    {
     "data": {
      "text/plain": [
       "['tfidf_vectorizer.pkl']"
      ]
     },
     "execution_count": 5,
     "metadata": {},
     "output_type": "execute_result"
    }
   ],
   "source": [
    "# Save all models and the vectorizer\n",
    "joblib.dump(sentiment_model, 'sentiment_model.pkl')\n",
    "joblib.dump(type_model, 'type_model.pkl')\n",
    "joblib.dump(factual_model, 'factual_model.pkl')\n",
    "joblib.dump(tfidf, 'tfidf_vectorizer.pkl')"
   ]
  },
  {
   "cell_type": "markdown",
   "metadata": {},
   "source": [
    "## Classify example sentece"
   ]
  },
  {
   "cell_type": "code",
   "execution_count": 10,
   "metadata": {},
   "outputs": [
    {
     "name": "stdout",
     "output_type": "stream",
     "text": [
      "\n",
      "Analysis for: Winning the championship was a dream come true!\n",
      "Sentiment: Euphoria\n",
      "Type: Affirmation\n",
      "Factual/Subjective: Subjective\n"
     ]
    }
   ],
   "source": [
    "# Initialize tools\n",
    "lemmatizer = WordNetLemmatizer()\n",
    "stop_words = set(stopwords.words(\"english\"))\n",
    "\n",
    "\n",
    "# Preprocessing function\n",
    "def preprocess_text(sentence):\n",
    "    sentence = sentence.lower()  # Convert to lowercase\n",
    "    sentence = sentence.translate(str.maketrans('', '', string.punctuation))  # Remove punctuation\n",
    "    words = word_tokenize(sentence)  # Tokenization\n",
    "    #words = [lemmatizer.lemmatize(word) for word in words if word not in stop_words]  # Lemmatization & stopword removal\n",
    "    #words = [lemmatizer.lemmatize(word) for word in words]     # Lemmatization\n",
    "    #words = [word for word in words if word not in stop_words]      # Stopword removal\n",
    "    processed_sentence = \" \".join(words)\n",
    "    \n",
    "    # Extract TextBlob features\n",
    "    blob = TextBlob(processed_sentence)\n",
    "    polarity = blob.sentiment.polarity  # Sentiment polarity (-1 to 1)\n",
    "    subjectivity = blob.sentiment.subjectivity  # Subjectivity (0 = factual, 1 = subjective)\n",
    "    \n",
    "    return processed_sentence#, polarity, subjectivity\n",
    "\n",
    "\n",
    "def analyze_sentence(sentence, sentiment_model, type_model, factual_model, tfidf):\n",
    "    # Preprocess\n",
    "    processed = preprocess_text(sentence)\n",
    "    # Transform using the fitted vectorizer\n",
    "    features = tfidf.transform([processed])\n",
    "    # Get predictions from all models\n",
    "    sentiment_prediction = sentiment_model.predict(features)[0]\n",
    "    type_prediction = type_model.predict(features)[0]\n",
    "    factual_prediction = factual_model.predict(features)[0]\n",
    "\n",
    "\n",
    "    return {\n",
    "        'sentence': sentence,\n",
    "        'sentiment': sentiment_prediction,\n",
    "        'type': type_prediction,\n",
    "        'factual_subjective': factual_prediction\n",
    "    }\n",
    "\n",
    "\"\"\"\n",
    "sample_sentence = \"This environment doesn't feel inviting.\"\n",
    "processed_sentence = preprocess_text(sample_sentence)\n",
    "\n",
    "tfidf_features = tfidf.transform([processed_sentence])\n",
    "\n",
    "result = model.predict(tfidf_features)\n",
    "print(result)\n",
    "\"\"\"\n",
    "\n",
    "\n",
    "new_sentence = \"Winning the championship was a dream come true!\"\n",
    "result = analyze_sentence(new_sentence, sentiment_model, type_model, factual_model, tfidf)\n",
    "print(\"\\nAnalysis for:\", result['sentence'])\n",
    "print(f\"Sentiment: {result['sentiment']}\")\n",
    "print(f\"Type: {result['type']}\")\n",
    "print(f\"Factual/Subjective: {result['factual_subjective']}\")"
   ]
  }
 ],
 "metadata": {
  "kernelspec": {
   "display_name": "miaa",
   "language": "python",
   "name": "python3"
  },
  "language_info": {
   "codemirror_mode": {
    "name": "ipython",
    "version": 3
   },
   "file_extension": ".py",
   "mimetype": "text/x-python",
   "name": "python",
   "nbconvert_exporter": "python",
   "pygments_lexer": "ipython3",
   "version": "3.10.14"
  }
 },
 "nbformat": 4,
 "nbformat_minor": 2
}
