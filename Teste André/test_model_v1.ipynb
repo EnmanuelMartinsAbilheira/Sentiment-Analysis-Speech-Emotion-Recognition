{
 "cells": [
  {
   "cell_type": "markdown",
   "metadata": {},
   "source": []
  },
  {
   "cell_type": "code",
   "execution_count": 1,
   "metadata": {},
   "outputs": [],
   "source": [
    "import pandas as pd\n",
    "import nltk\n",
    "from nltk.corpus import stopwords\n",
    "from textblob import TextBlob\n",
    "from nltk.tokenize import word_tokenize\n",
    "from nltk.stem import WordNetLemmatizer\n",
    "import string\n",
    "\n",
    "from sklearn.feature_extraction.text import TfidfVectorizer\n",
    "from sklearn.ensemble import RandomForestClassifier\n",
    "from sklearn.model_selection import train_test_split\n",
    "from sklearn.metrics import classification_report, accuracy_score"
   ]
  },
  {
   "cell_type": "markdown",
   "metadata": {},
   "source": [
    "## Create model - sentiment classification"
   ]
  },
  {
   "cell_type": "code",
   "execution_count": 8,
   "metadata": {},
   "outputs": [
    {
     "name": "stdout",
     "output_type": "stream",
     "text": [
      "Model Accuracy: 82.86%\n",
      "\n",
      "Classification report:\n",
      "              precision    recall  f1-score   support\n",
      "\n",
      "       Anger       0.81      0.75      0.78        81\n",
      "    Euphoria       0.88      0.77      0.82        60\n",
      "   Happiness       0.81      0.74      0.78        70\n",
      "     Neutral       0.83      0.96      0.89       186\n",
      "     Sadness       0.81      0.74      0.78        93\n",
      "\n",
      "    accuracy                           0.83       490\n",
      "   macro avg       0.83      0.79      0.81       490\n",
      "weighted avg       0.83      0.83      0.83       490\n",
      "\n"
     ]
    }
   ],
   "source": [
    "df = pd.read_csv(\"processed_dataset.csv\")\n",
    "\n",
    "# Extract TextBlob features\n",
    "#df['polarity'] = df['Sentence'].apply(lambda x: TextBlob(x).sentiment.polarity)\n",
    "#df['subjectivity'] = df['Sentence'].apply(lambda x: TextBlob(x).sentiment.subjectivity)\n",
    "\n",
    "# Generate TF-IDF features with N-grams\n",
    "tfidf = TfidfVectorizer(ngram_range=(1, 3), max_features=5000)\n",
    "X_tfidf = tfidf.fit_transform(df['Sentence'])\n",
    "#print(X_tfidf)\n",
    "\n",
    "# Combine with TextBlob features\n",
    "import scipy.sparse as sp\n",
    "#X_textblob = df[['polarity', 'subjectivity']].values\n",
    "#X_combined = sp.hstack((X_tfidf, X_textblob))\n",
    "\n",
    "# Split data\n",
    "X_train, X_test, y_train, y_test = train_test_split(X_tfidf, df['Sentiment'], test_size=0.2, random_state=42) #X_combined\n",
    "\n",
    "# Train classifier\n",
    "model = RandomForestClassifier(n_estimators=100, random_state=42)\n",
    "model.fit(X_train, y_train)\n",
    "\n",
    "# Evaluate\n",
    "\n",
    "# Evaluate the model\n",
    "y_pred = model.predict(X_test)\n",
    "accuracy = accuracy_score(y_test, y_pred)\n",
    "print(f\"Model Accuracy: {accuracy * 100:.2f}%\")\n",
    "\n",
    "# Classification report\n",
    "print(\"\\nClassification report:\")\n",
    "print(classification_report(y_test, y_pred))"
   ]
  },
  {
   "cell_type": "markdown",
   "metadata": {},
   "source": [
    "## Classify example sentece"
   ]
  },
  {
   "cell_type": "code",
   "execution_count": 9,
   "metadata": {},
   "outputs": [
    {
     "name": "stdout",
     "output_type": "stream",
     "text": [
      "['Anger']\n"
     ]
    }
   ],
   "source": [
    "# Preprocessing function\n",
    "def preprocess_text(sentence):\n",
    "    sentence = sentence.lower()  # Convert to lowercase\n",
    "    sentence = sentence.translate(str.maketrans('', '', string.punctuation))  # Remove punctuation\n",
    "    words = word_tokenize(sentence)  # Tokenization\n",
    "    #words = [lemmatizer.lemmatize(word) for word in words if word not in stop_words]  # Lemmatization & stopword removal\n",
    "    processed_sentence = \" \".join(words)\n",
    "    \n",
    "    # Extract TextBlob features\n",
    "    blob = TextBlob(processed_sentence)\n",
    "    polarity = blob.sentiment.polarity  # Sentiment polarity (-1 to 1)\n",
    "    subjectivity = blob.sentiment.subjectivity  # Subjectivity (0 = factual, 1 = subjective)\n",
    "    \n",
    "    return processed_sentence#, polarity, subjectivity\n",
    "\n",
    "\n",
    "sample_sentence = \"This environment doesn't feel inviting.\"\n",
    "processed_sentence = preprocess_text(sample_sentence)\n",
    "\n",
    "tfidf_features = tfidf.transform([processed_sentence])\n",
    "\n",
    "result = model.predict(tfidf_features)\n",
    "print(result)"
   ]
  }
 ],
 "metadata": {
  "kernelspec": {
   "display_name": "miaa",
   "language": "python",
   "name": "python3"
  },
  "language_info": {
   "codemirror_mode": {
    "name": "ipython",
    "version": 3
   },
   "file_extension": ".py",
   "mimetype": "text/x-python",
   "name": "python",
   "nbconvert_exporter": "python",
   "pygments_lexer": "ipython3",
   "version": "3.10.14"
  }
 },
 "nbformat": 4,
 "nbformat_minor": 2
}
