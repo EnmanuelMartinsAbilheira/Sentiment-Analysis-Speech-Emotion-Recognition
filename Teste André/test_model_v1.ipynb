{
 "cells": [
  {
   "cell_type": "markdown",
   "metadata": {},
   "source": []
  },
  {
   "cell_type": "code",
   "execution_count": 1,
   "metadata": {},
   "outputs": [
    {
     "name": "stderr",
     "output_type": "stream",
     "text": [
      "c:\\Users\\andre\\miniconda3\\envs\\miaa\\lib\\site-packages\\tqdm\\auto.py:21: TqdmWarning: IProgress not found. Please update jupyter and ipywidgets. See https://ipywidgets.readthedocs.io/en/stable/user_install.html\n",
      "  from .autonotebook import tqdm as notebook_tqdm\n"
     ]
    }
   ],
   "source": [
    "import pandas as pd\n",
    "import nltk\n",
    "from nltk.corpus import stopwords\n",
    "from textblob import TextBlob\n",
    "from nltk.tokenize import word_tokenize\n",
    "from nltk.stem import WordNetLemmatizer\n",
    "import string\n",
    "import joblib\n",
    "import os\n",
    "\n",
    "from sklearn.feature_extraction.text import TfidfVectorizer\n",
    "from sklearn.ensemble import RandomForestClassifier\n",
    "from sklearn.model_selection import train_test_split\n",
    "from sklearn.metrics import classification_report, accuracy_score\n",
    "\n",
    "\n",
    "# Import Cross-validation methods\n",
    "import optuna\n",
    "from optuna.integration import OptunaSearchCV\n",
    "from optuna.distributions import IntDistribution, FloatDistribution, CategoricalDistribution\n",
    "from sklearn.model_selection import StratifiedKFold\n",
    "from sklearn.metrics import make_scorer, recall_score"
   ]
  },
  {
   "cell_type": "markdown",
   "metadata": {},
   "source": [
    "## Pre-process dataset sentences"
   ]
  },
  {
   "cell_type": "code",
   "execution_count": 2,
   "metadata": {},
   "outputs": [
    {
     "name": "stdout",
     "output_type": "stream",
     "text": [
      "Preprocessing complete. Processed dataset saved as 'processed_dataset.csv'\n"
     ]
    },
    {
     "data": {
      "text/html": [
       "<div>\n",
       "<style scoped>\n",
       "    .dataframe tbody tr th:only-of-type {\n",
       "        vertical-align: middle;\n",
       "    }\n",
       "\n",
       "    .dataframe tbody tr th {\n",
       "        vertical-align: top;\n",
       "    }\n",
       "\n",
       "    .dataframe thead th {\n",
       "        text-align: right;\n",
       "    }\n",
       "</style>\n",
       "<table border=\"1\" class=\"dataframe\">\n",
       "  <thead>\n",
       "    <tr style=\"text-align: right;\">\n",
       "      <th></th>\n",
       "      <th>Sentence</th>\n",
       "      <th>Type</th>\n",
       "      <th>Factual/Subjective</th>\n",
       "      <th>Sentiment</th>\n",
       "    </tr>\n",
       "  </thead>\n",
       "  <tbody>\n",
       "    <tr>\n",
       "      <th>0</th>\n",
       "      <td>the sky is blue</td>\n",
       "      <td>Affirmation</td>\n",
       "      <td>Factual</td>\n",
       "      <td>Neutral</td>\n",
       "    </tr>\n",
       "    <tr>\n",
       "      <th>1</th>\n",
       "      <td>i love sunny days</td>\n",
       "      <td>Affirmation</td>\n",
       "      <td>Subjective</td>\n",
       "      <td>Happiness</td>\n",
       "    </tr>\n",
       "    <tr>\n",
       "      <th>2</th>\n",
       "      <td>this pizza is disgusting</td>\n",
       "      <td>Affirmation</td>\n",
       "      <td>Subjective</td>\n",
       "      <td>Anger</td>\n",
       "    </tr>\n",
       "    <tr>\n",
       "      <th>3</th>\n",
       "      <td>water boils at 100 degrees celsius</td>\n",
       "      <td>Affirmation</td>\n",
       "      <td>Factual</td>\n",
       "      <td>Neutral</td>\n",
       "    </tr>\n",
       "    <tr>\n",
       "      <th>4</th>\n",
       "      <td>i dont think this is a good idea</td>\n",
       "      <td>Negation</td>\n",
       "      <td>Subjective</td>\n",
       "      <td>Sadness</td>\n",
       "    </tr>\n",
       "  </tbody>\n",
       "</table>\n",
       "</div>"
      ],
      "text/plain": [
       "                             Sentence         Type Factual/Subjective  \\\n",
       "0                     the sky is blue  Affirmation            Factual   \n",
       "1                   i love sunny days  Affirmation         Subjective   \n",
       "2            this pizza is disgusting  Affirmation         Subjective   \n",
       "3  water boils at 100 degrees celsius  Affirmation            Factual   \n",
       "4    i dont think this is a good idea     Negation         Subjective   \n",
       "\n",
       "   Sentiment  \n",
       "0    Neutral  \n",
       "1  Happiness  \n",
       "2      Anger  \n",
       "3    Neutral  \n",
       "4    Sadness  "
      ]
     },
     "execution_count": 2,
     "metadata": {},
     "output_type": "execute_result"
    }
   ],
   "source": [
    "# Load dataset\n",
    "file_path = \"dataset.csv\"  # Change this to your actual dataset path\n",
    "df = pd.read_csv(file_path)\n",
    "\n",
    "# Initialize tools\n",
    "lemmatizer = WordNetLemmatizer()\n",
    "stop_words = set(stopwords.words(\"english\"))\n",
    "\n",
    "# Preprocessing function\n",
    "def preprocess_text(sentence):\n",
    "    sentence = sentence.lower()  # Convert to lowercase\n",
    "    sentence = sentence.translate(str.maketrans('', '', string.punctuation))  # Remove punctuation\n",
    "    words = word_tokenize(sentence)  # Tokenization\n",
    "    #words = [lemmatizer.lemmatize(word) for word in words if word not in stop_words]  # Lemmatization & stopword removal\n",
    "    #words = [lemmatizer.lemmatize(word) for word in words]     # Lemmanization\n",
    "    #words = [word for word in words if word not in stop_words]     # Stop-word removal\n",
    "    processed_sentence = \" \".join(words)\n",
    "    \n",
    "    # Extract TextBlob features\n",
    "    blob = TextBlob(processed_sentence)\n",
    "    polarity = blob.sentiment.polarity  # Sentiment polarity (-1 to 1)\n",
    "    subjectivity = blob.sentiment.subjectivity  # Subjectivity (0 = factual, 1 = subjective)\n",
    "    \n",
    "    return processed_sentence#, polarity, subjectivity\n",
    "\n",
    "# Apply preprocessing\n",
    "# Create a copy of the original dataframe\n",
    "df_processed = df.copy()\n",
    "\n",
    "# Apply preprocessing to the 'Sentence' column\n",
    "df_processed['Sentence'] = df['Sentence'].apply(preprocess_text)\n",
    "\n",
    "# Save processed data\n",
    "df_processed.to_csv(\"processed_dataset.csv\", index=False)\n",
    "\n",
    "print(\"Preprocessing complete. Processed dataset saved as 'processed_dataset.csv'\")\n",
    "df_processed.head()"
   ]
  },
  {
   "cell_type": "markdown",
   "metadata": {},
   "source": [
    "## Create model - sentiment classification"
   ]
  },
  {
   "cell_type": "code",
   "execution_count": 3,
   "metadata": {},
   "outputs": [
    {
     "name": "stderr",
     "output_type": "stream",
     "text": [
      "C:\\Users\\andre\\AppData\\Local\\Temp\\ipykernel_8272\\3693918122.py:32: ExperimentalWarning: OptunaSearchCV is experimental (supported from v0.17.0). The interface can change in the future.\n",
      "  optuna_random_forest = OptunaSearchCV(\n",
      "[I 2025-02-28 11:12:06,391] A new study created in memory with name: no-name-2f47a27a-5b4c-4a4b-b2d0-edec1d44c661\n",
      "[I 2025-02-28 11:12:34,952] Trial 0 finished with value: 0.7069836630304295 and parameters: {'n_estimators': 100, 'max_depth': 20, 'min_samples_split': 3, 'min_samples_leaf': 3, 'bootstrap': True, 'max_features': None}. Best is trial 0 with value: 0.7069836630304295.\n",
      "[I 2025-02-28 11:12:35,530] Trial 1 finished with value: 0.32720783965760214 and parameters: {'n_estimators': 50, 'max_depth': 10, 'min_samples_split': 9, 'min_samples_leaf': 4, 'bootstrap': True, 'max_features': 'log2'}. Best is trial 0 with value: 0.7069836630304295.\n",
      "[I 2025-02-28 11:12:38,057] Trial 2 finished with value: 0.36089305287332324 and parameters: {'n_estimators': 200, 'max_depth': 10, 'min_samples_split': 8, 'min_samples_leaf': 3, 'bootstrap': False, 'max_features': 'log2'}. Best is trial 0 with value: 0.7069836630304295.\n",
      "[I 2025-02-28 11:13:35,032] Trial 3 finished with value: 0.6018346469022392 and parameters: {'n_estimators': 200, 'max_depth': 10, 'min_samples_split': 3, 'min_samples_leaf': 1, 'bootstrap': False, 'max_features': None}. Best is trial 0 with value: 0.7069836630304295.\n",
      "[I 2025-02-28 11:13:50,014] Trial 4 finished with value: 0.7125998225377108 and parameters: {'n_estimators': 50, 'max_depth': 20, 'min_samples_split': 7, 'min_samples_leaf': 2, 'bootstrap': True, 'max_features': None}. Best is trial 4 with value: 0.7125998225377108.\n",
      "[I 2025-02-28 11:14:17,632] Trial 5 finished with value: 0.7728365259147137 and parameters: {'n_estimators': 50, 'max_depth': None, 'min_samples_split': 7, 'min_samples_leaf': 1, 'bootstrap': True, 'max_features': None}. Best is trial 5 with value: 0.7728365259147137.\n",
      "[I 2025-02-28 11:14:20,145] Trial 6 finished with value: 0.3460919150268803 and parameters: {'n_estimators': 200, 'max_depth': 20, 'min_samples_split': 9, 'min_samples_leaf': 4, 'bootstrap': False, 'max_features': 'log2'}. Best is trial 5 with value: 0.7728365259147137.\n",
      "[I 2025-02-28 11:14:34,678] Trial 7 finished with value: 0.6023448509838718 and parameters: {'n_estimators': 50, 'max_depth': 10, 'min_samples_split': 2, 'min_samples_leaf': 1, 'bootstrap': False, 'max_features': None}. Best is trial 5 with value: 0.7728365259147137.\n",
      "[I 2025-02-28 11:15:07,253] Trial 8 finished with value: 0.6544000208779164 and parameters: {'n_estimators': 150, 'max_depth': 10, 'min_samples_split': 4, 'min_samples_leaf': 1, 'bootstrap': True, 'max_features': None}. Best is trial 5 with value: 0.7728365259147137.\n",
      "[I 2025-02-28 11:15:58,558] Trial 9 finished with value: 0.7115794143744455 and parameters: {'n_estimators': 150, 'max_depth': None, 'min_samples_split': 3, 'min_samples_leaf': 4, 'bootstrap': True, 'max_features': None}. Best is trial 5 with value: 0.7728365259147137.\n",
      "[I 2025-02-28 11:16:04,287] Trial 10 finished with value: 0.7427136071820032 and parameters: {'n_estimators': 100, 'max_depth': None, 'min_samples_split': 6, 'min_samples_leaf': 2, 'bootstrap': True, 'max_features': 'sqrt'}. Best is trial 5 with value: 0.7728365259147137.\n",
      "[I 2025-02-28 11:16:10,085] Trial 11 finished with value: 0.74016258677384 and parameters: {'n_estimators': 100, 'max_depth': None, 'min_samples_split': 6, 'min_samples_leaf': 2, 'bootstrap': True, 'max_features': 'sqrt'}. Best is trial 5 with value: 0.7728365259147137.\n",
      "[I 2025-02-28 11:16:15,909] Trial 12 finished with value: 0.738630669659168 and parameters: {'n_estimators': 100, 'max_depth': None, 'min_samples_split': 6, 'min_samples_leaf': 2, 'bootstrap': True, 'max_features': 'sqrt'}. Best is trial 5 with value: 0.7728365259147137.\n",
      "[I 2025-02-28 11:16:21,403] Trial 13 finished with value: 0.8039733284618196 and parameters: {'n_estimators': 50, 'max_depth': None, 'min_samples_split': 5, 'min_samples_leaf': 1, 'bootstrap': True, 'max_features': 'sqrt'}. Best is trial 13 with value: 0.8039733284618196.\n",
      "[I 2025-02-28 11:16:26,712] Trial 14 finished with value: 0.8060154496581242 and parameters: {'n_estimators': 50, 'max_depth': None, 'min_samples_split': 5, 'min_samples_leaf': 1, 'bootstrap': True, 'max_features': 'sqrt'}. Best is trial 14 with value: 0.8060154496581242.\n",
      "[I 2025-02-28 11:16:32,035] Trial 15 finished with value: 0.8070332480818415 and parameters: {'n_estimators': 50, 'max_depth': None, 'min_samples_split': 5, 'min_samples_leaf': 1, 'bootstrap': True, 'max_features': 'sqrt'}. Best is trial 15 with value: 0.8070332480818415.\n",
      "[I 2025-02-28 11:16:37,378] Trial 16 finished with value: 0.8095881830993266 and parameters: {'n_estimators': 50, 'max_depth': None, 'min_samples_split': 5, 'min_samples_leaf': 1, 'bootstrap': True, 'max_features': 'sqrt'}. Best is trial 16 with value: 0.8095881830993266.\n",
      "[I 2025-02-28 11:16:44,534] Trial 17 finished with value: 0.6957526488856413 and parameters: {'n_estimators': 150, 'max_depth': None, 'min_samples_split': 5, 'min_samples_leaf': 3, 'bootstrap': True, 'max_features': 'sqrt'}. Best is trial 16 with value: 0.8095881830993266.\n",
      "[I 2025-02-28 11:16:54,324] Trial 18 finished with value: 0.7707983193277311 and parameters: {'n_estimators': 100, 'max_depth': None, 'min_samples_split': 4, 'min_samples_leaf': 2, 'bootstrap': False, 'max_features': 'sqrt'}. Best is trial 16 with value: 0.8095881830993266.\n",
      "[I 2025-02-28 11:16:59,223] Trial 19 finished with value: 0.798872592515267 and parameters: {'n_estimators': 50, 'max_depth': None, 'min_samples_split': 7, 'min_samples_leaf': 1, 'bootstrap': True, 'max_features': 'sqrt'}. Best is trial 16 with value: 0.8095881830993266.\n"
     ]
    },
    {
     "name": "stdout",
     "output_type": "stream",
     "text": [
      "\n",
      "Best Parameters: {'n_estimators': 50, 'max_depth': None, 'min_samples_split': 5, 'min_samples_leaf': 1, 'bootstrap': True, 'max_features': 'sqrt'}\n",
      "Best Cross-Validation Score: 0.8096\n",
      "Sentiment Model Accuracy: 77.14%\n",
      "\n",
      "Sentiment Classification report:\n",
      "              precision    recall  f1-score   support\n",
      "\n",
      "       Anger       0.77      0.70      0.73        73\n",
      "    Euphoria       0.82      0.60      0.69        52\n",
      "   Happiness       0.78      0.62      0.69        74\n",
      "     Neutral       0.78      0.94      0.85       189\n",
      "     Sadness       0.73      0.72      0.72       102\n",
      "\n",
      "    accuracy                           0.77       490\n",
      "   macro avg       0.78      0.71      0.74       490\n",
      "weighted avg       0.77      0.77      0.77       490\n",
      "\n"
     ]
    }
   ],
   "source": [
    "df = pd.read_csv(\"processed_dataset.csv\")\n",
    "\n",
    "# Shuffling: frac=1 shuffles all rows, random_state for reproducibility\n",
    "df = df.sample(frac=1, random_state=42)\n",
    "# Reset index after shuffling\n",
    "df.reset_index(drop=True, inplace=True)\n",
    "\n",
    "# Generate TF-IDF features with N-grams\n",
    "tfidf = TfidfVectorizer(ngram_range=(1, 3), max_features=5000)\n",
    "X = tfidf.fit_transform(df['Sentence'])\n",
    "#print(X)\n",
    "\n",
    "# Train sentiment model\n",
    "X_train_sentiment, X_test_sentiment, y_train_sentiment, y_test_sentiment = train_test_split(\n",
    "    X, df['Sentiment'], test_size=0.2, random_state=42)\n",
    "\n",
    "base_model = RandomForestClassifier()\n",
    "\n",
    "\n",
    "# Custom scoring metric\n",
    "scorer = make_scorer(accuracy_score)\n",
    "\n",
    "param_space_random_forest = {\n",
    "    \"n_estimators\": IntDistribution(50, 200, step=50),\n",
    "    \"max_depth\": CategoricalDistribution([None, 10, 20]),\n",
    "    \"min_samples_split\": IntDistribution(2, 10, step=1),\n",
    "    \"min_samples_leaf\": IntDistribution(1, 4, step=1),\n",
    "    \"bootstrap\": CategoricalDistribution([True, False]),\n",
    "    \"max_features\": CategoricalDistribution([None, 'sqrt', 'log2'])\n",
    "}\n",
    "\n",
    "optuna_random_forest = OptunaSearchCV(\n",
    "    base_model,\n",
    "    param_space_random_forest,\n",
    "    cv=StratifiedKFold(n_splits=5),\n",
    "    n_trials=20,\n",
    "    scoring=scorer,\n",
    "    random_state=68,\n",
    "    timeout=600\n",
    ")\n",
    "\n",
    "# Train the model using Optuna optimization\n",
    "optuna_random_forest.fit(X_train_sentiment, y_train_sentiment)\n",
    "\n",
    "\n",
    "# Get the best parameters and score\n",
    "print(\"\\nBest Parameters:\", optuna_random_forest.best_params_)\n",
    "print(f\"Best Cross-Validation Score: {optuna_random_forest.best_score_:.4f}\")\n",
    "\n",
    "# Get the best model\n",
    "sentiment_model = optuna_random_forest.best_estimator_\n",
    "\n",
    "# Evaluate sentiment model\n",
    "y_pred_sentiment = sentiment_model.predict(X_test_sentiment)\n",
    "sentiment_accuracy = accuracy_score(y_test_sentiment, y_pred_sentiment)\n",
    "print(f\"Sentiment Model Accuracy: {sentiment_accuracy * 100:.2f}%\")\n",
    "print(\"\\nSentiment Classification report:\")\n",
    "print(classification_report(y_test_sentiment, y_pred_sentiment))"
   ]
  },
  {
   "cell_type": "markdown",
   "metadata": {},
   "source": [
    "## Polarity classification"
   ]
  },
  {
   "cell_type": "code",
   "execution_count": 4,
   "metadata": {},
   "outputs": [
    {
     "name": "stdout",
     "output_type": "stream",
     "text": [
      "\n",
      "Type Model Accuracy: 95.51%\n",
      "\n",
      "Type Classification report:\n",
      "              precision    recall  f1-score   support\n",
      "\n",
      " Affirmation       0.94      0.99      0.97       306\n",
      "    Negation       0.99      0.89      0.94       184\n",
      "\n",
      "    accuracy                           0.96       490\n",
      "   macro avg       0.96      0.94      0.95       490\n",
      "weighted avg       0.96      0.96      0.95       490\n",
      "\n"
     ]
    }
   ],
   "source": [
    "# Train type model (affirmation/negation)\n",
    "X_train_type, X_test_type, y_train_type, y_test_type = train_test_split(\n",
    "    X, df['Type'], test_size=0.2, random_state=42)\n",
    "\n",
    "type_model = RandomForestClassifier(n_estimators=100, random_state=42)\n",
    "type_model.fit(X_train_type, y_train_type)\n",
    "\n",
    "# Evaluate type model\n",
    "y_pred_type = type_model.predict(X_test_type)\n",
    "type_accuracy = accuracy_score(y_test_type, y_pred_type)\n",
    "print(f\"\\nType Model Accuracy: {type_accuracy * 100:.2f}%\")\n",
    "print(\"\\nType Classification report:\")\n",
    "print(classification_report(y_test_type, y_pred_type))"
   ]
  },
  {
   "cell_type": "markdown",
   "metadata": {},
   "source": [
    "## Subjectiveness classification"
   ]
  },
  {
   "cell_type": "code",
   "execution_count": 5,
   "metadata": {},
   "outputs": [
    {
     "name": "stdout",
     "output_type": "stream",
     "text": [
      "\n",
      "Factual/Subjective Model Accuracy: 94.69%\n",
      "\n",
      "Factual/Subjective Classification report:\n",
      "              precision    recall  f1-score   support\n",
      "\n",
      "     Factual       0.92      0.96      0.94       212\n",
      "  Subjective       0.97      0.94      0.95       278\n",
      "\n",
      "    accuracy                           0.95       490\n",
      "   macro avg       0.94      0.95      0.95       490\n",
      "weighted avg       0.95      0.95      0.95       490\n",
      "\n"
     ]
    }
   ],
   "source": [
    "# Train factual/subjective model\n",
    "X_train_factual, X_test_factual, y_train_factual, y_test_factual = train_test_split(\n",
    "    X, df['Factual/Subjective'], test_size=0.2, random_state=42)\n",
    "\n",
    "factual_model = RandomForestClassifier(n_estimators=100, random_state=42)\n",
    "factual_model.fit(X_train_factual, y_train_factual)\n",
    "\n",
    "# Evaluate factual/subjective model\n",
    "y_pred_factual = factual_model.predict(X_test_factual)\n",
    "factual_accuracy = accuracy_score(y_test_factual, y_pred_factual)\n",
    "print(f\"\\nFactual/Subjective Model Accuracy: {factual_accuracy * 100:.2f}%\")\n",
    "print(\"\\nFactual/Subjective Classification report:\")\n",
    "print(classification_report(y_test_factual, y_pred_factual))"
   ]
  },
  {
   "cell_type": "markdown",
   "metadata": {},
   "source": [
    "## Export models and vectorizers"
   ]
  },
  {
   "cell_type": "code",
   "execution_count": 6,
   "metadata": {},
   "outputs": [
    {
     "name": "stdout",
     "output_type": "stream",
     "text": [
      "Models and vectorizer saved to the 'saved_models' folder.\n"
     ]
    }
   ],
   "source": [
    "# Create the \"saved_models\" folder if it doesn't exist\n",
    "folder_name = \"saved_models\"\n",
    "if not os.path.exists(folder_name):\n",
    "    os.makedirs(folder_name)\n",
    "\n",
    "# Save the models and vectorizer to the \"saved_models\" folder\n",
    "joblib.dump(sentiment_model, os.path.join(folder_name, 'sentiment_model.pkl'))\n",
    "joblib.dump(type_model, os.path.join(folder_name, 'type_model.pkl'))\n",
    "joblib.dump(factual_model, os.path.join(folder_name, 'factual_model.pkl'))\n",
    "joblib.dump(tfidf, os.path.join(folder_name, 'tfidf_vectorizer.pkl'))\n",
    "\n",
    "print(f\"Models and vectorizer saved to the '{folder_name}' folder.\")"
   ]
  },
  {
   "cell_type": "markdown",
   "metadata": {},
   "source": [
    "## Classify example sentece"
   ]
  },
  {
   "cell_type": "code",
   "execution_count": 7,
   "metadata": {},
   "outputs": [
    {
     "name": "stdout",
     "output_type": "stream",
     "text": [
      "\n",
      "Analysis for: Winning the championship was a dream come true!\n",
      "Sentiment: Euphoria\n",
      "Type: Affirmation\n",
      "Factual/Subjective: Subjective\n"
     ]
    }
   ],
   "source": [
    "# Initialize tools\n",
    "lemmatizer = WordNetLemmatizer()\n",
    "stop_words = set(stopwords.words(\"english\"))\n",
    "\n",
    "\n",
    "# Preprocessing function\n",
    "def preprocess_text(sentence):\n",
    "    sentence = sentence.lower()  # Convert to lowercase\n",
    "    sentence = sentence.translate(str.maketrans('', '', string.punctuation))  # Remove punctuation\n",
    "    words = word_tokenize(sentence)  # Tokenization\n",
    "    #words = [lemmatizer.lemmatize(word) for word in words if word not in stop_words]  # Lemmatization & stopword removal\n",
    "    #words = [lemmatizer.lemmatize(word) for word in words]     # Lemmatization\n",
    "    #words = [word for word in words if word not in stop_words]      # Stopword removal\n",
    "    processed_sentence = \" \".join(words)\n",
    "    \n",
    "    # Extract TextBlob features\n",
    "    blob = TextBlob(processed_sentence)\n",
    "    polarity = blob.sentiment.polarity  # Sentiment polarity (-1 to 1)\n",
    "    subjectivity = blob.sentiment.subjectivity  # Subjectivity (0 = factual, 1 = subjective)\n",
    "    \n",
    "    return processed_sentence#, polarity, subjectivity\n",
    "\n",
    "\n",
    "def analyze_sentence(sentence, sentiment_model, type_model, factual_model, tfidf):\n",
    "    # Preprocess\n",
    "    processed = preprocess_text(sentence)\n",
    "    # Transform using the fitted vectorizer\n",
    "    features = tfidf.transform([processed])\n",
    "    # Get predictions from all models\n",
    "    sentiment_prediction = sentiment_model.predict(features)[0]\n",
    "    type_prediction = type_model.predict(features)[0]\n",
    "    factual_prediction = factual_model.predict(features)[0]\n",
    "\n",
    "\n",
    "    return {\n",
    "        'sentence': sentence,\n",
    "        'sentiment': sentiment_prediction,\n",
    "        'type': type_prediction,\n",
    "        'factual_subjective': factual_prediction\n",
    "    }\n",
    "\n",
    "\"\"\"\n",
    "sample_sentence = \"This environment doesn't feel inviting.\"\n",
    "processed_sentence = preprocess_text(sample_sentence)\n",
    "\n",
    "tfidf_features = tfidf.transform([processed_sentence])\n",
    "\n",
    "result = model.predict(tfidf_features)\n",
    "print(result)\n",
    "\"\"\"\n",
    "\n",
    "\n",
    "new_sentence = \"Winning the championship was a dream come true!\"\n",
    "result = analyze_sentence(new_sentence, sentiment_model, type_model, factual_model, tfidf)\n",
    "print(\"\\nAnalysis for:\", result['sentence'])\n",
    "print(f\"Sentiment: {result['sentiment']}\")\n",
    "print(f\"Type: {result['type']}\")\n",
    "print(f\"Factual/Subjective: {result['factual_subjective']}\")"
   ]
  }
 ],
 "metadata": {
  "kernelspec": {
   "display_name": "miaa",
   "language": "python",
   "name": "python3"
  },
  "language_info": {
   "codemirror_mode": {
    "name": "ipython",
    "version": 3
   },
   "file_extension": ".py",
   "mimetype": "text/x-python",
   "name": "python",
   "nbconvert_exporter": "python",
   "pygments_lexer": "ipython3",
   "version": "3.10.14"
  }
 },
 "nbformat": 4,
 "nbformat_minor": 2
}
