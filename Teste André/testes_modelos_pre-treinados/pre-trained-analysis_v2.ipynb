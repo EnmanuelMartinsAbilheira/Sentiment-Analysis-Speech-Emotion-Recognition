{
 "cells": [
  {
   "cell_type": "markdown",
   "metadata": {},
   "source": []
  },
  {
   "cell_type": "code",
   "execution_count": 1,
   "metadata": {},
   "outputs": [
    {
     "name": "stderr",
     "output_type": "stream",
     "text": [
      "c:\\Users\\andre\\miniconda3\\envs\\miaa\\lib\\site-packages\\tqdm\\auto.py:21: TqdmWarning: IProgress not found. Please update jupyter and ipywidgets. See https://ipywidgets.readthedocs.io/en/stable/user_install.html\n",
      "  from .autonotebook import tqdm as notebook_tqdm\n"
     ]
    }
   ],
   "source": [
    "from transformers import AutoModelForSequenceClassification, AutoTokenizer\n",
    "from transformers import T5ForConditionalGeneration, T5Tokenizer\n",
    "from gramformer import Gramformer\n",
    "import transformers\n",
    "import torch\n",
    "import spacy\n",
    "import time"
   ]
  },
  {
   "cell_type": "markdown",
   "metadata": {},
   "source": [
    "## Ignore warnings"
   ]
  },
  {
   "cell_type": "code",
   "execution_count": 2,
   "metadata": {},
   "outputs": [],
   "source": [
    "import warnings\n",
    "warnings.filterwarnings(\"ignore\")\n",
    "transformers.logging.set_verbosity_error()"
   ]
  },
  {
   "cell_type": "markdown",
   "metadata": {},
   "source": [
    "## Optimized Gramformer for sentence correction"
   ]
  },
  {
   "cell_type": "code",
   "execution_count": 3,
   "metadata": {},
   "outputs": [],
   "source": [
    "class OptimizedT5Corrector:\n",
    "    def __init__(self, debug=True):\n",
    "        # Load model and tokenizer directly\n",
    "        self.model_name = \"prithivida/grammar_error_correcter_v1\"\n",
    "        self.tokenizer = T5Tokenizer.from_pretrained(self.model_name)\n",
    "        self.model = T5ForConditionalGeneration.from_pretrained(self.model_name)\n",
    "        \n",
    "        # Optimize model for inference\n",
    "        self.model.eval()\n",
    "        \n",
    "        # Use torch.compile for PyTorch 2.0+ (significant speedup)\n",
    "        if hasattr(torch, 'compile'):\n",
    "            try:\n",
    "                self.model = torch.compile(self.model)\n",
    "                if debug: print(\"Successfully applied torch.compile optimization\")\n",
    "            except Exception as e:\n",
    "                if debug: print(f\"Could not apply torch.compile: {e}\")\n",
    "        \n",
    "        # Optimize memory usage\n",
    "        self.model.config.use_cache = True\n",
    "        \n",
    "    def correct(self, sentence, max_length=128):\n",
    "        # Start measuring inference time\n",
    "        start_time = time.time()\n",
    "        \n",
    "        # Apply inference optimizations\n",
    "        with torch.inference_mode():\n",
    "            # Prepare input - the \"gec:\" prefix is important for the model\n",
    "            input_text = f\"gec: {sentence}\"\n",
    "            input_ids = self.tokenizer(input_text, return_tensors=\"pt\").input_ids\n",
    "            \n",
    "            # Optimize generation parameters for speed\n",
    "            outputs = self.model.generate(\n",
    "                input_ids=input_ids,\n",
    "                max_length=max_length,\n",
    "                num_beams=2,  # Reduced from 5 for speed\n",
    "                early_stopping=True,\n",
    "                use_cache=True  # Enable KV caching for faster generation\n",
    "            )\n",
    "            \n",
    "            # Decode output\n",
    "            corrected_sentence = self.tokenizer.decode(outputs[0], skip_special_tokens=True)\n",
    "        \n",
    "        # End measuring inference time\n",
    "        end_time = time.time()\n",
    "        inference_time = end_time - start_time\n",
    "        \n",
    "        return {\n",
    "            \"corrected_sentence\": corrected_sentence,\n",
    "            \"inference_time_seconds\": inference_time\n",
    "        }"
   ]
  },
  {
   "cell_type": "markdown",
   "metadata": {},
   "source": [
    "## Polarity detection with Spacy"
   ]
  },
  {
   "cell_type": "code",
   "execution_count": 4,
   "metadata": {},
   "outputs": [],
   "source": [
    "def analyze_sentence_type(nlp, text):\n",
    "    # Measure inference time\n",
    "    start_time = time.time()\n",
    "\n",
    "    # Parse the sentence using spaCy\n",
    "    doc = nlp(text)\n",
    "\n",
    "    # Check for negation by looking for the 'neg' dependency tag\n",
    "    has_negation = any(token.dep_ == \"neg\" for token in doc)\n",
    "    \n",
    "    # Determine sentence type\n",
    "    sentence_type = \"negation\" if has_negation else \"affirmation\"\n",
    "\n",
    "    end_time = time.time()\n",
    "    inference_time = end_time - start_time\n",
    "    \n",
    "    return {\n",
    "        'sentence': text,\n",
    "        'sentence_type': sentence_type,\n",
    "        'inference_time': inference_time\n",
    "    }"
   ]
  },
  {
   "cell_type": "markdown",
   "metadata": {},
   "source": [
    "## Subjectivity detection with a pre-trained model"
   ]
  },
  {
   "cell_type": "code",
   "execution_count": 5,
   "metadata": {},
   "outputs": [],
   "source": [
    "def classify_sentence(model, tokenizer, sentence):\n",
    "    # Set device (GPU if available, otherwise CPU)\n",
    "    device = \"cuda\" if torch.cuda.is_available() else \"cpu\"\n",
    "    model.to(device)\n",
    "    model.eval()\n",
    "    \n",
    "    # Measure inference time\n",
    "    start_time = time.time()\n",
    "    \n",
    "    # Tokenize input and move to device\n",
    "    inputs = tokenizer(sentence, return_tensors=\"pt\", truncation=True, padding=True).to(device)\n",
    "    \n",
    "    # Perform inference\n",
    "    with torch.inference_mode():\n",
    "        outputs = model(**inputs)\n",
    "    \n",
    "    # Get probabilities\n",
    "    probs = torch.nn.functional.softmax(outputs.logits, dim=-1)\n",
    "    \n",
    "    # Assuming: 0 = objective/fact, 1 = subjective/opinion\n",
    "    obj_score = probs[0][1].item()\n",
    "    subj_score = probs[0][0].item()\n",
    "    classification = \"fact\" if obj_score > subj_score else \"opinion\"\n",
    "    \n",
    "    end_time = time.time()\n",
    "    inference_time = end_time - start_time\n",
    "    \n",
    "    # Prepare results\n",
    "    result = {\n",
    "        \"sentence\": sentence,\n",
    "        \"objective_score\": obj_score,\n",
    "        \"subjective_score\": subj_score,\n",
    "        \"classification\": classification,\n",
    "        \"inference_time_seconds\": inference_time\n",
    "    }\n",
    "    \n",
    "    return result"
   ]
  },
  {
   "cell_type": "markdown",
   "metadata": {},
   "source": [
    "## Emotion classification with DistilBERT"
   ]
  },
  {
   "cell_type": "code",
   "execution_count": 6,
   "metadata": {},
   "outputs": [],
   "source": [
    "class EnhancedEmotionClassifier:\n",
    "    def __init__(self, model_name=\"joeddav/distilbert-base-uncased-go-emotions-student\"):\n",
    "        self.tokenizer = AutoTokenizer.from_pretrained(model_name)\n",
    "        self.model = AutoModelForSequenceClassification.from_pretrained(model_name)\n",
    "        self.model.eval()\n",
    "        \n",
    "        # GoEmotions labels with neutral\n",
    "        self.labels = [\n",
    "            \"admiration\", \"amusement\", \"anger\", \"annoyance\", \"approval\", \"caring\",\n",
    "            \"confusion\", \"curiosity\", \"desire\", \"disappointment\", \"disapproval\",\n",
    "            \"disgust\", \"embarrassment\", \"excitement\", \"fear\", \"gratitude\", \"grief\",\n",
    "            \"joy\", \"love\", \"nervousness\", \"neutral\", \"optimism\", \"pride\", \"realization\",\n",
    "            \"relief\", \"remorse\", \"sadness\", \"surprise\"\n",
    "        ]\n",
    "    \n",
    "    def classify(self, text):\n",
    "        # Tokenize and prepare input\n",
    "        inputs = self.tokenizer(text, return_tensors=\"pt\", padding=True, truncation=True)\n",
    "        \n",
    "        # Measure inference time\n",
    "        start_time = time.time()\n",
    "\n",
    "        # Perform inference\n",
    "        with torch.inference_mode():\n",
    "            outputs = self.model(**inputs)\n",
    "            \n",
    "        # Get predictions\n",
    "        scores = torch.sigmoid(outputs.logits)[0]  # Use sigmoid for multi-label\n",
    "        \n",
    "        # Get the highest-scoring emotion\n",
    "        top_score, top_index = torch.max(scores, dim=0)\n",
    "        top_emotion = self.labels[top_index.item()]\n",
    "        \n",
    "        return {\n",
    "            \"emotion\": top_emotion,\n",
    "            \"score\": top_score.item(),\n",
    "            \"inference_time_seconds\": time.time() - start_time\n",
    "        }"
   ]
  },
  {
   "cell_type": "markdown",
   "metadata": {},
   "source": [
    "## Sentence classification"
   ]
  },
  {
   "cell_type": "code",
   "execution_count": 9,
   "metadata": {},
   "outputs": [
    {
     "name": "stdout",
     "output_type": "stream",
     "text": [
      "Checking for grammar correction...\n",
      "Corrected sentence: I just finished reading the report. I am glad it contains the information we expected!\n",
      "Inference time: 2.144632 s\n",
      "\n",
      "Checking polarity...\n",
      "Polarity of the sentence: affirmation\n",
      "Inference time: 0.015109 s\n",
      "\n",
      "Checking subjectivity...\n",
      "Sentence subjectivity: opinion (Score: 0.997128)\n",
      "Inference time: 0.168141 s\n",
      "\n",
      "Checking emotions...\n",
      "Classified emotion: gratitude (Score: 0.914095)\n",
      "Inference time: 0.089006 s\n"
     ]
    }
   ],
   "source": [
    "# Preload models\n",
    "nlp = spacy.load(\"en_core_web_sm\")\n",
    "subjectivity_model_name = \"lighteternal/fact-or-opinion-xlmr-el\"\n",
    "subjectivity_tokenizer = AutoTokenizer.from_pretrained(subjectivity_model_name)\n",
    "subjectivity_model = AutoModelForSequenceClassification.from_pretrained(subjectivity_model_name)\n",
    "emotion_classifier = EnhancedEmotionClassifier()\n",
    "\n",
    "# Test sentence\n",
    "test_sentence = \"I just finishd read the report. I am glad it contens the information we expected!\"\n",
    "\n",
    "# Grammar correction\n",
    "print(\"Checking for grammar correction...\")\n",
    "corrector = OptimizedT5Corrector(debug=False)\n",
    "corrected = corrector.correct(test_sentence)\n",
    "print(f\"Corrected sentence: {corrected['corrected_sentence']}\")\n",
    "print(f\"Inference time: {corrected['inference_time_seconds']:.6f} s\")\n",
    "corrected = corrected['corrected_sentence']\n",
    "\n",
    "# Polarity analysis\n",
    "print(\"\\nChecking polarity...\")\n",
    "polarity = analyze_sentence_type(nlp, corrected)\n",
    "print(f\"Polarity of the sentence: {polarity['sentence_type']}\")\n",
    "print(f\"Inference time: {polarity['inference_time']:.6f} s\")\n",
    "\n",
    "# Subjectivity analysis\n",
    "print(\"\\nChecking subjectivity...\")\n",
    "subjectivity = classify_sentence(subjectivity_model, subjectivity_tokenizer, corrected)\n",
    "if subjectivity['classification'] == \"fact\": score = subjectivity['objective_score']\n",
    "else: score = subjectivity['subjective_score']\n",
    "print(f\"Sentence subjectivity: {subjectivity['classification']} (Score: {score:.6f})\")\n",
    "print(f\"Inference time: {subjectivity['inference_time_seconds']:.6f} s\")\n",
    "\n",
    "# Emotion analysis\n",
    "print(\"\\nChecking emotions...\")\n",
    "sentiment = emotion_classifier.classify(corrected)\n",
    "print(f\"Classified emotion: {sentiment['emotion']} (Score: {sentiment['score']:.6f})\")\n",
    "print(f\"Inference time: {sentiment['inference_time_seconds']:.6f} s\")"
   ]
  }
 ],
 "metadata": {
  "kernelspec": {
   "display_name": "miaa",
   "language": "python",
   "name": "python3"
  },
  "language_info": {
   "codemirror_mode": {
    "name": "ipython",
    "version": 3
   },
   "file_extension": ".py",
   "mimetype": "text/x-python",
   "name": "python",
   "nbconvert_exporter": "python",
   "pygments_lexer": "ipython3",
   "version": "3.10.14"
  }
 },
 "nbformat": 4,
 "nbformat_minor": 2
}
