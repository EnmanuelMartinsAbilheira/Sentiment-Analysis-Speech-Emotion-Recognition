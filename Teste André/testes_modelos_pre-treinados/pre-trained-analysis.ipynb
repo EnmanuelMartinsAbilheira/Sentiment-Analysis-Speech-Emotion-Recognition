{
 "cells": [
  {
   "cell_type": "markdown",
   "metadata": {},
   "source": []
  },
  {
   "cell_type": "code",
   "execution_count": 1,
   "metadata": {},
   "outputs": [
    {
     "name": "stderr",
     "output_type": "stream",
     "text": [
      "c:\\Users\\andre\\miniconda3\\envs\\miaa\\lib\\site-packages\\tqdm\\auto.py:21: TqdmWarning: IProgress not found. Please update jupyter and ipywidgets. See https://ipywidgets.readthedocs.io/en/stable/user_install.html\n",
      "  from .autonotebook import tqdm as notebook_tqdm\n"
     ]
    }
   ],
   "source": [
    "from transformers import AutoModelForSequenceClassification, AutoTokenizer\n",
    "from transformers import T5ForConditionalGeneration, T5Tokenizer\n",
    "from gramformer import Gramformer\n",
    "import torch\n",
    "import spacy\n",
    "import time"
   ]
  },
  {
   "cell_type": "markdown",
   "metadata": {},
   "source": [
    "## Ignore warnings"
   ]
  },
  {
   "cell_type": "code",
   "execution_count": 2,
   "metadata": {},
   "outputs": [],
   "source": [
    "import warnings\n",
    "warnings.filterwarnings(\"ignore\")"
   ]
  },
  {
   "cell_type": "markdown",
   "metadata": {},
   "source": [
    "## Optimized Gramformer for sentence correction"
   ]
  },
  {
   "cell_type": "code",
   "execution_count": 3,
   "metadata": {},
   "outputs": [],
   "source": [
    "class OptimizedT5Corrector:\n",
    "    def __init__(self, debug=True):\n",
    "        # Load model and tokenizer directly\n",
    "        self.model_name = \"prithivida/grammar_error_correcter_v1\"\n",
    "        self.tokenizer = T5Tokenizer.from_pretrained(self.model_name)\n",
    "        self.model = T5ForConditionalGeneration.from_pretrained(self.model_name)\n",
    "        \n",
    "        # Optimize model for inference\n",
    "        self.model.eval()\n",
    "        \n",
    "        # Use torch.compile for PyTorch 2.0+ (significant speedup)\n",
    "        if hasattr(torch, 'compile'):\n",
    "            try:\n",
    "                self.model = torch.compile(self.model)\n",
    "                if debug: print(\"Successfully applied torch.compile optimization\")\n",
    "            except Exception as e:\n",
    "                if debug: print(f\"Could not apply torch.compile: {e}\")\n",
    "        \n",
    "        # Optimize memory usage\n",
    "        self.model.config.use_cache = True\n",
    "        \n",
    "    def correct(self, sentence, max_length=128):\n",
    "        # Apply inference optimizations\n",
    "        with torch.inference_mode():\n",
    "            # Prepare input - the \"gec:\" prefix is important for the model\n",
    "            input_text = f\"gec: {sentence}\"\n",
    "            input_ids = self.tokenizer(input_text, return_tensors=\"pt\").input_ids\n",
    "            \n",
    "            # Optimize generation parameters for speed\n",
    "            outputs = self.model.generate(\n",
    "                input_ids=input_ids,\n",
    "                max_length=max_length,\n",
    "                num_beams=2,  #2 # Reduced from 5 for speed\n",
    "                early_stopping=True,\n",
    "                use_cache=True  # Enable KV caching for faster generation\n",
    "            )\n",
    "            \n",
    "            # Decode output\n",
    "            return self.tokenizer.decode(outputs[0], skip_special_tokens=True)"
   ]
  },
  {
   "cell_type": "markdown",
   "metadata": {},
   "source": [
    "## Polarity detection with Spacy"
   ]
  },
  {
   "cell_type": "code",
   "execution_count": 4,
   "metadata": {},
   "outputs": [],
   "source": [
    "def analyze_sentence_type(nlp, text):\n",
    "    # Measure inference time\n",
    "    start_time = time.time()\n",
    "\n",
    "    # Parse the sentence using spaCy\n",
    "    doc = nlp(text)\n",
    "\n",
    "    # Check for negation by looking for the 'neg' dependency tag\n",
    "    has_negation = any(token.dep_ == \"neg\" for token in doc)\n",
    "    \n",
    "    # Determine sentence type\n",
    "    sentence_type = \"negation\" if has_negation else \"affirmation\"\n",
    "\n",
    "    end_time = time.time()\n",
    "    inference_time = end_time - start_time\n",
    "    \n",
    "    return {\n",
    "        'sentence': text,\n",
    "        'sentence_type': sentence_type,\n",
    "        'inference_time': inference_time\n",
    "    }"
   ]
  },
  {
   "cell_type": "markdown",
   "metadata": {},
   "source": [
    "## Subjectivity detection with a pre-trained model"
   ]
  },
  {
   "cell_type": "code",
   "execution_count": 5,
   "metadata": {},
   "outputs": [],
   "source": [
    "def classify_sentence(model_name, sentence):\n",
    "    # Set device (GPU if available, otherwise CPU)\n",
    "    device = \"cuda\" if torch.cuda.is_available() else \"cpu\"\n",
    "    \n",
    "    # Load tokenizer and model\n",
    "    #model_name = \"lighteternal/fact-or-opinion-xlmr-el\"\n",
    "    tokenizer = AutoTokenizer.from_pretrained(model_name)\n",
    "    model = AutoModelForSequenceClassification.from_pretrained(model_name)\n",
    "    model.to(device)\n",
    "    model.eval()\n",
    "    \n",
    "    # Measure inference time\n",
    "    start_time = time.time()\n",
    "    \n",
    "    # Tokenize input and move to device\n",
    "    inputs = tokenizer(sentence, return_tensors=\"pt\", truncation=True, padding=True).to(device)\n",
    "    \n",
    "    # Perform inference\n",
    "    with torch.no_grad():\n",
    "        outputs = model(**inputs)\n",
    "    \n",
    "    # Get probabilities\n",
    "    probs = torch.nn.functional.softmax(outputs.logits, dim=-1)\n",
    "    \n",
    "    # Assuming: 0 = objective/fact, 1 = subjective/opinion\n",
    "    obj_score = probs[0][1].item()\n",
    "    subj_score = probs[0][0].item()\n",
    "    classification = \"fact\" if obj_score > subj_score else \"opinion\"\n",
    "    \n",
    "    end_time = time.time()\n",
    "    inference_time = end_time - start_time\n",
    "    \n",
    "    # Prepare results\n",
    "    result = {\n",
    "        \"sentence\": sentence,\n",
    "        \"objective_score\": obj_score,\n",
    "        \"subjective_score\": subj_score,\n",
    "        \"classification\": classification,\n",
    "        \"inference_time_seconds\": inference_time\n",
    "    }\n",
    "    \n",
    "    return result"
   ]
  },
  {
   "cell_type": "markdown",
   "metadata": {},
   "source": [
    "## Emotion classification with DistilBERT"
   ]
  },
  {
   "cell_type": "code",
   "execution_count": 6,
   "metadata": {},
   "outputs": [],
   "source": [
    "class EnhancedEmotionClassifier:\n",
    "    def __init__(self, model_name=\"joeddav/distilbert-base-uncased-go-emotions-student\"):\n",
    "        self.tokenizer = AutoTokenizer.from_pretrained(model_name)\n",
    "        self.model = AutoModelForSequenceClassification.from_pretrained(model_name)\n",
    "        self.model.eval()\n",
    "        \n",
    "        # GoEmotions labels with neutral\n",
    "        self.labels = [\n",
    "            \"admiration\", \"amusement\", \"anger\", \"annoyance\", \"approval\", \"caring\",\n",
    "            \"confusion\", \"curiosity\", \"desire\", \"disappointment\", \"disapproval\",\n",
    "            \"disgust\", \"embarrassment\", \"excitement\", \"fear\", \"gratitude\", \"grief\",\n",
    "            \"joy\", \"love\", \"nervousness\", \"neutral\", \"optimism\", \"pride\", \"realization\",\n",
    "            \"relief\", \"remorse\", \"sadness\", \"surprise\"\n",
    "        ]\n",
    "    \n",
    "    def classify(self, text, top_k=3):\n",
    "        # Tokenize and prepare input\n",
    "        inputs = self.tokenizer(text, return_tensors=\"pt\", padding=True, truncation=True)\n",
    "        \n",
    "        # Perform inference\n",
    "        with torch.inference_mode():\n",
    "            outputs = self.model(**inputs)\n",
    "            \n",
    "        # Get predictions\n",
    "        scores = torch.sigmoid(outputs.logits)[0]  # Use sigmoid for multi-label\n",
    "        \n",
    "        # Get top-k emotions\n",
    "        top_scores, top_indices = torch.topk(scores, top_k)\n",
    "        \n",
    "        # Format results\n",
    "        top_emotions = [\n",
    "            {\"emotion\": self.labels[idx], \"score\": score.item()}\n",
    "            for score, idx in zip(top_scores, top_indices)\n",
    "        ]\n",
    "        \n",
    "        # Also include if neutral is detected\n",
    "        if \"neutral\" not in [e[\"emotion\"] for e in top_emotions]:\n",
    "            neutral_idx = self.labels.index(\"neutral\")\n",
    "            neutral_score = scores[neutral_idx].item()\n",
    "            if neutral_score > 0.3:  # Threshold can be adjusted\n",
    "                top_emotions.append({\"emotion\": \"neutral\", \"score\": neutral_score})\n",
    "        \n",
    "        return top_emotions"
   ]
  },
  {
   "cell_type": "markdown",
   "metadata": {},
   "source": [
    "## Sentence classification"
   ]
  },
  {
   "cell_type": "code",
   "execution_count": 7,
   "metadata": {},
   "outputs": [
    {
     "name": "stdout",
     "output_type": "stream",
     "text": [
      "Checking for grammar correction...\n"
     ]
    },
    {
     "name": "stderr",
     "output_type": "stream",
     "text": [
      "You are using the default legacy behaviour of the <class 'transformers.models.t5.tokenization_t5.T5Tokenizer'>. This is expected, and simply means that the `legacy` (previous) behavior will be used so nothing changes for you. If you want to use the new behaviour, set `legacy=False`. This should only be set if you understand what it means, and thoroughly read the reason why this was added as explained in https://github.com/huggingface/transformers/pull/24565\n"
     ]
    },
    {
     "name": "stdout",
     "output_type": "stream",
     "text": [
      "Corrected sentence: I just finished reading the report. I am glad it contains the information we expected!\n",
      "\n",
      "Checking polarity...\n",
      "Polarity of the sentence: affirmation\n",
      "Inference time: 0.012177705764770508 s\n",
      "\n",
      "Chacking subjectivity...\n",
      "Sentence subjectivity: opinion\n",
      "Inference time: 0.17078065872192383 s\n",
      "\n",
      "Checking emotions...\n",
      "Classified emotion: [{'emotion': 'gratitude', 'score': 0.9140950441360474}, {'emotion': 'realization', 'score': 0.7886174917221069}, {'emotion': 'caring', 'score': 0.7577161192893982}, {'emotion': 'neutral', 'score': 0.5822216868400574}]\n"
     ]
    }
   ],
   "source": [
    "test_sentence = \"I just finishd read the report. I am glad it contens the information we expected!\"\n",
    "\n",
    "print(\"Checking for grammar correction...\")\n",
    "corrector = OptimizedT5Corrector(debug=False)\n",
    "corrected = corrector.correct(test_sentence)\n",
    "print(f\"Corrected sentence: {corrected}\")\n",
    "\n",
    "\n",
    "print(\"\\nChecking polarity...\")\n",
    "model_name = \"en_core_web_sm\"\n",
    "model = spacy.load(model_name)\n",
    "polarity = analyze_sentence_type(model, corrected)\n",
    "print(f\"Polarity of the sentence: {polarity['sentence_type']}\")\n",
    "print(f\"Inference time: {polarity['inference_time']} s\")\n",
    "\n",
    "\n",
    "print(\"\\nChacking subjectivity...\")\n",
    "model_name = \"lighteternal/fact-or-opinion-xlmr-el\"\n",
    "subjectivity = classify_sentence(model_name, corrected)\n",
    "print(f\"Sentence subjectivity: {subjectivity['classification']}\")\n",
    "print(f\"Inference time: {subjectivity['inference_time_seconds']} s\")\n",
    "\n",
    "\n",
    "print(\"\\nChecking emotions...\")\n",
    "classifier = EnhancedEmotionClassifier()\n",
    "sentiment = classifier.classify(corrected)\n",
    "print(f\"Classified emotion: {sentiment}\")\n"
   ]
  }
 ],
 "metadata": {
  "kernelspec": {
   "display_name": "miaa",
   "language": "python",
   "name": "python3"
  },
  "language_info": {
   "codemirror_mode": {
    "name": "ipython",
    "version": 3
   },
   "file_extension": ".py",
   "mimetype": "text/x-python",
   "name": "python",
   "nbconvert_exporter": "python",
   "pygments_lexer": "ipython3",
   "version": "3.10.14"
  }
 },
 "nbformat": 4,
 "nbformat_minor": 2
}
