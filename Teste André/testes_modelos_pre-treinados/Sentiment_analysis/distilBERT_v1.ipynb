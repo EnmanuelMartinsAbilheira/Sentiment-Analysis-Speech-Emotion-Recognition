{
 "cells": [
  {
   "cell_type": "markdown",
   "metadata": {},
   "source": []
  },
  {
   "cell_type": "code",
   "execution_count": 3,
   "metadata": {},
   "outputs": [
    {
     "name": "stdout",
     "output_type": "stream",
     "text": [
      "Sentence: 'He have been working on this project for three year.'\n",
      "Emotion: joy (confidence: 0.5305)\n",
      "All emotions: {'sadness': 0.015558494254946709, 'joy': 0.5305135250091553, 'love': 0.0036071939393877983, 'anger': 0.2742093503475189, 'fear': 0.17232690751552582, 'surprise': 0.0037843899335712194}\n",
      "\n",
      "Sentence: 'I'm so happy about this new opportunity!'\n",
      "Emotion: joy (confidence: 0.9987)\n",
      "All emotions: {'sadness': 0.0003589358530007303, 'joy': 0.9987414479255676, 'love': 0.00038312148535624146, 'anger': 0.00022281201381701976, 'fear': 0.0001380163594149053, 'surprise': 0.0001556968636577949}\n",
      "\n",
      "Sentence: 'I'm really disappointed with the service we received.'\n",
      "Emotion: sadness (confidence: 0.9975)\n",
      "All emotions: {'sadness': 0.9974863529205322, 'joy': 0.0003157694300170988, 'love': 0.00019920531485695392, 'anger': 0.0017062496626749635, 'fear': 0.00014795355673413724, 'surprise': 0.0001444307272322476}\n",
      "\n",
      "Sentence: 'That movie was so terrifying, I couldn't sleep.'\n",
      "Emotion: fear (confidence: 0.9328)\n",
      "All emotions: {'sadness': 0.001865340513177216, 'joy': 0.007038298528641462, 'love': 0.0009178752661682665, 'anger': 0.047792673110961914, 'fear': 0.9327726364135742, 'surprise': 0.009613188914954662}\n",
      "\n",
      "Total time for 4 sentences: 0.2300 seconds\n"
     ]
    }
   ],
   "source": [
    "from transformers import AutoModelForSequenceClassification, AutoTokenizer\n",
    "import torch\n",
    "import time\n",
    "\n",
    "class EmotionClassifier:\n",
    "    def __init__(self, model_name=\"bhadresh-savani/distilbert-base-uncased-emotion\"):\n",
    "        self.tokenizer = AutoTokenizer.from_pretrained(model_name)\n",
    "        self.model = AutoModelForSequenceClassification.from_pretrained(model_name)\n",
    "        self.model.eval()\n",
    "        \n",
    "        # Map ID to emotion label\n",
    "        self.id2label = {\n",
    "            0: \"sadness\",\n",
    "            1: \"joy\", \n",
    "            2: \"love\", \n",
    "            3: \"anger\", \n",
    "            4: \"fear\", \n",
    "            5: \"surprise\"\n",
    "        }\n",
    "    \n",
    "    def classify(self, text):\n",
    "        # Tokenize and prepare input\n",
    "        inputs = self.tokenizer(text, return_tensors=\"pt\", padding=True, truncation=True)\n",
    "        \n",
    "        # Perform inference\n",
    "        with torch.inference_mode():\n",
    "            outputs = self.model(**inputs)\n",
    "            \n",
    "        # Get predictions\n",
    "        scores = torch.nn.functional.softmax(outputs.logits, dim=1)\n",
    "        predictions = torch.argmax(scores, dim=1)\n",
    "        \n",
    "        # Map to emotion labels\n",
    "        emotion = self.id2label[predictions.item()]\n",
    "        confidence = scores[0][predictions.item()].item()\n",
    "        \n",
    "        return {\n",
    "            \"emotion\": emotion,\n",
    "            \"confidence\": confidence,\n",
    "            \"all_scores\": {self.id2label[i]: score.item() for i, score in enumerate(scores[0])}\n",
    "        }\n",
    "\n",
    "# Test the classifier\n",
    "classifier = EmotionClassifier()\n",
    "\n",
    "# Example sentences\n",
    "test_sentences = [\n",
    "    \"He have been working on this project for three year.\",\n",
    "    \"I'm so happy about this new opportunity!\",\n",
    "    \"I'm really disappointed with the service we received.\",\n",
    "    \"That movie was so terrifying, I couldn't sleep.\"\n",
    "]\n",
    "\n",
    "# Test performance\n",
    "start_time = time.time()\n",
    "for sentence in test_sentences:\n",
    "    result = classifier.classify(sentence)\n",
    "    print(f\"Sentence: '{sentence}'\")\n",
    "    print(f\"Emotion: {result['emotion']} (confidence: {result['confidence']:.4f})\")\n",
    "    print(f\"All emotions: {result['all_scores']}\")\n",
    "    print()\n",
    "\n",
    "print(f\"Total time for {len(test_sentences)} sentences: {time.time() - start_time:.4f} seconds\")"
   ]
  }
 ],
 "metadata": {
  "kernelspec": {
   "display_name": "miaa",
   "language": "python",
   "name": "python3"
  },
  "language_info": {
   "codemirror_mode": {
    "name": "ipython",
    "version": 3
   },
   "file_extension": ".py",
   "mimetype": "text/x-python",
   "name": "python",
   "nbconvert_exporter": "python",
   "pygments_lexer": "ipython3",
   "version": "3.10.14"
  }
 },
 "nbformat": 4,
 "nbformat_minor": 2
}
