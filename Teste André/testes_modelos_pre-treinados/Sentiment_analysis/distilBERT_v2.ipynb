{
 "cells": [
  {
   "cell_type": "markdown",
   "metadata": {},
   "source": [
    "DistilBERT model based on the Transformer BERT resulting from Knowledge distilation, being 40% smaller, 60% faster and retaining 95% accuracy.\n",
    "\n",
    "This particular one is trained on the GoEmotions dataset which has 27 emotions!"
   ]
  },
  {
   "cell_type": "code",
   "execution_count": 3,
   "metadata": {},
   "outputs": [
    {
     "name": "stdout",
     "output_type": "stream",
     "text": [
      "Sentence: 'I'm so happy about this new opportunity!'\n",
      "Top emotions: [{'emotion': 'excitement', 'score': 0.9490593075752258}, {'emotion': 'neutral', 'score': 0.9358248114585876}, {'emotion': 'joy', 'score': 0.9042986631393433}]\n",
      "\n",
      "Sentence: 'I'm really disappointed with the service we received.'\n",
      "Top emotions: [{'emotion': 'disappointment', 'score': 0.9518792033195496}, {'emotion': 'disapproval', 'score': 0.9202450513839722}, {'emotion': 'remorse', 'score': 0.8954749703407288}]\n",
      "\n",
      "Sentence: 'That movie was so terrifying, I couldn't sleep.'\n",
      "Top emotions: [{'emotion': 'fear', 'score': 0.934294581413269}, {'emotion': 'nervousness', 'score': 0.8598796725273132}, {'emotion': 'disgust', 'score': 0.8301916122436523}]\n",
      "\n",
      "Sentence: 'I just finished reading the report. It contains the information we expected.'\n",
      "Top emotions: [{'emotion': 'pride', 'score': 0.8560605049133301}, {'emotion': 'caring', 'score': 0.7650259137153625}, {'emotion': 'approval', 'score': 0.6689854860305786}, {'emotion': 'neutral', 'score': 0.4280828833580017}]\n",
      "\n",
      "Sentence: 'The weather is cloudy today.'\n",
      "Top emotions: [{'emotion': 'curiosity', 'score': 0.7179771065711975}, {'emotion': 'approval', 'score': 0.708489179611206}, {'emotion': 'pride', 'score': 0.6981508731842041}, {'emotion': 'neutral', 'score': 0.44064444303512573}]\n",
      "\n",
      "Sentence: 'He have been working on this project for three year.'\n",
      "Top emotions: [{'emotion': 'caring', 'score': 0.7912732362747192}, {'emotion': 'curiosity', 'score': 0.7328673005104065}, {'emotion': 'pride', 'score': 0.6851685047149658}, {'emotion': 'neutral', 'score': 0.5266311168670654}]\n",
      "\n",
      "Total time for 6 sentences: 0.4020 seconds\n"
     ]
    }
   ],
   "source": [
    "from transformers import AutoModelForSequenceClassification, AutoTokenizer\n",
    "import torch\n",
    "import time\n",
    "\n",
    "class EnhancedEmotionClassifier:\n",
    "    def __init__(self, model_name=\"joeddav/distilbert-base-uncased-go-emotions-student\"):\n",
    "        self.tokenizer = AutoTokenizer.from_pretrained(model_name)\n",
    "        self.model = AutoModelForSequenceClassification.from_pretrained(model_name)\n",
    "        self.model.eval()\n",
    "        \n",
    "        # GoEmotions labels with neutral\n",
    "        self.labels = [\n",
    "            \"admiration\", \"amusement\", \"anger\", \"annoyance\", \"approval\", \"caring\",\n",
    "            \"confusion\", \"curiosity\", \"desire\", \"disappointment\", \"disapproval\",\n",
    "            \"disgust\", \"embarrassment\", \"excitement\", \"fear\", \"gratitude\", \"grief\",\n",
    "            \"joy\", \"love\", \"nervousness\", \"neutral\", \"optimism\", \"pride\", \"realization\",\n",
    "            \"relief\", \"remorse\", \"sadness\", \"surprise\"\n",
    "        ]\n",
    "    \n",
    "    def classify(self, text, top_k=3):\n",
    "        # Tokenize and prepare input\n",
    "        inputs = self.tokenizer(text, return_tensors=\"pt\", padding=True, truncation=True)\n",
    "        \n",
    "        # Perform inference\n",
    "        with torch.inference_mode():\n",
    "            outputs = self.model(**inputs)\n",
    "            \n",
    "        # Get predictions\n",
    "        scores = torch.sigmoid(outputs.logits)[0]  # Use sigmoid for multi-label\n",
    "        \n",
    "        # Get top-k emotions\n",
    "        top_scores, top_indices = torch.topk(scores, top_k)\n",
    "        \n",
    "        # Format results\n",
    "        top_emotions = [\n",
    "            {\"emotion\": self.labels[idx], \"score\": score.item()}\n",
    "            for score, idx in zip(top_scores, top_indices)\n",
    "        ]\n",
    "        \n",
    "        # Also include if neutral is detected\n",
    "        if \"neutral\" not in [e[\"emotion\"] for e in top_emotions]:\n",
    "            neutral_idx = self.labels.index(\"neutral\")\n",
    "            neutral_score = scores[neutral_idx].item()\n",
    "            if neutral_score > 0.3:  # Threshold can be adjusted\n",
    "                top_emotions.append({\"emotion\": \"neutral\", \"score\": neutral_score})\n",
    "        \n",
    "        return top_emotions\n",
    "\n",
    "# Test the classifier\n",
    "classifier = EnhancedEmotionClassifier()\n",
    "\n",
    "# Example sentences\n",
    "test_sentences = [\n",
    "    \"I'm so happy about this new opportunity!\",\n",
    "    \"I'm really disappointed with the service we received.\",\n",
    "    \"That movie was so terrifying, I couldn't sleep.\",\n",
    "    \"I just finished reading the report. It contains the information we expected.\",  # Neutral\n",
    "    \"The weather is cloudy today.\",  # More neutral\n",
    "    \"He have been working on this project for three year.\"\n",
    "]\n",
    "\n",
    "# Test performance\n",
    "start_time = time.time()\n",
    "for sentence in test_sentences:\n",
    "    result = classifier.classify(sentence)\n",
    "    print(f\"Sentence: '{sentence}'\")\n",
    "    print(f\"Top emotions: {result}\")\n",
    "    print()\n",
    "\n",
    "print(f\"Total time for {len(test_sentences)} sentences: {time.time() - start_time:.4f} seconds\")"
   ]
  }
 ],
 "metadata": {
  "kernelspec": {
   "display_name": "miaa",
   "language": "python",
   "name": "python3"
  },
  "language_info": {
   "codemirror_mode": {
    "name": "ipython",
    "version": 3
   },
   "file_extension": ".py",
   "mimetype": "text/x-python",
   "name": "python",
   "nbconvert_exporter": "python",
   "pygments_lexer": "ipython3",
   "version": "3.10.14"
  }
 },
 "nbformat": 4,
 "nbformat_minor": 2
}
