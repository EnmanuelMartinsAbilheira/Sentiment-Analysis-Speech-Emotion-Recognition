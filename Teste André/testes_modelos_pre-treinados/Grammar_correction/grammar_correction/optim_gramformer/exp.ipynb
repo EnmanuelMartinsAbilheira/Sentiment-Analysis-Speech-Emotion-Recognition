{
 "cells": [
  {
   "cell_type": "markdown",
   "metadata": {},
   "source": [
    "The objective of this code was actually to see the attributes of the gramformer object."
   ]
  },
  {
   "cell_type": "code",
   "execution_count": 8,
   "metadata": {},
   "outputs": [
    {
     "name": "stderr",
     "output_type": "stream",
     "text": [
      "c:\\Users\\andre\\miniconda3\\envs\\miaa\\lib\\site-packages\\transformers\\models\\auto\\tokenization_auto.py:833: FutureWarning: The `use_auth_token` argument is deprecated and will be removed in v5 of Transformers. Please use `token` instead.\n",
      "  warnings.warn(\n",
      "c:\\Users\\andre\\miniconda3\\envs\\miaa\\lib\\site-packages\\transformers\\models\\auto\\auto_factory.py:471: FutureWarning: The `use_auth_token` argument is deprecated and will be removed in v5 of Transformers. Please use `token` instead.\n",
      "  warnings.warn(\n"
     ]
    },
    {
     "name": "stdout",
     "output_type": "stream",
     "text": [
      "[Gramformer] Grammar error correct/highlight model loaded..\n",
      "Gramformer object attributes: ['__class__', '__delattr__', '__dict__', '__dir__', '__doc__', '__eq__', '__format__', '__ge__', '__getattribute__', '__gt__', '__hash__', '__init__', '__init_subclass__', '__le__', '__lt__', '__module__', '__ne__', '__new__', '__reduce__', '__reduce_ex__', '__repr__', '__setattr__', '__sizeof__', '__str__', '__subclasshook__', '__weakref__', '_get_edits', 'annotator', 'correct', 'correction_model', 'correction_tokenizer', 'detect', 'device', 'get_edits', 'highlight', 'model_loaded']\n",
      "\n",
      "Models attribute type: <class 'bool'>\n",
      "\n",
      "Model keys: Not a dictionary\n"
     ]
    },
    {
     "ename": "TypeError",
     "evalue": "'bool' object is not iterable",
     "output_type": "error",
     "traceback": [
      "\u001b[1;31m---------------------------------------------------------------------------\u001b[0m",
      "\u001b[1;31mTypeError\u001b[0m                                 Traceback (most recent call last)",
      "Cell \u001b[1;32mIn[8], line 15\u001b[0m\n\u001b[0;32m     13\u001b[0m \u001b[38;5;66;03m# Check the model architecture\u001b[39;00m\n\u001b[0;32m     14\u001b[0m \u001b[38;5;28;01mif\u001b[39;00m \u001b[38;5;28mhasattr\u001b[39m(gf, \u001b[38;5;124m'\u001b[39m\u001b[38;5;124mmodel_loaded\u001b[39m\u001b[38;5;124m'\u001b[39m):\n\u001b[1;32m---> 15\u001b[0m     \u001b[38;5;28;01mfor\u001b[39;00m key \u001b[38;5;129;01min\u001b[39;00m gf\u001b[38;5;241m.\u001b[39mmodel_loaded:\n\u001b[0;32m     16\u001b[0m         \u001b[38;5;28mprint\u001b[39m(\u001b[38;5;124mf\u001b[39m\u001b[38;5;124m\"\u001b[39m\u001b[38;5;130;01m\\n\u001b[39;00m\u001b[38;5;124mModel \u001b[39m\u001b[38;5;124m'\u001b[39m\u001b[38;5;132;01m{\u001b[39;00mkey\u001b[38;5;132;01m}\u001b[39;00m\u001b[38;5;124m'\u001b[39m\u001b[38;5;124m type:\u001b[39m\u001b[38;5;124m\"\u001b[39m, \u001b[38;5;28mtype\u001b[39m(gf\u001b[38;5;241m.\u001b[39mmodel_loaded[key]))\n\u001b[0;32m     18\u001b[0m \u001b[38;5;66;03m# Test basic performance\u001b[39;00m\n",
      "\u001b[1;31mTypeError\u001b[0m: 'bool' object is not iterable"
     ]
    }
   ],
   "source": [
    "from gramformer import Gramformer\n",
    "import torch\n",
    "import time\n",
    "\n",
    "# Initialize Gramformer\n",
    "gf = Gramformer(models=1, use_gpu=False)\n",
    "\n",
    "# Print information about the internal structure\n",
    "print(\"Gramformer object attributes:\", dir(gf))\n",
    "print(\"\\nModels attribute type:\", type(gf.model_loaded))\n",
    "print(\"\\nModel keys:\", gf.model_loaded.keys() if hasattr(gf.model_loaded, 'keys') else \"Not a dictionary\")\n",
    "\n",
    "# Check the model architecture\n",
    "if hasattr(gf, 'model_loaded'):\n",
    "    for key in gf.model_loaded:\n",
    "        print(f\"\\nModel '{key}' type:\", type(gf.model_loaded[key]))\n",
    "        \n",
    "# Test basic performance\n",
    "incorrect = \"He have been working on this project for three year.\"\n",
    "\n",
    "# Time the correction\n",
    "start_time = time.time()\n",
    "corrected = list(gf.correct(incorrect, max_candidates=1))[0]\n",
    "elapsed = time.time() - start_time\n",
    "\n",
    "print(f\"\\nCorrected: {corrected}\")\n",
    "print(f\"Time taken: {elapsed:.4f} seconds\")"
   ]
  }
 ],
 "metadata": {
  "kernelspec": {
   "display_name": "miaa",
   "language": "python",
   "name": "python3"
  },
  "language_info": {
   "codemirror_mode": {
    "name": "ipython",
    "version": 3
   },
   "file_extension": ".py",
   "mimetype": "text/x-python",
   "name": "python",
   "nbconvert_exporter": "python",
   "pygments_lexer": "ipython3",
   "version": "3.10.14"
  }
 },
 "nbformat": 4,
 "nbformat_minor": 2
}
