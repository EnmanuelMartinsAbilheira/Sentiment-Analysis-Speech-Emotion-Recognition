{
 "cells": [
  {
   "cell_type": "markdown",
   "metadata": {},
   "source": [
    "In this script we try to optimize the T5 transformer which is directly behind the gramformer. Results seem to be worse."
   ]
  },
  {
   "cell_type": "code",
   "execution_count": 3,
   "metadata": {},
   "outputs": [
    {
     "name": "stdout",
     "output_type": "stream",
     "text": [
      "Custom implementation: 3.9616 seconds\n",
      "Corrected: He has been working on this project for three years.\n",
      "[Gramformer] Grammar error correct/highlight model loaded..\n",
      "\n",
      "Original Gramformer: 4.8940 seconds\n",
      "Corrected: He has been working on this project for three years.\n",
      "\n",
      "Speedup: 1.24x\n"
     ]
    }
   ],
   "source": [
    "import torch\n",
    "from transformers import T5ForConditionalGeneration, T5Tokenizer\n",
    "import time\n",
    "from gramformer import Gramformer\n",
    "\n",
    "class OptimizedGrammarCorrector:\n",
    "    def __init__(self):\n",
    "        # Load model and tokenizer directly\n",
    "        self.model_name = \"prithivida/grammar_error_correcter_v1\"\n",
    "        self.tokenizer = T5Tokenizer.from_pretrained(self.model_name)\n",
    "        self.model = T5ForConditionalGeneration.from_pretrained(self.model_name)\n",
    "        \n",
    "        # Optimize model for inference\n",
    "        self.model.eval()\n",
    "        \n",
    "    def correct(self, sentence, max_length=128):\n",
    "        # Directly process the input\n",
    "        with torch.inference_mode():\n",
    "            input_ids = self.tokenizer(f\"gec: {sentence}\", \n",
    "                                     return_tensors=\"pt\", \n",
    "                                     padding=True).input_ids\n",
    "            \n",
    "            # Generate output ids\n",
    "            outputs = self.model.generate(\n",
    "                input_ids=input_ids,\n",
    "                max_length=max_length,\n",
    "                num_beams=5,\n",
    "                early_stopping=True\n",
    "            )\n",
    "            \n",
    "            # Decode and return\n",
    "            return self.tokenizer.decode(outputs[0], skip_special_tokens=True)\n",
    "\n",
    "# Test function\n",
    "def test_custom_corrector():\n",
    "    incorrect = \"He have been working on this project for three year.\"\n",
    "    \n",
    "    # Initialize and time our custom corrector\n",
    "    start_time = time.time()\n",
    "    corrector = OptimizedGrammarCorrector()\n",
    "    corrected = corrector.correct(incorrect)\n",
    "    custom_time = time.time() - start_time\n",
    "    \n",
    "    print(f\"Custom implementation: {custom_time:.4f} seconds\")\n",
    "    print(f\"Corrected: {corrected}\")\n",
    "    \n",
    "    # Compare with original Gramformer\n",
    "    start_time = time.time()\n",
    "    gf = Gramformer(models=1, use_gpu=False)\n",
    "    original_corrected = list(gf.correct(incorrect, max_candidates=1))[0]\n",
    "    gramformer_time = time.time() - start_time\n",
    "    \n",
    "    print(f\"\\nOriginal Gramformer: {gramformer_time:.4f} seconds\")\n",
    "    print(f\"Corrected: {original_corrected}\")\n",
    "    \n",
    "    # Calculate speedup\n",
    "    if custom_time > 0:\n",
    "        speedup = gramformer_time / custom_time\n",
    "        print(f\"\\nSpeedup: {speedup:.2f}x\")\n",
    "\n",
    "# Run the test\n",
    "test_custom_corrector()"
   ]
  }
 ],
 "metadata": {
  "kernelspec": {
   "display_name": "miaa",
   "language": "python",
   "name": "python3"
  },
  "language_info": {
   "codemirror_mode": {
    "name": "ipython",
    "version": 3
   },
   "file_extension": ".py",
   "mimetype": "text/x-python",
   "name": "python",
   "nbconvert_exporter": "python",
   "pygments_lexer": "ipython3",
   "version": "3.10.14"
  }
 },
 "nbformat": 4,
 "nbformat_minor": 2
}
