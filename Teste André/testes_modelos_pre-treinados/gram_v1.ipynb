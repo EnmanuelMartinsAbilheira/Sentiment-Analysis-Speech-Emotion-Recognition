{
 "cells": [
  {
   "cell_type": "markdown",
   "metadata": {},
   "source": []
  },
  {
   "cell_type": "code",
   "execution_count": 2,
   "metadata": {},
   "outputs": [
    {
     "name": "stdout",
     "output_type": "stream",
     "text": [
      "Original sentence: He have been working on this project for three year.\n",
      "[Gramformer] Grammar error correct/highlight model loaded..\n",
      "Corrected sentence: He has been working on this project for three years.\n"
     ]
    }
   ],
   "source": [
    "# Install required packages\n",
    "# pip install transformers\n",
    "# pip install torch\n",
    "# pip install gramformer\n",
    "\n",
    "import warnings\n",
    "warnings.filterwarnings(\"ignore\")\n",
    "\n",
    "from gramformer import Gramformer\n",
    "import torch\n",
    "\n",
    "def correct_grammar(sentence):\n",
    "    # Set use_gpu=True if you have a GPU with CUDA support\n",
    "    gf = Gramformer(models=1, use_gpu=False)  \n",
    "    \n",
    "    # Get correction for the sentence\n",
    "    corrected_sentences = gf.correct(sentence, max_candidates=1)\n",
    "    \n",
    "    # Return the first correction\n",
    "    for corrected_sentence in corrected_sentences:\n",
    "        return corrected_sentence\n",
    "    \n",
    "    # If no corrections found, return the original sentence\n",
    "    return sentence\n",
    "\n",
    "# Hardcoded sentence with grammar errors\n",
    "incorrect_sentence = \"He have been working on this project for three year.\"\n",
    "\n",
    "# Print the original sentence\n",
    "print(\"Original sentence:\", incorrect_sentence)\n",
    "\n",
    "# Correct the grammar and print the result\n",
    "corrected_sentence = correct_grammar(incorrect_sentence)\n",
    "print(\"Corrected sentence:\", corrected_sentence)"
   ]
  }
 ],
 "metadata": {
  "kernelspec": {
   "display_name": "miaa",
   "language": "python",
   "name": "python3"
  },
  "language_info": {
   "codemirror_mode": {
    "name": "ipython",
    "version": 3
   },
   "file_extension": ".py",
   "mimetype": "text/x-python",
   "name": "python",
   "nbconvert_exporter": "python",
   "pygments_lexer": "ipython3",
   "version": "3.10.14"
  }
 },
 "nbformat": 4,
 "nbformat_minor": 2
}
