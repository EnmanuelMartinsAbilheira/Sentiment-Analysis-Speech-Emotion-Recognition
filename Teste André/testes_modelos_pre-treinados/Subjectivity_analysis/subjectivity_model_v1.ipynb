{
 "cells": [
  {
   "cell_type": "markdown",
   "metadata": {},
   "source": [
    "lighteternal/fact-or-opinion-xlmr-el"
   ]
  },
  {
   "cell_type": "code",
   "execution_count": 3,
   "metadata": {},
   "outputs": [
    {
     "name": "stdout",
     "output_type": "stream",
     "text": [
      "Loading model: lighteternal/fact-or-opinion-xlmr-el on cpu\n",
      "\n",
      "Classification Results:\n",
      "Sentence: Paris is the capital of France\n",
      "Objective Score: 0.9981\n",
      "Subjective Score: 0.0019\n",
      "Classification: FACT\n",
      "Inference Time: 0.1420 seconds\n"
     ]
    }
   ],
   "source": [
    "import torch\n",
    "import time\n",
    "from transformers import AutoTokenizer, AutoModelForSequenceClassification\n",
    "\n",
    "def classify_sentence(model_name, sentence):\n",
    "    \"\"\"\n",
    "    Classify a sentence as FACT or OPINION using a pre-trained model.\n",
    "    \n",
    "    Args:\n",
    "        model_name (str): Name of the pre-trained model to use\n",
    "        sentence (str): Sentence to classify\n",
    "        \n",
    "    Returns:\n",
    "        dict: Classification results including scores, classification, and inference time\n",
    "    \"\"\"\n",
    "    # Set device (GPU if available, otherwise CPU)\n",
    "    device = \"cuda\" if torch.cuda.is_available() else \"cpu\"\n",
    "    \n",
    "    # Load tokenizer and model\n",
    "    print(f\"Loading model: {model_name} on {device}\")\n",
    "    tokenizer = AutoTokenizer.from_pretrained(model_name)\n",
    "    model = AutoModelForSequenceClassification.from_pretrained(model_name)\n",
    "    model.to(device)\n",
    "    model.eval()\n",
    "    \n",
    "    # Measure inference time\n",
    "    start_time = time.time()\n",
    "    \n",
    "    # Tokenize input and move to device\n",
    "    inputs = tokenizer(sentence, return_tensors=\"pt\", truncation=True, padding=True).to(device)\n",
    "    \n",
    "    # Perform inference\n",
    "    with torch.no_grad():\n",
    "        outputs = model(**inputs)\n",
    "    \n",
    "    # Get probabilities\n",
    "    probs = torch.nn.functional.softmax(outputs.logits, dim=-1)\n",
    "    \n",
    "    # Assuming: 0 = objective/fact, 1 = subjective/opinion\n",
    "    obj_score = probs[0][1].item()\n",
    "    subj_score = probs[0][0].item()\n",
    "    classification = \"FACT\" if obj_score > subj_score else \"OPINION\"\n",
    "    \n",
    "    end_time = time.time()\n",
    "    inference_time = end_time - start_time\n",
    "    \n",
    "    # Prepare results\n",
    "    result = {\n",
    "        \"sentence\": sentence,\n",
    "        \"objective_score\": obj_score,\n",
    "        \"subjective_score\": subj_score,\n",
    "        \"classification\": classification,\n",
    "        \"inference_time_seconds\": inference_time\n",
    "    }\n",
    "    \n",
    "    return result\n",
    "\n",
    "# Main execution\n",
    "if __name__ == \"__main__\":\n",
    "    # Pre-trained model to use\n",
    "    model_name = \"lighteternal/fact-or-opinion-xlmr-el\"\n",
    "    \n",
    "    # Sample sentence to classify\n",
    "    sentence = \"In my opinion, this is the best movie ever made.\"\n",
    "    sentence = \"I'm so happy about this new opportunity!\"\n",
    "    sentence = \"Paris is the capital of France\"\n",
    "    \n",
    "    # Classify the sentence\n",
    "    result = classify_sentence(model_name, sentence)\n",
    "    \n",
    "    # Print results\n",
    "    print(\"\\nClassification Results:\")\n",
    "    print(f\"Sentence: {result['sentence']}\")\n",
    "    print(f\"Objective Score: {result['objective_score']:.4f}\")\n",
    "    print(f\"Subjective Score: {result['subjective_score']:.4f}\")\n",
    "    print(f\"Classification: {result['classification']}\")\n",
    "    print(f\"Inference Time: {result['inference_time_seconds']:.4f} seconds\")"
   ]
  }
 ],
 "metadata": {
  "kernelspec": {
   "display_name": "miaa",
   "language": "python",
   "name": "python3"
  },
  "language_info": {
   "codemirror_mode": {
    "name": "ipython",
    "version": 3
   },
   "file_extension": ".py",
   "mimetype": "text/x-python",
   "name": "python",
   "nbconvert_exporter": "python",
   "pygments_lexer": "ipython3",
   "version": "3.10.14"
  }
 },
 "nbformat": 4,
 "nbformat_minor": 2
}
