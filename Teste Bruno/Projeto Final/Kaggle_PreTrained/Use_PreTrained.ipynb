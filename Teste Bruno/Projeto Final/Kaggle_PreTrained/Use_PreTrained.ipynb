{
 "cells": [
  {
   "cell_type": "code",
   "execution_count": 1,
   "metadata": {},
   "outputs": [],
   "source": [
    "import pickle\n",
    "import numpy as np\n",
    "import librosa\n",
    "import tensorflow as tf\n",
    "from tensorflow.keras.models import model_from_json"
   ]
  },
  {
   "cell_type": "code",
   "execution_count": 2,
   "metadata": {},
   "outputs": [
    {
     "name": "stdout",
     "output_type": "stream",
     "text": [
      "Loaded model from disk\n"
     ]
    }
   ],
   "source": [
    "# -----------------------------\n",
    "# Load the pre-trained model\n",
    "# -----------------------------\n",
    "# Load the model architecture from JSON file\n",
    "with open('CNN_model.json', 'r') as json_file:\n",
    "    loaded_model_json = json_file.read()\n",
    "loaded_model = model_from_json(loaded_model_json)\n",
    "\n",
    "# Load the weights into the model\n",
    "loaded_model.load_weights('best_model1_weights.h5')\n",
    "print(\"Loaded model from disk\")\n",
    "\n",
    "# Compile the model (required before prediction)\n",
    "loaded_model.compile(optimizer='adam', loss='categorical_crossentropy', metrics=['accuracy'])"
   ]
  },
  {
   "cell_type": "code",
   "execution_count": 3,
   "metadata": {},
   "outputs": [
    {
     "name": "stdout",
     "output_type": "stream",
     "text": [
      "Loaded scaler and encoder\n",
      "Loaded encoder and patched missing attributes.\n"
     ]
    },
    {
     "name": "stderr",
     "output_type": "stream",
     "text": [
      "e:\\miniconda3\\envs\\proj\\lib\\site-packages\\sklearn\\base.py:380: InconsistentVersionWarning: Trying to unpickle estimator StandardScaler from version 1.0.2 when using version 1.6.1. This might lead to breaking code or invalid results. Use at your own risk. For more info please refer to:\n",
      "https://scikit-learn.org/stable/model_persistence.html#security-maintainability-limitations\n",
      "  warnings.warn(\n",
      "e:\\miniconda3\\envs\\proj\\lib\\site-packages\\sklearn\\base.py:380: InconsistentVersionWarning: Trying to unpickle estimator OneHotEncoder from version 1.0.2 when using version 1.6.1. This might lead to breaking code or invalid results. Use at your own risk. For more info please refer to:\n",
      "https://scikit-learn.org/stable/model_persistence.html#security-maintainability-limitations\n",
      "  warnings.warn(\n"
     ]
    }
   ],
   "source": [
    "# -----------------------------\n",
    "# Load the scaler and encoder\n",
    "# -----------------------------\n",
    "with open('scaler2.pickle', 'rb') as f:\n",
    "    scaler = pickle.load(f)\n",
    "with open('encoder2.pickle', 'rb') as f:\n",
    "    encoder = pickle.load(f)\n",
    "print(\"Loaded scaler and encoder\")\n",
    "\n",
    "# Patch missing attributes if needed\n",
    "if not hasattr(encoder, '_n_features_outs'):\n",
    "    encoder._n_features_outs = sum(len(cat) for cat in encoder.categories_)\n",
    "if not hasattr(encoder, '_infrequent_enabled'):\n",
    "    encoder._infrequent_enabled = False\n",
    "if not hasattr(encoder, '_drop_idx_after_grouping'):\n",
    "    encoder._drop_idx_after_grouping = None\n",
    "\n",
    "print(\"Loaded encoder and patched missing attributes.\")"
   ]
  },
  {
   "cell_type": "code",
   "execution_count": 4,
   "metadata": {},
   "outputs": [],
   "source": [
    "# -----------------------------\n",
    "# Feature extraction functions\n",
    "# -----------------------------\n",
    "def zcr(data, frame_length, hop_length):\n",
    "    \"\"\"Compute the zero crossing rate\"\"\"\n",
    "    return np.squeeze(librosa.feature.zero_crossing_rate(data, frame_length=frame_length, hop_length=hop_length))\n",
    "\n",
    "\n",
    "def rmse(data, frame_length=2048, hop_length=512):\n",
    "    \"\"\"Compute the root mean square energy\"\"\"\n",
    "    return np.squeeze(librosa.feature.rms(y=data, frame_length=frame_length, hop_length=hop_length))\n",
    "   \n",
    "\n",
    "def mfcc(data, sr, frame_length=2048, hop_length=512, flatten=True):\n",
    "    mfcc_features = librosa.feature.mfcc(y=data, sr=sr, n_mfcc=30)\n",
    "    if flatten:\n",
    "        return np.ravel(mfcc_features.T)\n",
    "    else:\n",
    "        return np.squeeze(mfcc_features.T)\n",
    "\n",
    "def compute_mfcc(data, sr, frame_length=2048, hop_length=512, flatten=True):\n",
    "    # Use n_mfcc=20 to match the training configuration\n",
    "    mfcc_features = librosa.feature.mfcc(y=data, sr=sr, n_mfcc=20)\n",
    "    return np.squeeze(mfcc_features.T) if not flatten else np.ravel(mfcc_features.T)\n",
    "\n",
    "\n",
    "def extract_features(data, sr=22050, frame_length=2048, hop_length=512):\n",
    "    features = np.hstack((\n",
    "        zcr(data, frame_length, hop_length),\n",
    "        rmse(data, frame_length, hop_length),\n",
    "        compute_mfcc(data, sr, frame_length, hop_length)\n",
    "    ))\n",
    "    return features\n",
    "\n",
    "\n",
    "def get_predict_feat(path):\n",
    "    \"\"\"\n",
    "    Load an audio file, extract its features, scale and reshape them to be ready for prediction.\n",
    "    \"\"\"\n",
    "    # Load audio file with a fixed duration and offset\n",
    "    data, sr = librosa.load(path, duration=2.5, offset=0.6)\n",
    "    features = extract_features(data, sr)\n",
    "    \n",
    "    # Reshape to match the model's expected input (1, num_features)\n",
    "    result = np.array(features).reshape(1, -1)\n",
    "    \n",
    "    # Scale the features using the loaded scaler\n",
    "    result = scaler.transform(result)\n",
    "    \n",
    "    # Expand dims to add a channel dimension: (1, num_features, 1)\n",
    "    result = np.expand_dims(result, axis=2)\n",
    "    return result"
   ]
  },
  {
   "cell_type": "code",
   "execution_count": 5,
   "metadata": {},
   "outputs": [],
   "source": [
    "\n",
    "# -----------------------------\n",
    "# Prediction function\n",
    "# -----------------------------\n",
    "def predict_emotion(audio_path):\n",
    "    \"\"\"\n",
    "    Predict the emotion from an audio file.\n",
    "    \n",
    "    Parameters:\n",
    "        audio_path (str): Path to the audio file.\n",
    "        \n",
    "    Returns:\n",
    "        str: Predicted emotion label.\n",
    "    \"\"\"\n",
    "    features = get_predict_feat(audio_path)\n",
    "    predictions = loaded_model.predict(features)\n",
    "    # Inverse transform the one-hot prediction to get the emotion label\n",
    "    predicted_emotion = encoder.inverse_transform(predictions)\n",
    "    return predicted_emotion[0][0]\n",
    "\n",
    "\n"
   ]
  },
  {
   "cell_type": "code",
   "execution_count": 6,
   "metadata": {},
   "outputs": [
    {
     "name": "stdout",
     "output_type": "stream",
     "text": [
      "1/1 [==============================] - 0s 143ms/step\n",
      "Predicted emotion: angry\n"
     ]
    }
   ],
   "source": [
    "# -----------------------------\n",
    "# Example usage\n",
    "# -----------------------------\n",
    "if __name__ == '__main__':\n",
    "    # Replace with the path to your audio file for prediction\n",
    "    test_audio_path = r'audio/angry.wav'\n",
    "    emotion = predict_emotion(test_audio_path)\n",
    "    print(\"Predicted emotion:\", emotion)"
   ]
  },
  {
   "cell_type": "code",
   "execution_count": 7,
   "metadata": {},
   "outputs": [
    {
     "name": "stdout",
     "output_type": "stream",
     "text": [
      "1/1 [==============================] - 0s 11ms/step\n",
      "Predicted emotion: disgust\n"
     ]
    }
   ],
   "source": [
    "# -----------------------------\n",
    "# Example usage\n",
    "# -----------------------------\n",
    "if __name__ == '__main__':\n",
    "    # Replace with the path to your audio file for prediction\n",
    "    test_audio_path = r'audio/enjoy.wav'\n",
    "    emotion = predict_emotion(test_audio_path)\n",
    "    print(\"Predicted emotion:\", emotion)"
   ]
  },
  {
   "cell_type": "code",
   "execution_count": 8,
   "metadata": {},
   "outputs": [
    {
     "name": "stdout",
     "output_type": "stream",
     "text": [
      "1/1 [==============================] - 0s 10ms/step\n",
      "Predicted emotion: angry\n"
     ]
    }
   ],
   "source": [
    "# -----------------------------\n",
    "# Example usage\n",
    "# -----------------------------\n",
    "if __name__ == '__main__':\n",
    "    # Replace with the path to your audio file for prediction\n",
    "    test_audio_path = r'audio/happy.wav'\n",
    "    emotion = predict_emotion(test_audio_path)\n",
    "    print(\"Predicted emotion:\", emotion)"
   ]
  },
  {
   "cell_type": "code",
   "execution_count": 9,
   "metadata": {},
   "outputs": [
    {
     "name": "stdout",
     "output_type": "stream",
     "text": [
      "1/1 [==============================] - 0s 11ms/step\n",
      "Predicted emotion: angry\n"
     ]
    }
   ],
   "source": [
    "# -----------------------------\n",
    "# Example usage\n",
    "# -----------------------------\n",
    "if __name__ == '__main__':\n",
    "    # Replace with the path to your audio file for prediction\n",
    "    test_audio_path = r'audio/neutral.wav'\n",
    "    emotion = predict_emotion(test_audio_path)\n",
    "    print(\"Predicted emotion:\", emotion)"
   ]
  },
  {
   "cell_type": "code",
   "execution_count": 10,
   "metadata": {},
   "outputs": [
    {
     "name": "stdout",
     "output_type": "stream",
     "text": [
      "1/1 [==============================] - 0s 11ms/step\n",
      "Predicted emotion: angry\n"
     ]
    }
   ],
   "source": [
    "# -----------------------------\n",
    "# Example usage\n",
    "# -----------------------------\n",
    "if __name__ == '__main__':\n",
    "    # Replace with the path to your audio file for prediction\n",
    "    test_audio_path = r'audio/low_volume.wav'\n",
    "    emotion = predict_emotion(test_audio_path)\n",
    "    print(\"Predicted emotion:\", emotion)"
   ]
  }
 ],
 "metadata": {
  "kernelspec": {
   "display_name": "proj",
   "language": "python",
   "name": "python3"
  },
  "language_info": {
   "codemirror_mode": {
    "name": "ipython",
    "version": 3
   },
   "file_extension": ".py",
   "mimetype": "text/x-python",
   "name": "python",
   "nbconvert_exporter": "python",
   "pygments_lexer": "ipython3",
   "version": "3.10.16"
  }
 },
 "nbformat": 4,
 "nbformat_minor": 2
}
