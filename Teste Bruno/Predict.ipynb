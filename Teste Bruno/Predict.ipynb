{
 "cells": [
  {
   "cell_type": "code",
   "execution_count": 3,
   "metadata": {},
   "outputs": [],
   "source": [
    "import pickle\n",
    "import numpy as np\n",
    "from sentence_transformers import SentenceTransformer\n",
    "from sklearn.feature_extraction.text import TfidfVectorizer\n"
   ]
  },
  {
   "cell_type": "code",
   "execution_count": 4,
   "metadata": {},
   "outputs": [],
   "source": [
    "\n",
    "# Load the saved models\n",
    "with open(\"best_model_Type.pkl\", \"rb\") as f:\n",
    "    type_model = pickle.load(f)\n",
    "\n",
    "with open(\"best_model_Factuality.pkl\", \"rb\") as f:\n",
    "    fact_model = pickle.load(f)\n",
    "\n",
    "with open(\"best_model_Sentiment.pkl\", \"rb\") as f:\n",
    "    sentiment_model = pickle.load(f)"
   ]
  },
  {
   "cell_type": "code",
   "execution_count": 5,
   "metadata": {},
   "outputs": [],
   "source": [
    "# Example sentences\n",
    "sentences = [\n",
    "    \"I love spending time with my family.\",\n",
    "    \"The weather is terrible today.\",\n",
    "    \"I like ice cream.\",\n",
    "    \"I hate long car trips.\",\n",
    "    \"The sky is blue.\",\n",
    "    \"A gun is dangerous.\",\n",
    "    \"Today we will talk about meat\",\n",
    "    \"I'm not sure if I agree with you.\"\n",
    "]\n",
    "\n",
    "# Encode the sentences into embeddings\n"
   ]
  },
  {
   "cell_type": "code",
   "execution_count": 6,
   "metadata": {},
   "outputs": [],
   "source": [
    "# Load the same sentence embedding model\n",
    "encoder = SentenceTransformer(\"sentence-transformers/all-mpnet-base-v2\")\n",
    "X_SenTrans = encoder.encode(sentences)"
   ]
  },
  {
   "cell_type": "code",
   "execution_count": 7,
   "metadata": {},
   "outputs": [
    {
     "name": "stdout",
     "output_type": "stream",
     "text": [
      "(8, 2754)\n"
     ]
    }
   ],
   "source": [
    "# Load TF-IDF vectorizer\n",
    "with open(\"tfidf_vectorizer.pkl\", \"rb\") as f:\n",
    "    vectorizer_fixed = pickle.load(f)\n",
    "\n",
    "# vectorizer \n",
    "X_tfidf = vectorizer_fixed.transform(sentences)\n",
    "\n",
    "print(X_tfidf.shape)  # (num_samples, 5000)"
   ]
  },
  {
   "cell_type": "code",
   "execution_count": 8,
   "metadata": {},
   "outputs": [],
   "source": [
    "# Make predictions\n",
    "try:\n",
    "    type_predictions = type_model.predict(X_SenTrans)\n",
    "except Exception:\n",
    "    type_predictions = type_model.predict(X_tfidf)\n",
    "\n",
    "try:\n",
    "    fact_predictions = fact_model.predict(X_SenTrans)\n",
    "except Exception:\n",
    "    fact_predictions = fact_model.predict(X_tfidf)\n",
    "\n",
    "try:\n",
    "    sentiment_predictions = sentiment_model.predict(X_SenTrans)\n",
    "except Exception:\n",
    "    sentiment_predictions = sentiment_model.predict(X_tfidf)\n"
   ]
  },
  {
   "cell_type": "code",
   "execution_count": 9,
   "metadata": {},
   "outputs": [],
   "source": [
    "# Mapping predictions back to labels\n",
    "type_mapping = {0: \"Affirmation\", 1: \"Negation\"}\n",
    "fact_subj_mapping = {0: \"Factual\", 1: \"Subjective\"}\n",
    "sentiment_mapping = {0: \"Sadness\", 1: \"Anger\", 2: \"Neutral\", 3: \"Happiness\", 4: \"Euphoria\"}"
   ]
  },
  {
   "cell_type": "code",
   "execution_count": 10,
   "metadata": {},
   "outputs": [
    {
     "name": "stdout",
     "output_type": "stream",
     "text": [
      "Sentence: I love spending time with my family.\n",
      "  Predicted Type: Affirmation\n",
      "  Predicted Factual/Subjective: Subjective\n",
      "  Predicted Sentiment: Happiness\n",
      "\n",
      "Sentence: The weather is terrible today.\n",
      "  Predicted Type: Affirmation\n",
      "  Predicted Factual/Subjective: Subjective\n",
      "  Predicted Sentiment: Sadness\n",
      "\n",
      "Sentence: I like ice cream.\n",
      "  Predicted Type: Affirmation\n",
      "  Predicted Factual/Subjective: Subjective\n",
      "  Predicted Sentiment: Neutral\n",
      "\n",
      "Sentence: I hate long car trips.\n",
      "  Predicted Type: Affirmation\n",
      "  Predicted Factual/Subjective: Subjective\n",
      "  Predicted Sentiment: Anger\n",
      "\n",
      "Sentence: The sky is blue.\n",
      "  Predicted Type: Affirmation\n",
      "  Predicted Factual/Subjective: Factual\n",
      "  Predicted Sentiment: Neutral\n",
      "\n",
      "Sentence: A gun is dangerous.\n",
      "  Predicted Type: Negation\n",
      "  Predicted Factual/Subjective: Factual\n",
      "  Predicted Sentiment: Neutral\n",
      "\n",
      "Sentence: Today we will talk about meat\n",
      "  Predicted Type: Affirmation\n",
      "  Predicted Factual/Subjective: Subjective\n",
      "  Predicted Sentiment: Neutral\n",
      "\n",
      "Sentence: I'm not sure if I agree with you.\n",
      "  Predicted Type: Negation\n",
      "  Predicted Factual/Subjective: Subjective\n",
      "  Predicted Sentiment: Anger\n",
      "\n"
     ]
    }
   ],
   "source": [
    "# Print results\n",
    "for i, sentence in enumerate(sentences):\n",
    "    type_label = type_mapping.get(type_predictions[i], \"Unknown\")\n",
    "    fact_label = fact_subj_mapping.get(fact_predictions[i], \"Unknown\")\n",
    "    sentiment_label = sentiment_mapping.get(sentiment_predictions[i], \"Unknown\")\n",
    "    \n",
    "    print(f\"Sentence: {sentence}\")\n",
    "    print(f\"  Predicted Type: {type_label}\")\n",
    "    print(f\"  Predicted Factual/Subjective: {fact_label}\")\n",
    "    print(f\"  Predicted Sentiment: {sentiment_label}\\n\")\n"
   ]
  }
 ],
 "metadata": {
  "kernelspec": {
   "display_name": "teste",
   "language": "python",
   "name": "python3"
  },
  "language_info": {
   "codemirror_mode": {
    "name": "ipython",
    "version": 3
   },
   "file_extension": ".py",
   "mimetype": "text/x-python",
   "name": "python",
   "nbconvert_exporter": "python",
   "pygments_lexer": "ipython3",
   "version": "3.10.16"
  }
 },
 "nbformat": 4,
 "nbformat_minor": 2
}
