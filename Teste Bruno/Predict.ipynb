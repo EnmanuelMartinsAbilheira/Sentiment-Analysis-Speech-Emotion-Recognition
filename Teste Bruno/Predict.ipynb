{
 "cells": [
  {
   "cell_type": "code",
   "execution_count": null,
   "metadata": {},
   "outputs": [],
   "source": [
    "import pickle\n",
    "import numpy as np\n",
    "from sentence_transformers import SentenceTransformer\n"
   ]
  },
  {
   "cell_type": "code",
   "execution_count": null,
   "metadata": {},
   "outputs": [],
   "source": [
    "# Load the same sentence embedding model\n",
    "encoder = SentenceTransformer(\"sentence-transformers/all-mpnet-base-v2\")\n",
    "\n",
    "# Load the saved models\n",
    "with open(\"type_model.pkl\", \"rb\") as f:\n",
    "    type_model = pickle.load(f)\n",
    "\n",
    "with open(\"fact_model.pkl\", \"rb\") as f:\n",
    "    fact_model = pickle.load(f)\n",
    "\n",
    "with open(\"sentiment_model.pkl\", \"rb\") as f:\n",
    "    sentiment_model = pickle.load(f)"
   ]
  },
  {
   "cell_type": "code",
   "execution_count": null,
   "metadata": {},
   "outputs": [],
   "source": [
    "# Example sentences\n",
    "sentences = [\n",
    "    \"I love spending time with my family.\",\n",
    "    \"The weather is terrible today.\",\n",
    "    \"This is a factual statement.\",\n",
    "    \"I'm not sure if I agree with you.\"\n",
    "]\n",
    "\n",
    "# Encode the sentences into embeddings\n",
    "X_new = encoder.encode(sentences)"
   ]
  },
  {
   "cell_type": "code",
   "execution_count": null,
   "metadata": {},
   "outputs": [],
   "source": [
    "# Make predictions\n",
    "type_predictions = type_model.predict(X_new)\n",
    "fact_predictions = fact_model.predict(X_new)\n",
    "sentiment_predictions = sentiment_model.predict(X_new)"
   ]
  },
  {
   "cell_type": "code",
   "execution_count": null,
   "metadata": {},
   "outputs": [],
   "source": [
    "# Mapping predictions back to labels\n",
    "type_mapping = {0: \"Affirmation\", 1: \"Negation\"}\n",
    "fact_subj_mapping = {0: \"Factual\", 1: \"Subjective\"}\n",
    "sentiment_mapping = {0: \"Sadness\", 1: \"Anger\", 2: \"Neutral\", 3: \"Happiness\", 4: \"Euphoria\"}"
   ]
  },
  {
   "cell_type": "code",
   "execution_count": null,
   "metadata": {},
   "outputs": [
    {
     "name": "stdout",
     "output_type": "stream",
     "text": [
      "Sentence: I love spending time with my family.\n",
      "  Predicted Type: Affirmation\n",
      "  Predicted Factual/Subjective: Subjective\n",
      "  Predicted Sentiment: Happiness\n",
      "\n",
      "Sentence: The weather is terrible today.\n",
      "  Predicted Type: Affirmation\n",
      "  Predicted Factual/Subjective: Factual\n",
      "  Predicted Sentiment: Anger\n",
      "\n",
      "Sentence: This is a factual statement.\n",
      "  Predicted Type: Negation\n",
      "  Predicted Factual/Subjective: Subjective\n",
      "  Predicted Sentiment: Neutral\n",
      "\n",
      "Sentence: I'm not sure if I agree with you.\n",
      "  Predicted Type: Negation\n",
      "  Predicted Factual/Subjective: Subjective\n",
      "  Predicted Sentiment: Anger\n",
      "\n"
     ]
    }
   ],
   "source": [
    "# Print results\n",
    "for i, sentence in enumerate(sentences):\n",
    "    type_label = type_mapping.get(type_predictions[i], \"Unknown\")\n",
    "    fact_label = fact_subj_mapping.get(fact_predictions[i], \"Unknown\")\n",
    "    sentiment_label = sentiment_mapping.get(sentiment_predictions[i], \"Unknown\")\n",
    "    \n",
    "    print(f\"Sentence: {sentence}\")\n",
    "    print(f\"  Predicted Type: {type_label}\")\n",
    "    print(f\"  Predicted Factual/Subjective: {fact_label}\")\n",
    "    print(f\"  Predicted Sentiment: {sentiment_label}\\n\")\n"
   ]
  }
 ],
 "metadata": {
  "kernelspec": {
   "display_name": "MIAA",
   "language": "python",
   "name": "python3"
  },
  "language_info": {
   "codemirror_mode": {
    "name": "ipython",
    "version": 3
   },
   "file_extension": ".py",
   "mimetype": "text/x-python",
   "name": "python",
   "nbconvert_exporter": "python",
   "pygments_lexer": "ipython3",
   "version": "3.10.16"
  }
 },
 "nbformat": 4,
 "nbformat_minor": 2
}
