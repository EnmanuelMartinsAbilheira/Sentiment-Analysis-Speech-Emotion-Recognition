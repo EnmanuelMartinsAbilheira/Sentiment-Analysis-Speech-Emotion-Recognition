{
 "cells": [
  {
   "cell_type": "code",
   "execution_count": null,
   "metadata": {},
   "outputs": [],
   "source": [
    "# %% Install dependencies (Uncomment and run if needed)\n",
    "# ! pip install accelerate torch\n",
    "# ! pip install -U git+https://github.com/PrithivirajDamodaran/Gramformer.git\n",
    "# ! pip install -U pip setuptools wheel\n",
    "# ! pip install -U spacy\n",
    "# ! python -m spacy download en_core_web_sm"
   ]
  },
  {
   "cell_type": "code",
   "execution_count": null,
   "metadata": {},
   "outputs": [],
   "source": [
    "# %% Import necessary libraries\n",
    "import torch\n",
    "from transformers import pipeline\n",
    "from gramformer import Gramformer"
   ]
  },
  {
   "cell_type": "code",
   "execution_count": null,
   "metadata": {},
   "outputs": [],
   "source": [
    "# %% Load LLaMA model\n",
    "model_id = \"unsloth/Llama-3.2-3B-Instruct\"\n",
    "pipe = pipeline(\n",
    "    \"text-generation\",\n",
    "    model=model_id,\n",
    "    torch_dtype=torch.bfloat16,\n",
    "    device_map=\"auto\",\n",
    ")"
   ]
  },
  {
   "cell_type": "code",
   "execution_count": null,
   "metadata": {},
   "outputs": [],
   "source": [
    "# %% Load Gramformer model\n",
    "gf = Gramformer(models=1, use_gpu=False)  # 1=corrector, 2=detector"
   ]
  },
  {
   "cell_type": "code",
   "execution_count": null,
   "metadata": {},
   "outputs": [],
   "source": [
    "# %% Function to correct grammar using LLaMA\n",
    "def correct_with_llama(sentence):\n",
    "    messages = [\n",
    "        {\"role\": \"system\", \"content\": \"Act as a spelling corrector. For every sentence I provide, return only the corrected version without any explanations or additional text.\"},\n",
    "        {\"role\": \"user\", \"content\": sentence},\n",
    "    ]\n",
    "    outputs = pipe(messages, max_new_tokens=256)\n",
    "    return (outputs[0][\"generated_text\"])[-1]['content']"
   ]
  },
  {
   "cell_type": "code",
   "execution_count": null,
   "metadata": {},
   "outputs": [],
   "source": [
    "# %% Test multiple sentences\n",
    "sentences = [\n",
    "    \"I dont no where my phone is.\",\n",
    "    \"She go to the market yesterday.\",\n",
    "    \"He do not likes playing football.\",\n",
    "    \"The dog barked on the strangers.\",\n",
    "    \"Their going too the party later.\",\n",
    "]"
   ]
  },
  {
   "cell_type": "code",
   "execution_count": null,
   "metadata": {},
   "outputs": [
    {
     "name": "stdout",
     "output_type": "stream",
     "text": [
      "Original: I dont no where my phone is.\n",
      "     LLaMA Correction: I don't know where my phone is.\n",
      "Gramformer Correction: I dont know where my phone is.\n",
      "--------------------------------------------------\n",
      "Original: She go to the market yesterday.\n",
      "     LLaMA Correction: She went to the market yesterday.\n",
      "Gramformer Correction: She went to the market yesterday.\n",
      "--------------------------------------------------\n",
      "Original: He do not likes playing football.\n",
      "     LLaMA Correction: He does not like playing football.\n",
      "Gramformer Correction: He does not like playing football.\n",
      "--------------------------------------------------\n",
      "Original: The dog barked on the strangers.\n",
      "     LLaMA Correction: The dog barked at the strangers.\n",
      "Gramformer Correction: The dog barked at the strangers.\n",
      "--------------------------------------------------\n",
      "Original: Their going too the party later.\n",
      "     LLaMA Correction: They're going to the party later.\n",
      "Gramformer Correction: Their going to the party later.\n",
      "--------------------------------------------------\n"
     ]
    }
   ],
   "source": [
    "# %% Run corrections\n",
    "for sentence in sentences:\n",
    "    print(f\"Original: {sentence}\")\n",
    "\n",
    "    llama_correction = correct_with_llama(sentence)\n",
    "    print(\"     LLaMA Correction:\", llama_correction)\n",
    "\n",
    "    gramformer_correction = gf.correct(sentence, max_candidates=1)\n",
    "    for corrected_sentence in gramformer_correction:\n",
    "        print(\"Gramformer Correction:\",corrected_sentence)\n",
    "\n",
    "\n",
    "    print(\"-\" * 100)\n"
   ]
  }
 ],
 "metadata": {
  "kernelspec": {
   "display_name": "MIAA",
   "language": "python",
   "name": "python3"
  },
  "language_info": {
   "codemirror_mode": {
    "name": "ipython",
    "version": 3
   },
   "file_extension": ".py",
   "mimetype": "text/x-python",
   "name": "python",
   "nbconvert_exporter": "python",
   "pygments_lexer": "ipython3",
   "version": "3.10.16"
  }
 },
 "nbformat": 4,
 "nbformat_minor": 2
}
